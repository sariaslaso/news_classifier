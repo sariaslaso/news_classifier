{
 "cells": [
  {
   "cell_type": "code",
   "execution_count": null,
   "id": "08b62b7e",
   "metadata": {},
   "outputs": [],
   "source": [
    "# read the data from the Fake.csv and True.csv files and create training, validation and test sets"
   ]
  },
  {
   "cell_type": "code",
   "execution_count": 2,
   "id": "966f8292",
   "metadata": {},
   "outputs": [],
   "source": [
    "import pandas as pd\n",
    "import numpy as np\n",
    "import tensorflow as tf\n",
    "import matplotlib.pyplot as plt\n",
    "\n",
    "from sklearn.model_selection import train_test_split\n",
    "from tensorflow.keras.layers.experimental.preprocessing import TextVectorization\n",
    "from tensorflow.keras import layers\n",
    "from tensorflow.keras.models import Sequential\n",
    "\n",
    "from tf_mcc import MCC"
   ]
  },
  {
   "cell_type": "code",
   "execution_count": 2,
   "id": "d5f4f7f6",
   "metadata": {},
   "outputs": [],
   "source": [
    "from zipfile import ZipFile\n",
    "\n",
    "def unzip(file_name, final_path):\n",
    "    with ZipFile(file_name, \"r\") as zipObj:\n",
    "        zipObj.extractall(path = final_path)\n",
    "\n",
    "unzip(\"dataset/Fake.csv.zip\", \"dataset/\")\n",
    "unzip(\"dataset/True.csv.zip\", \"dataset/\")\n",
    "        "
   ]
  },
  {
   "cell_type": "code",
   "execution_count": 3,
   "id": "9d2ed97d",
   "metadata": {},
   "outputs": [],
   "source": [
    "fake = pd.read_csv('dataset/Fake.csv')\n",
    "true = pd.read_csv('dataset/True.csv')"
   ]
  },
  {
   "cell_type": "code",
   "execution_count": 71,
   "id": "1065e72b",
   "metadata": {},
   "outputs": [],
   "source": [
    "# true.isnull().any()\n",
    "# fake.isnull().any()"
   ]
  },
  {
   "cell_type": "code",
   "execution_count": 4,
   "id": "641456f6",
   "metadata": {},
   "outputs": [],
   "source": [
    "# remove rows of text with empty strings \n",
    "fake = fake.drop(fake[fake.text == \" \"].index)\n",
    "true = true.drop(true[true.text == \" \"].index)"
   ]
  },
  {
   "cell_type": "code",
   "execution_count": 5,
   "id": "a54d7b8c",
   "metadata": {},
   "outputs": [],
   "source": [
    "# add binary column that indicates if the news are True (1) or Fake (0) \n",
    "fake[\"classification\"] = 0\n",
    "true[\"classification\"] = 1"
   ]
  },
  {
   "cell_type": "code",
   "execution_count": 6,
   "id": "7cab9810",
   "metadata": {},
   "outputs": [],
   "source": [
    "# combine the Fake and True dataframes \n",
    "frames = [fake, true]\n",
    "result = pd.concat(frames, ignore_index = True)"
   ]
  },
  {
   "cell_type": "code",
   "execution_count": 7,
   "id": "3e505fa9",
   "metadata": {},
   "outputs": [
    {
     "data": {
      "text/html": [
       "<div>\n",
       "<style scoped>\n",
       "    .dataframe tbody tr th:only-of-type {\n",
       "        vertical-align: middle;\n",
       "    }\n",
       "\n",
       "    .dataframe tbody tr th {\n",
       "        vertical-align: top;\n",
       "    }\n",
       "\n",
       "    .dataframe thead th {\n",
       "        text-align: right;\n",
       "    }\n",
       "</style>\n",
       "<table border=\"1\" class=\"dataframe\">\n",
       "  <thead>\n",
       "    <tr style=\"text-align: right;\">\n",
       "      <th></th>\n",
       "      <th>title</th>\n",
       "      <th>text</th>\n",
       "      <th>subject</th>\n",
       "      <th>date</th>\n",
       "      <th>classification</th>\n",
       "    </tr>\n",
       "  </thead>\n",
       "  <tbody>\n",
       "    <tr>\n",
       "      <th>0</th>\n",
       "      <td>Donald Trump Sends Out Embarrassing New Year’...</td>\n",
       "      <td>Donald Trump just couldn t wish all Americans ...</td>\n",
       "      <td>News</td>\n",
       "      <td>December 31, 2017</td>\n",
       "      <td>0</td>\n",
       "    </tr>\n",
       "    <tr>\n",
       "      <th>1</th>\n",
       "      <td>Drunk Bragging Trump Staffer Started Russian ...</td>\n",
       "      <td>House Intelligence Committee Chairman Devin Nu...</td>\n",
       "      <td>News</td>\n",
       "      <td>December 31, 2017</td>\n",
       "      <td>0</td>\n",
       "    </tr>\n",
       "    <tr>\n",
       "      <th>2</th>\n",
       "      <td>Sheriff David Clarke Becomes An Internet Joke...</td>\n",
       "      <td>On Friday, it was revealed that former Milwauk...</td>\n",
       "      <td>News</td>\n",
       "      <td>December 30, 2017</td>\n",
       "      <td>0</td>\n",
       "    </tr>\n",
       "    <tr>\n",
       "      <th>3</th>\n",
       "      <td>Trump Is So Obsessed He Even Has Obama’s Name...</td>\n",
       "      <td>On Christmas day, Donald Trump announced that ...</td>\n",
       "      <td>News</td>\n",
       "      <td>December 29, 2017</td>\n",
       "      <td>0</td>\n",
       "    </tr>\n",
       "    <tr>\n",
       "      <th>4</th>\n",
       "      <td>Pope Francis Just Called Out Donald Trump Dur...</td>\n",
       "      <td>Pope Francis used his annual Christmas Day mes...</td>\n",
       "      <td>News</td>\n",
       "      <td>December 25, 2017</td>\n",
       "      <td>0</td>\n",
       "    </tr>\n",
       "    <tr>\n",
       "      <th>...</th>\n",
       "      <td>...</td>\n",
       "      <td>...</td>\n",
       "      <td>...</td>\n",
       "      <td>...</td>\n",
       "      <td>...</td>\n",
       "    </tr>\n",
       "    <tr>\n",
       "      <th>44265</th>\n",
       "      <td>North Korea shipments to Syria chemical arms a...</td>\n",
       "      <td>UNITED NATIONS (Reuters) - Two North Korean sh...</td>\n",
       "      <td>worldnews</td>\n",
       "      <td>August 21, 2017</td>\n",
       "      <td>1</td>\n",
       "    </tr>\n",
       "    <tr>\n",
       "      <th>44266</th>\n",
       "      <td>'Fully committed' NATO backs new U.S. approach...</td>\n",
       "      <td>BRUSSELS (Reuters) - NATO allies on Tuesday we...</td>\n",
       "      <td>worldnews</td>\n",
       "      <td>August 22, 2017</td>\n",
       "      <td>1</td>\n",
       "    </tr>\n",
       "    <tr>\n",
       "      <th>44267</th>\n",
       "      <td>LexisNexis withdrew two products from Chinese ...</td>\n",
       "      <td>LONDON (Reuters) - LexisNexis, a provider of l...</td>\n",
       "      <td>worldnews</td>\n",
       "      <td>August 22, 2017</td>\n",
       "      <td>1</td>\n",
       "    </tr>\n",
       "    <tr>\n",
       "      <th>44268</th>\n",
       "      <td>Minsk cultural hub becomes haven from authorities</td>\n",
       "      <td>MINSK (Reuters) - In the shadow of disused Sov...</td>\n",
       "      <td>worldnews</td>\n",
       "      <td>August 22, 2017</td>\n",
       "      <td>1</td>\n",
       "    </tr>\n",
       "    <tr>\n",
       "      <th>44269</th>\n",
       "      <td>Vatican upbeat on possibility of Pope Francis ...</td>\n",
       "      <td>MOSCOW (Reuters) - Vatican Secretary of State ...</td>\n",
       "      <td>worldnews</td>\n",
       "      <td>August 22, 2017</td>\n",
       "      <td>1</td>\n",
       "    </tr>\n",
       "  </tbody>\n",
       "</table>\n",
       "<p>44270 rows × 5 columns</p>\n",
       "</div>"
      ],
      "text/plain": [
       "                                                   title  \\\n",
       "0       Donald Trump Sends Out Embarrassing New Year’...   \n",
       "1       Drunk Bragging Trump Staffer Started Russian ...   \n",
       "2       Sheriff David Clarke Becomes An Internet Joke...   \n",
       "3       Trump Is So Obsessed He Even Has Obama’s Name...   \n",
       "4       Pope Francis Just Called Out Donald Trump Dur...   \n",
       "...                                                  ...   \n",
       "44265  North Korea shipments to Syria chemical arms a...   \n",
       "44266  'Fully committed' NATO backs new U.S. approach...   \n",
       "44267  LexisNexis withdrew two products from Chinese ...   \n",
       "44268  Minsk cultural hub becomes haven from authorities   \n",
       "44269  Vatican upbeat on possibility of Pope Francis ...   \n",
       "\n",
       "                                                    text    subject  \\\n",
       "0      Donald Trump just couldn t wish all Americans ...       News   \n",
       "1      House Intelligence Committee Chairman Devin Nu...       News   \n",
       "2      On Friday, it was revealed that former Milwauk...       News   \n",
       "3      On Christmas day, Donald Trump announced that ...       News   \n",
       "4      Pope Francis used his annual Christmas Day mes...       News   \n",
       "...                                                  ...        ...   \n",
       "44265  UNITED NATIONS (Reuters) - Two North Korean sh...  worldnews   \n",
       "44266  BRUSSELS (Reuters) - NATO allies on Tuesday we...  worldnews   \n",
       "44267  LONDON (Reuters) - LexisNexis, a provider of l...  worldnews   \n",
       "44268  MINSK (Reuters) - In the shadow of disused Sov...  worldnews   \n",
       "44269  MOSCOW (Reuters) - Vatican Secretary of State ...  worldnews   \n",
       "\n",
       "                    date  classification  \n",
       "0      December 31, 2017               0  \n",
       "1      December 31, 2017               0  \n",
       "2      December 30, 2017               0  \n",
       "3      December 29, 2017               0  \n",
       "4      December 25, 2017               0  \n",
       "...                  ...             ...  \n",
       "44265   August 21, 2017                1  \n",
       "44266   August 22, 2017                1  \n",
       "44267   August 22, 2017                1  \n",
       "44268   August 22, 2017                1  \n",
       "44269   August 22, 2017                1  \n",
       "\n",
       "[44270 rows x 5 columns]"
      ]
     },
     "execution_count": 7,
     "metadata": {},
     "output_type": "execute_result"
    }
   ],
   "source": [
    "result.head(-1)"
   ]
  },
  {
   "cell_type": "code",
   "execution_count": 8,
   "id": "e07f4e56",
   "metadata": {},
   "outputs": [
    {
     "data": {
      "text/html": [
       "<div>\n",
       "<style scoped>\n",
       "    .dataframe tbody tr th:only-of-type {\n",
       "        vertical-align: middle;\n",
       "    }\n",
       "\n",
       "    .dataframe tbody tr th {\n",
       "        vertical-align: top;\n",
       "    }\n",
       "\n",
       "    .dataframe thead th {\n",
       "        text-align: right;\n",
       "    }\n",
       "</style>\n",
       "<table border=\"1\" class=\"dataframe\">\n",
       "  <thead>\n",
       "    <tr style=\"text-align: right;\">\n",
       "      <th></th>\n",
       "      <th>title</th>\n",
       "      <th>text</th>\n",
       "      <th>subject</th>\n",
       "      <th>date</th>\n",
       "      <th>classification</th>\n",
       "    </tr>\n",
       "  </thead>\n",
       "  <tbody>\n",
       "    <tr>\n",
       "      <th>1220</th>\n",
       "      <td>Comey Might Have Just Made Sure We Don’t End ...</td>\n",
       "      <td>Many of us have been ready to impeach Donald T...</td>\n",
       "      <td>News</td>\n",
       "      <td>June 8, 2017</td>\n",
       "      <td>0</td>\n",
       "    </tr>\n",
       "    <tr>\n",
       "      <th>43761</th>\n",
       "      <td>Exclusive: Cambodia says opposition party coul...</td>\n",
       "      <td>PHNOM PENH (Reuters) - Cambodia s government h...</td>\n",
       "      <td>worldnews</td>\n",
       "      <td>September 5, 2017</td>\n",
       "      <td>1</td>\n",
       "    </tr>\n",
       "    <tr>\n",
       "      <th>24279</th>\n",
       "      <td>Whirlpool's washer war is balancing act for Trump</td>\n",
       "      <td>Clyde, Ohio (Reuters) - In the middle of Whir...</td>\n",
       "      <td>politicsNews</td>\n",
       "      <td>October 4, 2017</td>\n",
       "      <td>1</td>\n",
       "    </tr>\n",
       "    <tr>\n",
       "      <th>11119</th>\n",
       "      <td>BOOM! TRUMP POLL Numbers Going Up…Up…Up! While...</td>\n",
       "      <td>Way before the election ever took place, the l...</td>\n",
       "      <td>politics</td>\n",
       "      <td>Apr 17, 2017</td>\n",
       "      <td>0</td>\n",
       "    </tr>\n",
       "    <tr>\n",
       "      <th>29975</th>\n",
       "      <td>U.S. Holocaust museum alarmed over 'hateful sp...</td>\n",
       "      <td>WASHINGTON (Reuters) - The U.S. Holocaust Memo...</td>\n",
       "      <td>politicsNews</td>\n",
       "      <td>November 22, 2016</td>\n",
       "      <td>1</td>\n",
       "    </tr>\n",
       "  </tbody>\n",
       "</table>\n",
       "</div>"
      ],
      "text/plain": [
       "                                                   title  \\\n",
       "1220    Comey Might Have Just Made Sure We Don’t End ...   \n",
       "43761  Exclusive: Cambodia says opposition party coul...   \n",
       "24279  Whirlpool's washer war is balancing act for Trump   \n",
       "11119  BOOM! TRUMP POLL Numbers Going Up…Up…Up! While...   \n",
       "29975  U.S. Holocaust museum alarmed over 'hateful sp...   \n",
       "\n",
       "                                                    text       subject  \\\n",
       "1220   Many of us have been ready to impeach Donald T...          News   \n",
       "43761  PHNOM PENH (Reuters) - Cambodia s government h...     worldnews   \n",
       "24279   Clyde, Ohio (Reuters) - In the middle of Whir...  politicsNews   \n",
       "11119  Way before the election ever took place, the l...      politics   \n",
       "29975  WASHINGTON (Reuters) - The U.S. Holocaust Memo...  politicsNews   \n",
       "\n",
       "                     date  classification  \n",
       "1220         June 8, 2017               0  \n",
       "43761  September 5, 2017                1  \n",
       "24279    October 4, 2017                1  \n",
       "11119        Apr 17, 2017               0  \n",
       "29975  November 22, 2016                1  "
      ]
     },
     "execution_count": 8,
     "metadata": {},
     "output_type": "execute_result"
    }
   ],
   "source": [
    "# generate a random sample (without replacement) of the combined dataframe\n",
    "# use random_state to make it reproducible\n",
    "corpus = result.sample(frac = 1, replace = False, random_state = 1234)\n",
    "corpus.head()"
   ]
  },
  {
   "cell_type": "code",
   "execution_count": 9,
   "id": "c4bcdf79",
   "metadata": {},
   "outputs": [],
   "source": [
    "# split into training, validation and test set\n",
    "X_features_names = [\"title\"]\n",
    "X_features = corpus[X_features_names].values\n",
    "\n",
    "X_data = X_features\n",
    "y_data = corpus[\"classification\"].values\n"
   ]
  },
  {
   "cell_type": "code",
   "execution_count": 10,
   "id": "01bf1dbd",
   "metadata": {},
   "outputs": [],
   "source": [
    "X_train, X_val, y_train, y_val = train_test_split(X_data, y_data, test_size = 0.4, random_state = 1234)\n",
    "X_val, X_test, y_val, y_test = train_test_split(X_val, y_val, test_size = 0.5, random_state = 1234)"
   ]
  },
  {
   "cell_type": "code",
   "execution_count": 11,
   "id": "d367c91e",
   "metadata": {},
   "outputs": [
    {
     "data": {
      "text/plain": [
       "((26562, 1), (26562,))"
      ]
     },
     "execution_count": 11,
     "metadata": {},
     "output_type": "execute_result"
    }
   ],
   "source": [
    "(X_train.shape, y_train.shape)"
   ]
  },
  {
   "cell_type": "code",
   "execution_count": 12,
   "id": "0e9710e7",
   "metadata": {},
   "outputs": [
    {
     "data": {
      "text/plain": [
       "array(['Trump faces dilemma as U.S. oil reels from record biofuels targets'],\n",
       "      dtype=object)"
      ]
     },
     "execution_count": 12,
     "metadata": {},
     "output_type": "execute_result"
    }
   ],
   "source": [
    "X_train[0]"
   ]
  },
  {
   "cell_type": "code",
   "execution_count": 14,
   "id": "247a07f5",
   "metadata": {},
   "outputs": [],
   "source": [
    "# model parameters\n",
    "vocabulary_size = 10000 # maximum vocabulary size (max_features, maximum number of tokens)\n",
    "max_len = 250 # sequence length to pad the outputs to\n",
    "embedding_dim = 16\n",
    "\n",
    "# create vocab layer\n",
    "# instantiate the text vectorization layer\n",
    "vectorize_layer = TextVectorization(max_tokens = vocabulary_size, \n",
    "                                    standardize = \"lower_and_strip_punctuation\", \n",
    "                                    output_mode = \"int\", \n",
    "                                    output_sequence_length = max_len)\n",
    "\n",
    "# build the vocabulary\n",
    "# vectorization layer that generates a tensor of shape (batch_size, max_len) containing vocabulary indices\n",
    "vectorize_layer.adapt(X_train)\n",
    "\n",
    "# vectorize_layer.get_vocabulary()\n",
    "# vectorize_layer.vocabulary_size()"
   ]
  },
  {
   "cell_type": "code",
   "execution_count": 15,
   "id": "7ec68b4f",
   "metadata": {},
   "outputs": [],
   "source": [
    "train_text = vectorize_layer(X_train)\n",
    "val_text = vectorize_layer(X_val)\n",
    "test_text = vectorize_layer(X_test)"
   ]
  },
  {
   "cell_type": "code",
   "execution_count": 16,
   "id": "6f16808e",
   "metadata": {},
   "outputs": [
    {
     "data": {
      "text/plain": [
       "TensorShape([26562, 250])"
      ]
     },
     "execution_count": 16,
     "metadata": {},
     "output_type": "execute_result"
    }
   ],
   "source": [
    "train_text.shape"
   ]
  },
  {
   "cell_type": "code",
   "execution_count": 19,
   "id": "3a4c0537",
   "metadata": {},
   "outputs": [
    {
     "data": {
      "text/plain": [
       "(26562,)"
      ]
     },
     "execution_count": 19,
     "metadata": {},
     "output_type": "execute_result"
    }
   ],
   "source": [
    "y_train.shape"
   ]
  },
  {
   "cell_type": "code",
   "execution_count": 20,
   "id": "63c8f55f",
   "metadata": {},
   "outputs": [
    {
     "data": {
      "text/plain": [
       "TensorShape([8854, 250])"
      ]
     },
     "execution_count": 20,
     "metadata": {},
     "output_type": "execute_result"
    }
   ],
   "source": [
    "val_text.shape"
   ]
  },
  {
   "cell_type": "code",
   "execution_count": 21,
   "id": "9eab8d6d",
   "metadata": {},
   "outputs": [],
   "source": [
    "model = Sequential([\n",
    "    tf.keras.Input(shape = (250,), dtype = tf.int64),\n",
    "    layers.Embedding(vocabulary_size + 1, embedding_dim),\n",
    "    layers.Dropout(0.2),\n",
    "    layers.GlobalAveragePooling1D(),\n",
    "    layers.Dropout(0.2),\n",
    "    layers.Dense(units = 1, activation = \"sigmoid\") # revise the use of this layer\n",
    "]\n",
    ")"
   ]
  },
  {
   "cell_type": "code",
   "execution_count": 22,
   "id": "96c1b7f4",
   "metadata": {},
   "outputs": [
    {
     "name": "stdout",
     "output_type": "stream",
     "text": [
      "Model: \"sequential\"\n",
      "_________________________________________________________________\n",
      " Layer (type)                Output Shape              Param #   \n",
      "=================================================================\n",
      " embedding (Embedding)       (None, 250, 16)           160016    \n",
      "                                                                 \n",
      " dropout (Dropout)           (None, 250, 16)           0         \n",
      "                                                                 \n",
      " global_average_pooling1d (G  (None, 16)               0         \n",
      " lobalAveragePooling1D)                                          \n",
      "                                                                 \n",
      " dropout_1 (Dropout)         (None, 16)                0         \n",
      "                                                                 \n",
      " dense (Dense)               (None, 1)                 17        \n",
      "                                                                 \n",
      "=================================================================\n",
      "Total params: 160,033\n",
      "Trainable params: 160,033\n",
      "Non-trainable params: 0\n",
      "_________________________________________________________________\n"
     ]
    }
   ],
   "source": [
    "model.summary()"
   ]
  },
  {
   "cell_type": "code",
   "execution_count": 23,
   "id": "e1124006",
   "metadata": {},
   "outputs": [
    {
     "name": "stdout",
     "output_type": "stream",
     "text": [
      "Epoch 1/10\n",
      "831/831 [==============================] - 5s 4ms/step - loss: 0.6786 - binary_accuracy: 0.6064 - precision: 0.7961 - recall: 0.2449 - mcc: 0.2626 - val_loss: 0.6462 - val_binary_accuracy: 0.8670 - val_precision: 0.9613 - val_recall: 0.7611 - val_mcc: 0.7492\n",
      "Epoch 2/10\n",
      "831/831 [==============================] - 4s 4ms/step - loss: 0.5842 - binary_accuracy: 0.8777 - precision: 0.9007 - recall: 0.8383 - mcc: 0.7562 - val_loss: 0.5081 - val_binary_accuracy: 0.9081 - val_precision: 0.8869 - val_recall: 0.9327 - val_mcc: 0.8173\n",
      "Epoch 3/10\n",
      "831/831 [==============================] - 3s 4ms/step - loss: 0.4470 - binary_accuracy: 0.9131 - precision: 0.8962 - recall: 0.9269 - mcc: 0.8267 - val_loss: 0.3838 - val_binary_accuracy: 0.9173 - val_precision: 0.9213 - val_recall: 0.9103 - val_mcc: 0.8347\n",
      "Epoch 4/10\n",
      "831/831 [==============================] - 3s 4ms/step - loss: 0.3425 - binary_accuracy: 0.9229 - precision: 0.9028 - recall: 0.9410 - mcc: 0.8464 - val_loss: 0.3039 - val_binary_accuracy: 0.9232 - val_precision: 0.9303 - val_recall: 0.9128 - val_mcc: 0.8465\n",
      "Epoch 5/10\n",
      "831/831 [==============================] - 3s 4ms/step - loss: 0.2746 - binary_accuracy: 0.9311 - precision: 0.9127 - recall: 0.9474 - mcc: 0.8627 - val_loss: 0.2549 - val_binary_accuracy: 0.9282 - val_precision: 0.9403 - val_recall: 0.9124 - val_mcc: 0.8566\n",
      "Epoch 6/10\n",
      "831/831 [==============================] - 3s 4ms/step - loss: 0.2293 - binary_accuracy: 0.9371 - precision: 0.9204 - recall: 0.9515 - mcc: 0.8745 - val_loss: 0.2134 - val_binary_accuracy: 0.9344 - val_precision: 0.9168 - val_recall: 0.9535 - val_mcc: 0.8695\n",
      "Epoch 7/10\n",
      "831/831 [==============================] - 3s 4ms/step - loss: 0.1980 - binary_accuracy: 0.9412 - precision: 0.9257 - recall: 0.9544 - mcc: 0.8827 - val_loss: 0.1893 - val_binary_accuracy: 0.9396 - val_precision: 0.9337 - val_recall: 0.9446 - val_mcc: 0.8792\n",
      "Epoch 8/10\n",
      "831/831 [==============================] - 3s 4ms/step - loss: 0.1745 - binary_accuracy: 0.9473 - precision: 0.9321 - recall: 0.9603 - mcc: 0.8949 - val_loss: 0.1702 - val_binary_accuracy: 0.9430 - val_precision: 0.9342 - val_recall: 0.9515 - val_mcc: 0.8861\n",
      "Epoch 9/10\n",
      "831/831 [==============================] - 3s 4ms/step - loss: 0.1557 - binary_accuracy: 0.9510 - precision: 0.9375 - recall: 0.9624 - mcc: 0.9023 - val_loss: 0.1561 - val_binary_accuracy: 0.9468 - val_precision: 0.9392 - val_recall: 0.9540 - val_mcc: 0.8937\n",
      "Epoch 10/10\n",
      "831/831 [==============================] - 3s 4ms/step - loss: 0.1419 - binary_accuracy: 0.9542 - precision: 0.9417 - recall: 0.9646 - mcc: 0.9086 - val_loss: 0.1454 - val_binary_accuracy: 0.9495 - val_precision: 0.9447 - val_recall: 0.9535 - val_mcc: 0.8991\n"
     ]
    }
   ],
   "source": [
    "\n",
    "model.compile(loss = tf.keras.losses.BinaryCrossentropy(), \n",
    "              optimizer = tf.keras.optimizers.Adam(learning_rate = 0.001), \n",
    "              metrics = [\n",
    "                  tf.keras.metrics.BinaryAccuracy(),\n",
    "                  tf.keras.metrics.Precision(),\n",
    "                  tf.keras.metrics.Recall(),\n",
    "                  MCC(),\n",
    "              ],\n",
    ")\n",
    "\n",
    "\n",
    "callback = tf.keras.callbacks.EarlyStopping(monitor = \"val_loss\", patience = 5)\n",
    "\n",
    "\n",
    "history = model.fit(\n",
    "        train_text, y_train,\n",
    "        validation_data = (val_text, y_val),\n",
    "        epochs = 10,\n",
    "        callbacks = [callback],\n",
    ")"
   ]
  },
  {
   "cell_type": "code",
   "execution_count": 24,
   "id": "449515ee",
   "metadata": {},
   "outputs": [
    {
     "data": {
      "text/plain": [
       "[0, 1, 2, 3, 4, 5, 6, 7, 8, 9]"
      ]
     },
     "execution_count": 24,
     "metadata": {},
     "output_type": "execute_result"
    }
   ],
   "source": [
    "history.epoch"
   ]
  },
  {
   "cell_type": "code",
   "execution_count": 102,
   "id": "7ccb5750",
   "metadata": {},
   "outputs": [
    {
     "data": {
      "text/plain": [
       "{'loss': [0.07566075772047043,\n",
       "  0.07261712104082108,\n",
       "  0.06965486705303192,\n",
       "  0.06776872277259827,\n",
       "  0.06467507034540176,\n",
       "  0.06353829801082611,\n",
       "  0.0601852610707283,\n",
       "  0.059008292853832245,\n",
       "  0.05738820880651474,\n",
       "  0.05587868392467499],\n",
       " 'binary_accuracy': [0.973571240901947,\n",
       "  0.9748136401176453,\n",
       "  0.9765454530715942,\n",
       "  0.977336049079895,\n",
       "  0.9772230982780457,\n",
       "  0.9786913394927979,\n",
       "  0.9801596403121948,\n",
       "  0.9803102016448975,\n",
       "  0.9805737733840942,\n",
       "  0.9814019799232483],\n",
       " 'precision_5': [0.9677894115447998,\n",
       "  0.9699767231941223,\n",
       "  0.9726410508155823,\n",
       "  0.973126232624054,\n",
       "  0.9728994965553284,\n",
       "  0.9751147031784058,\n",
       "  0.9766682386398315,\n",
       "  0.9760832190513611,\n",
       "  0.9767622351646423,\n",
       "  0.977765679359436],\n",
       " 'recall_5': [0.9776300191879272,\n",
       "  0.9779428839683533,\n",
       "  0.978803277015686,\n",
       "  0.9799765348434448,\n",
       "  0.9799765348434448,\n",
       "  0.9807587265968323,\n",
       "  0.9822447896003723,\n",
       "  0.9831834435462952,\n",
       "  0.9830269813537598,\n",
       "  0.9837309122085571],\n",
       " 'mcc': [0.9471335411071777,\n",
       "  0.9496015906333923,\n",
       "  0.9530538320541382,\n",
       "  0.9546421766281128,\n",
       "  0.9544180035591125,\n",
       "  0.9573469758033752,\n",
       "  0.960286557674408,\n",
       "  0.9605993628501892,\n",
       "  0.9611205458641052,\n",
       "  0.9627768397331238],\n",
       " 'val_loss': [0.09813858568668365,\n",
       "  0.09649226069450378,\n",
       "  0.09580686688423157,\n",
       "  0.09427212178707123,\n",
       "  0.0928150936961174,\n",
       "  0.09170844405889511,\n",
       "  0.09081778675317764,\n",
       "  0.09006143361330032,\n",
       "  0.09053374826908112,\n",
       "  0.09045201539993286],\n",
       " 'val_binary_accuracy': [0.9628416299819946,\n",
       "  0.96272873878479,\n",
       "  0.962954580783844,\n",
       "  0.9635193347930908,\n",
       "  0.9634063839912415,\n",
       "  0.9643099308013916,\n",
       "  0.9643099308013916,\n",
       "  0.9652134776115417,\n",
       "  0.9652134776115417,\n",
       "  0.9645358324050903],\n",
       " 'val_precision_5': [0.9561977982521057,\n",
       "  0.954954981803894,\n",
       "  0.96099454164505,\n",
       "  0.9606191515922546,\n",
       "  0.9556306600570679,\n",
       "  0.9598457217216492,\n",
       "  0.9594288468360901,\n",
       "  0.9618008136749268,\n",
       "  0.9653987288475037,\n",
       "  0.9510676264762878],\n",
       " 'val_recall_5': [0.9691075682640076,\n",
       "  0.970251739025116,\n",
       "  0.9640732407569885,\n",
       "  0.9656750559806824,\n",
       "  0.9709382057189941,\n",
       "  0.9681922197341919,\n",
       "  0.9686498641967773,\n",
       "  0.9679633975028992,\n",
       "  0.9640732407569885,\n",
       "  0.9784896969795227],\n",
       " 'val_mcc': [0.9257659912109375,\n",
       "  0.9255759119987488,\n",
       "  0.9259045720100403,\n",
       "  0.9270439743995667,\n",
       "  0.9269313812255859,\n",
       "  0.9286500811576843,\n",
       "  0.9286584854125977,\n",
       "  0.9304396510124207,\n",
       "  0.9304150342941284,\n",
       "  0.9294622540473938]}"
      ]
     },
     "execution_count": 102,
     "metadata": {},
     "output_type": "execute_result"
    }
   ],
   "source": [
    "history.history"
   ]
  },
  {
   "cell_type": "code",
   "execution_count": 34,
   "id": "05665a8f",
   "metadata": {},
   "outputs": [],
   "source": [
    "epochs = history.epoch"
   ]
  },
  {
   "cell_type": "code",
   "execution_count": 58,
   "id": "35418057",
   "metadata": {},
   "outputs": [
    {
     "data": {
      "image/png": "[encoded data removed]",
      "text/plain": [
       "<Figure size 640x480 with 1 Axes>"
      ]
     },
     "metadata": {},
     "output_type": "display_data"
    }
   ],
   "source": [
    "plt.plot(epochs, history.history['loss'], \".:\")\n",
    "plt.plot(epochs, history.history['val_loss'], \".:\")\n",
    "\n",
    "plt.title('Training and validation loss')\n",
    "plt.legend(['training', 'validation'], loc = \"best\")\n",
    "plt.ylabel(r\"$\\mathrm{loss}$\")\n",
    "plt.xlabel(\"epoch\")\n",
    "plt.show()"
   ]
  },
  {
   "cell_type": "code",
   "execution_count": 56,
   "id": "95575d44",
   "metadata": {},
   "outputs": [
    {
     "data": {
      "image/png": "[encoded data removed]",
      "text/plain": [
       "<Figure size 640x480 with 1 Axes>"
      ]
     },
     "metadata": {},
     "output_type": "display_data"
    }
   ],
   "source": [
    "plt.plot(epochs, history.history['binary_accuracy'], \".:\")\n",
    "plt.plot(epochs, history.history['val_binary_accuracy'], \".:\")\n",
    "\n",
    "plt.title('Training and validation binary accuracy')\n",
    "plt.legend(['training', 'validation'], loc = \"best\")\n",
    "plt.ylabel(\"binary accuracy\")\n",
    "plt.xlabel(\"epoch\")\n",
    "plt.show()"
   ]
  },
  {
   "cell_type": "code",
   "execution_count": 59,
   "id": "b63203a8",
   "metadata": {},
   "outputs": [
    {
     "data": {
      "image/png": "[encoded data removed]",
      "text/plain": [
       "<Figure size 640x480 with 1 Axes>"
      ]
     },
     "metadata": {},
     "output_type": "display_data"
    }
   ],
   "source": [
    "plt.plot(epochs, history.history['mcc'], \".:\")\n",
    "plt.plot(epochs, history.history['val_mcc'], \".:\")\n",
    "\n",
    "plt.title('Training and validation MCC')\n",
    "plt.legend(['training', 'validation'], loc = \"best\")\n",
    "plt.ylabel(\"mcc\")\n",
    "plt.xlabel(\"epoch\")\n",
    "plt.show()"
   ]
  },
  {
   "cell_type": "code",
   "execution_count": null,
   "id": "60b0da2a",
   "metadata": {},
   "outputs": [],
   "source": []
  },
  {
   "cell_type": "code",
   "execution_count": 43,
   "id": "01bca721",
   "metadata": {},
   "outputs": [
    {
     "name": "stdout",
     "output_type": "stream",
     "text": [
      "277/277 [==============================] - 0s 1ms/step\n"
     ]
    }
   ],
   "source": [
    "y_pred = model.predict(test_text)"
   ]
  },
  {
   "cell_type": "code",
   "execution_count": 46,
   "id": "d6de402f",
   "metadata": {},
   "outputs": [
    {
     "data": {
      "text/plain": [
       "(8855, 1)"
      ]
     },
     "execution_count": 46,
     "metadata": {},
     "output_type": "execute_result"
    }
   ],
   "source": [
    "y_pred.shape"
   ]
  },
  {
   "cell_type": "code",
   "execution_count": 55,
   "id": "d7bc2037",
   "metadata": {},
   "outputs": [
    {
     "data": {
      "text/plain": [
       "array([[False],\n",
       "       [False],\n",
       "       [ True],\n",
       "       ...,\n",
       "       [ True],\n",
       "       [False],\n",
       "       [ True]])"
      ]
     },
     "execution_count": 55,
     "metadata": {},
     "output_type": "execute_result"
    }
   ],
   "source": [
    "y_pred > 0.5"
   ]
  },
  {
   "cell_type": "code",
   "execution_count": 61,
   "id": "1203cd30",
   "metadata": {},
   "outputs": [
    {
     "name": "stdout",
     "output_type": "stream",
     "text": [
      "277/277 [==============================] - 0s 1ms/step - loss: 0.1433 - binary_accuracy: 0.9530 - precision: 0.9482 - recall: 0.9545 - mcc: 0.9059\n"
     ]
    }
   ],
   "source": [
    "evaluation = model.evaluate(x = test_text, y = y_test, return_dict = True)"
   ]
  },
  {
   "cell_type": "code",
   "execution_count": 68,
   "id": "30a58985",
   "metadata": {},
   "outputs": [
    {
     "data": {
      "text/plain": [
       "dict_items([('loss', 0.14330029487609863), ('binary_accuracy', 0.9530208706855774), ('precision', 0.9482396841049194), ('recall', 0.9544707536697388), ('mcc', 0.9059492349624634)])"
      ]
     },
     "execution_count": 68,
     "metadata": {},
     "output_type": "execute_result"
    }
   ],
   "source": [
    "evaluation.items()"
   ]
  },
  {
   "cell_type": "code",
   "execution_count": 69,
   "id": "14f2003f",
   "metadata": {},
   "outputs": [
    {
     "name": "stdout",
     "output_type": "stream",
     "text": [
      "loss: 0.1433\n",
      "binary_accuracy: 0.9530\n",
      "precision: 0.9482\n",
      "recall: 0.9545\n",
      "mcc: 0.9059\n"
     ]
    }
   ],
   "source": [
    "for metric, value in evaluation.items():\n",
    "    print(f\"{metric}: {value:.4f}\")"
   ]
  },
  {
   "cell_type": "code",
   "execution_count": null,
   "id": "9aee6f09",
   "metadata": {},
   "outputs": [],
   "source": []
  },
  {
   "cell_type": "code",
   "execution_count": null,
   "id": "a0a392dc",
   "metadata": {},
   "outputs": [],
   "source": []
  },
  {
   "cell_type": "code",
   "execution_count": null,
   "id": "0622ba01",
   "metadata": {},
   "outputs": [],
   "source": []
  },
  {
   "cell_type": "code",
   "execution_count": null,
   "id": "ab9ba61b",
   "metadata": {},
   "outputs": [],
   "source": []
  },
  {
   "cell_type": "code",
   "execution_count": null,
   "id": "d6da2787",
   "metadata": {},
   "outputs": [],
   "source": []
  },
  {
   "cell_type": "code",
   "execution_count": null,
   "id": "c5fe8d35",
   "metadata": {},
   "outputs": [],
   "source": []
  },
  {
   "cell_type": "code",
   "execution_count": null,
   "id": "0649cc9a",
   "metadata": {},
   "outputs": [],
   "source": []
  },
  {
   "cell_type": "code",
   "execution_count": null,
   "id": "be2c4d1b",
   "metadata": {},
   "outputs": [],
   "source": []
  }
 ],
 "metadata": {
  "kernelspec": {
   "display_name": "Python 3 (ipykernel)",
   "language": "python",
   "name": "python3"
  },
  "language_info": {
   "codemirror_mode": {
    "name": "ipython",
    "version": 3
   },
   "file_extension": ".py",
   "mimetype": "text/x-python",
   "name": "python",
   "nbconvert_exporter": "python",
   "pygments_lexer": "ipython3",
   "version": "3.9.13"
  }
 },
 "nbformat": 4,
 "nbformat_minor": 5
}
