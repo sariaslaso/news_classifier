{
 "cells": [
  {
   "cell_type": "code",
   "execution_count": null,
   "id": "08b62b7e",
   "metadata": {},
   "outputs": [],
   "source": [
    "# read the data from the Fake.csv and True.csv files and create training, validation and test sets"
   ]
  },
  {
   "cell_type": "code",
   "execution_count": 3,
   "id": "966f8292",
   "metadata": {},
   "outputs": [],
   "source": [
    "import pandas as pd\n",
    "import numpy as np\n",
    "import tensorflow as tf\n",
    "import matplotlib.pyplot as plt\n",
    "\n",
    "from sklearn.model_selection import train_test_split\n",
    "from tensorflow.keras.layers.experimental.preprocessing import TextVectorization\n",
    "from tensorflow.keras import layers\n",
    "from tensorflow.keras.models import Sequential\n",
    "\n",
    "from tf_mcc import MCC"
   ]
  },
  {
   "cell_type": "code",
   "execution_count": 2,
   "id": "d5f4f7f6",
   "metadata": {},
   "outputs": [],
   "source": [
    "from zipfile import ZipFile\n",
    "\n",
    "def unzip(file_name, final_path):\n",
    "    with ZipFile(file_name, \"r\") as zipObj:\n",
    "        zipObj.extractall(path = final_path)\n",
    "\n",
    "unzip(\"dataset/Fake.csv.zip\", \"dataset/\")\n",
    "unzip(\"dataset/True.csv.zip\", \"dataset/\")\n",
    "        "
   ]
  },
  {
   "cell_type": "code",
   "execution_count": 4,
   "id": "9d2ed97d",
   "metadata": {},
   "outputs": [],
   "source": [
    "fake = pd.read_csv('dataset/Fake.csv')\n",
    "true = pd.read_csv('dataset/True.csv')"
   ]
  },
  {
   "cell_type": "code",
   "execution_count": 71,
   "id": "1065e72b",
   "metadata": {},
   "outputs": [],
   "source": [
    "# true.isnull().any()\n",
    "# fake.isnull().any()"
   ]
  },
  {
   "cell_type": "code",
   "execution_count": 5,
   "id": "641456f6",
   "metadata": {},
   "outputs": [],
   "source": [
    "# remove rows of text with empty strings \n",
    "fake = fake.drop(fake[fake.text == \" \"].index)\n",
    "true = true.drop(true[true.text == \" \"].index)"
   ]
  },
  {
   "cell_type": "code",
   "execution_count": 6,
   "id": "a54d7b8c",
   "metadata": {},
   "outputs": [],
   "source": [
    "# add binary column that indicates if the news are True (1) or Fake (0) \n",
    "fake[\"classification\"] = 0\n",
    "true[\"classification\"] = 1"
   ]
  },
  {
   "cell_type": "code",
   "execution_count": 7,
   "id": "7cab9810",
   "metadata": {},
   "outputs": [],
   "source": [
    "# combine the Fake and True dataframes \n",
    "frames = [fake, true]\n",
    "result = pd.concat(frames, ignore_index = True)"
   ]
  },
  {
   "cell_type": "code",
   "execution_count": 8,
   "id": "3e505fa9",
   "metadata": {},
   "outputs": [
    {
     "data": {
      "text/html": [
       "<div>\n",
       "<style scoped>\n",
       "    .dataframe tbody tr th:only-of-type {\n",
       "        vertical-align: middle;\n",
       "    }\n",
       "\n",
       "    .dataframe tbody tr th {\n",
       "        vertical-align: top;\n",
       "    }\n",
       "\n",
       "    .dataframe thead th {\n",
       "        text-align: right;\n",
       "    }\n",
       "</style>\n",
       "<table border=\"1\" class=\"dataframe\">\n",
       "  <thead>\n",
       "    <tr style=\"text-align: right;\">\n",
       "      <th></th>\n",
       "      <th>title</th>\n",
       "      <th>text</th>\n",
       "      <th>subject</th>\n",
       "      <th>date</th>\n",
       "      <th>classification</th>\n",
       "    </tr>\n",
       "  </thead>\n",
       "  <tbody>\n",
       "    <tr>\n",
       "      <th>0</th>\n",
       "      <td>Donald Trump Sends Out Embarrassing New Year’...</td>\n",
       "      <td>Donald Trump just couldn t wish all Americans ...</td>\n",
       "      <td>News</td>\n",
       "      <td>December 31, 2017</td>\n",
       "      <td>0</td>\n",
       "    </tr>\n",
       "    <tr>\n",
       "      <th>1</th>\n",
       "      <td>Drunk Bragging Trump Staffer Started Russian ...</td>\n",
       "      <td>House Intelligence Committee Chairman Devin Nu...</td>\n",
       "      <td>News</td>\n",
       "      <td>December 31, 2017</td>\n",
       "      <td>0</td>\n",
       "    </tr>\n",
       "    <tr>\n",
       "      <th>2</th>\n",
       "      <td>Sheriff David Clarke Becomes An Internet Joke...</td>\n",
       "      <td>On Friday, it was revealed that former Milwauk...</td>\n",
       "      <td>News</td>\n",
       "      <td>December 30, 2017</td>\n",
       "      <td>0</td>\n",
       "    </tr>\n",
       "    <tr>\n",
       "      <th>3</th>\n",
       "      <td>Trump Is So Obsessed He Even Has Obama’s Name...</td>\n",
       "      <td>On Christmas day, Donald Trump announced that ...</td>\n",
       "      <td>News</td>\n",
       "      <td>December 29, 2017</td>\n",
       "      <td>0</td>\n",
       "    </tr>\n",
       "    <tr>\n",
       "      <th>4</th>\n",
       "      <td>Pope Francis Just Called Out Donald Trump Dur...</td>\n",
       "      <td>Pope Francis used his annual Christmas Day mes...</td>\n",
       "      <td>News</td>\n",
       "      <td>December 25, 2017</td>\n",
       "      <td>0</td>\n",
       "    </tr>\n",
       "    <tr>\n",
       "      <th>...</th>\n",
       "      <td>...</td>\n",
       "      <td>...</td>\n",
       "      <td>...</td>\n",
       "      <td>...</td>\n",
       "      <td>...</td>\n",
       "    </tr>\n",
       "    <tr>\n",
       "      <th>44265</th>\n",
       "      <td>North Korea shipments to Syria chemical arms a...</td>\n",
       "      <td>UNITED NATIONS (Reuters) - Two North Korean sh...</td>\n",
       "      <td>worldnews</td>\n",
       "      <td>August 21, 2017</td>\n",
       "      <td>1</td>\n",
       "    </tr>\n",
       "    <tr>\n",
       "      <th>44266</th>\n",
       "      <td>'Fully committed' NATO backs new U.S. approach...</td>\n",
       "      <td>BRUSSELS (Reuters) - NATO allies on Tuesday we...</td>\n",
       "      <td>worldnews</td>\n",
       "      <td>August 22, 2017</td>\n",
       "      <td>1</td>\n",
       "    </tr>\n",
       "    <tr>\n",
       "      <th>44267</th>\n",
       "      <td>LexisNexis withdrew two products from Chinese ...</td>\n",
       "      <td>LONDON (Reuters) - LexisNexis, a provider of l...</td>\n",
       "      <td>worldnews</td>\n",
       "      <td>August 22, 2017</td>\n",
       "      <td>1</td>\n",
       "    </tr>\n",
       "    <tr>\n",
       "      <th>44268</th>\n",
       "      <td>Minsk cultural hub becomes haven from authorities</td>\n",
       "      <td>MINSK (Reuters) - In the shadow of disused Sov...</td>\n",
       "      <td>worldnews</td>\n",
       "      <td>August 22, 2017</td>\n",
       "      <td>1</td>\n",
       "    </tr>\n",
       "    <tr>\n",
       "      <th>44269</th>\n",
       "      <td>Vatican upbeat on possibility of Pope Francis ...</td>\n",
       "      <td>MOSCOW (Reuters) - Vatican Secretary of State ...</td>\n",
       "      <td>worldnews</td>\n",
       "      <td>August 22, 2017</td>\n",
       "      <td>1</td>\n",
       "    </tr>\n",
       "  </tbody>\n",
       "</table>\n",
       "<p>44270 rows × 5 columns</p>\n",
       "</div>"
      ],
      "text/plain": [
       "                                                   title  \\\n",
       "0       Donald Trump Sends Out Embarrassing New Year’...   \n",
       "1       Drunk Bragging Trump Staffer Started Russian ...   \n",
       "2       Sheriff David Clarke Becomes An Internet Joke...   \n",
       "3       Trump Is So Obsessed He Even Has Obama’s Name...   \n",
       "4       Pope Francis Just Called Out Donald Trump Dur...   \n",
       "...                                                  ...   \n",
       "44265  North Korea shipments to Syria chemical arms a...   \n",
       "44266  'Fully committed' NATO backs new U.S. approach...   \n",
       "44267  LexisNexis withdrew two products from Chinese ...   \n",
       "44268  Minsk cultural hub becomes haven from authorities   \n",
       "44269  Vatican upbeat on possibility of Pope Francis ...   \n",
       "\n",
       "                                                    text    subject  \\\n",
       "0      Donald Trump just couldn t wish all Americans ...       News   \n",
       "1      House Intelligence Committee Chairman Devin Nu...       News   \n",
       "2      On Friday, it was revealed that former Milwauk...       News   \n",
       "3      On Christmas day, Donald Trump announced that ...       News   \n",
       "4      Pope Francis used his annual Christmas Day mes...       News   \n",
       "...                                                  ...        ...   \n",
       "44265  UNITED NATIONS (Reuters) - Two North Korean sh...  worldnews   \n",
       "44266  BRUSSELS (Reuters) - NATO allies on Tuesday we...  worldnews   \n",
       "44267  LONDON (Reuters) - LexisNexis, a provider of l...  worldnews   \n",
       "44268  MINSK (Reuters) - In the shadow of disused Sov...  worldnews   \n",
       "44269  MOSCOW (Reuters) - Vatican Secretary of State ...  worldnews   \n",
       "\n",
       "                    date  classification  \n",
       "0      December 31, 2017               0  \n",
       "1      December 31, 2017               0  \n",
       "2      December 30, 2017               0  \n",
       "3      December 29, 2017               0  \n",
       "4      December 25, 2017               0  \n",
       "...                  ...             ...  \n",
       "44265   August 21, 2017                1  \n",
       "44266   August 22, 2017                1  \n",
       "44267   August 22, 2017                1  \n",
       "44268   August 22, 2017                1  \n",
       "44269   August 22, 2017                1  \n",
       "\n",
       "[44270 rows x 5 columns]"
      ]
     },
     "execution_count": 8,
     "metadata": {},
     "output_type": "execute_result"
    }
   ],
   "source": [
    "result.head(-1)"
   ]
  },
  {
   "cell_type": "code",
   "execution_count": 9,
   "id": "e07f4e56",
   "metadata": {},
   "outputs": [
    {
     "data": {
      "text/html": [
       "<div>\n",
       "<style scoped>\n",
       "    .dataframe tbody tr th:only-of-type {\n",
       "        vertical-align: middle;\n",
       "    }\n",
       "\n",
       "    .dataframe tbody tr th {\n",
       "        vertical-align: top;\n",
       "    }\n",
       "\n",
       "    .dataframe thead th {\n",
       "        text-align: right;\n",
       "    }\n",
       "</style>\n",
       "<table border=\"1\" class=\"dataframe\">\n",
       "  <thead>\n",
       "    <tr style=\"text-align: right;\">\n",
       "      <th></th>\n",
       "      <th>title</th>\n",
       "      <th>text</th>\n",
       "      <th>subject</th>\n",
       "      <th>date</th>\n",
       "      <th>classification</th>\n",
       "    </tr>\n",
       "  </thead>\n",
       "  <tbody>\n",
       "    <tr>\n",
       "      <th>1220</th>\n",
       "      <td>Comey Might Have Just Made Sure We Don’t End ...</td>\n",
       "      <td>Many of us have been ready to impeach Donald T...</td>\n",
       "      <td>News</td>\n",
       "      <td>June 8, 2017</td>\n",
       "      <td>0</td>\n",
       "    </tr>\n",
       "    <tr>\n",
       "      <th>43761</th>\n",
       "      <td>Exclusive: Cambodia says opposition party coul...</td>\n",
       "      <td>PHNOM PENH (Reuters) - Cambodia s government h...</td>\n",
       "      <td>worldnews</td>\n",
       "      <td>September 5, 2017</td>\n",
       "      <td>1</td>\n",
       "    </tr>\n",
       "    <tr>\n",
       "      <th>24279</th>\n",
       "      <td>Whirlpool's washer war is balancing act for Trump</td>\n",
       "      <td>Clyde, Ohio (Reuters) - In the middle of Whir...</td>\n",
       "      <td>politicsNews</td>\n",
       "      <td>October 4, 2017</td>\n",
       "      <td>1</td>\n",
       "    </tr>\n",
       "    <tr>\n",
       "      <th>11119</th>\n",
       "      <td>BOOM! TRUMP POLL Numbers Going Up…Up…Up! While...</td>\n",
       "      <td>Way before the election ever took place, the l...</td>\n",
       "      <td>politics</td>\n",
       "      <td>Apr 17, 2017</td>\n",
       "      <td>0</td>\n",
       "    </tr>\n",
       "    <tr>\n",
       "      <th>29975</th>\n",
       "      <td>U.S. Holocaust museum alarmed over 'hateful sp...</td>\n",
       "      <td>WASHINGTON (Reuters) - The U.S. Holocaust Memo...</td>\n",
       "      <td>politicsNews</td>\n",
       "      <td>November 22, 2016</td>\n",
       "      <td>1</td>\n",
       "    </tr>\n",
       "  </tbody>\n",
       "</table>\n",
       "</div>"
      ],
      "text/plain": [
       "                                                   title  \\\n",
       "1220    Comey Might Have Just Made Sure We Don’t End ...   \n",
       "43761  Exclusive: Cambodia says opposition party coul...   \n",
       "24279  Whirlpool's washer war is balancing act for Trump   \n",
       "11119  BOOM! TRUMP POLL Numbers Going Up…Up…Up! While...   \n",
       "29975  U.S. Holocaust museum alarmed over 'hateful sp...   \n",
       "\n",
       "                                                    text       subject  \\\n",
       "1220   Many of us have been ready to impeach Donald T...          News   \n",
       "43761  PHNOM PENH (Reuters) - Cambodia s government h...     worldnews   \n",
       "24279   Clyde, Ohio (Reuters) - In the middle of Whir...  politicsNews   \n",
       "11119  Way before the election ever took place, the l...      politics   \n",
       "29975  WASHINGTON (Reuters) - The U.S. Holocaust Memo...  politicsNews   \n",
       "\n",
       "                     date  classification  \n",
       "1220         June 8, 2017               0  \n",
       "43761  September 5, 2017                1  \n",
       "24279    October 4, 2017                1  \n",
       "11119        Apr 17, 2017               0  \n",
       "29975  November 22, 2016                1  "
      ]
     },
     "execution_count": 9,
     "metadata": {},
     "output_type": "execute_result"
    }
   ],
   "source": [
    "# generate a random sample (without replacement) of the combined dataframe\n",
    "# use random_state to make it reproducible\n",
    "corpus = result.sample(frac = 1, replace = False, random_state = 1234)\n",
    "corpus.head()"
   ]
  },
  {
   "cell_type": "code",
   "execution_count": 10,
   "id": "c4bcdf79",
   "metadata": {},
   "outputs": [],
   "source": [
    "# split data into training, validation and test set\n",
    "X_features_names = [\"title\"]\n",
    "X_features = corpus[X_features_names].values\n",
    "\n",
    "X_data = X_features\n",
    "y_data = corpus[\"classification\"].values\n"
   ]
  },
  {
   "cell_type": "code",
   "execution_count": 11,
   "id": "01bf1dbd",
   "metadata": {},
   "outputs": [],
   "source": [
    "X_train, X_val, y_train, y_val = train_test_split(X_data, y_data, test_size = 0.4, random_state = 1234)\n",
    "X_val, X_test, y_val, y_test = train_test_split(X_val, y_val, test_size = 0.5, random_state = 1234)"
   ]
  },
  {
   "cell_type": "code",
   "execution_count": 12,
   "id": "d367c91e",
   "metadata": {},
   "outputs": [
    {
     "data": {
      "text/plain": [
       "((26562, 1), (26562,))"
      ]
     },
     "execution_count": 12,
     "metadata": {},
     "output_type": "execute_result"
    }
   ],
   "source": [
    "(X_train.shape, y_train.shape)"
   ]
  },
  {
   "cell_type": "code",
   "execution_count": 28,
   "id": "5c091c9f",
   "metadata": {},
   "outputs": [],
   "source": [
    "# X_train[:5]"
   ]
  },
  {
   "cell_type": "code",
   "execution_count": null,
   "id": "0bae2a53",
   "metadata": {},
   "outputs": [],
   "source": [
    "# save to csv file (index = False)"
   ]
  },
  {
   "cell_type": "code",
   "execution_count": null,
   "id": "fe45cc13",
   "metadata": {},
   "outputs": [],
   "source": []
  },
  {
   "cell_type": "code",
   "execution_count": 26,
   "id": "820d2d05",
   "metadata": {
    "scrolled": true
   },
   "outputs": [],
   "source": [
    "df_X_train = pd.DataFrame(X_train, columns = [\"title\"])\n",
    "df_X_val = pd.DataFrame(X_val, columns = [\"title\"])\n",
    "df_X_test = pd.DataFrame(X_test, columns = [\"title\"])\n",
    "\n",
    "df_y_train = pd.DataFrame(y_train, columns = [\"classification\"])\n",
    "df_y_val = pd.DataFrame(y_val, columns = [\"classification\"])\n",
    "df_y_test = pd.DataFrame(y_test, columns = [\"classification\"])"
   ]
  },
  {
   "cell_type": "code",
   "execution_count": 27,
   "id": "347c7b27",
   "metadata": {},
   "outputs": [],
   "source": [
    "df_X_train.to_csv(\"dataset/X_train.csv\", index = False)\n",
    "df_X_val.to_csv(\"dataset/X_val.csv\", index = False)\n",
    "df_X_test.to_csv(\"dataset/X_test.csv\", index = False)\n",
    "df_y_train.to_csv(\"dataset/y_train.csv\", index = False)\n",
    "df_y_val.to_csv(\"dataset/y_val.csv\", index = False)\n",
    "df_y_test.to_csv(\"dataset/y_test.csv\", index = False)"
   ]
  },
  {
   "cell_type": "code",
   "execution_count": 12,
   "id": "247a07f5",
   "metadata": {},
   "outputs": [],
   "source": [
    "# model parameters\n",
    "vocabulary_size = 10000 # maximum vocabulary size (max_features, maximum number of tokens)\n",
    "max_len = 250 # sequence length to pad the outputs to\n",
    "embedding_dim = 16\n",
    "\n",
    "# create vocab layer\n",
    "# instantiate the text vectorization layer\n",
    "vectorize_layer = TextVectorization(max_tokens = vocabulary_size, \n",
    "                                    standardize = \"lower_and_strip_punctuation\", \n",
    "                                    output_mode = \"int\", \n",
    "                                    output_sequence_length = max_len)\n",
    "\n",
    "# build the vocabulary\n",
    "# vectorization layer that generates a tensor of shape (batch_size, max_len) containing vocabulary indices\n",
    "vectorize_layer.adapt(X_train)\n",
    "\n",
    "# vectorize_layer.get_vocabulary()\n",
    "# vectorize_layer.vocabulary_size()"
   ]
  },
  {
   "cell_type": "code",
   "execution_count": null,
   "id": "60b0da2a",
   "metadata": {},
   "outputs": [],
   "source": [
    "# model predictions on the test set"
   ]
  },
  {
   "cell_type": "code",
   "execution_count": 24,
   "id": "01bca721",
   "metadata": {},
   "outputs": [
    {
     "name": "stdout",
     "output_type": "stream",
     "text": [
      "277/277 [==============================] - 0s 953us/step\n"
     ]
    }
   ],
   "source": [
    "y_pred = model.predict(test_text)"
   ]
  },
  {
   "cell_type": "code",
   "execution_count": 25,
   "id": "d6de402f",
   "metadata": {},
   "outputs": [
    {
     "data": {
      "text/plain": [
       "(8855, 1)"
      ]
     },
     "execution_count": 25,
     "metadata": {},
     "output_type": "execute_result"
    }
   ],
   "source": [
    "y_pred.shape"
   ]
  },
  {
   "cell_type": "code",
   "execution_count": 26,
   "id": "d7bc2037",
   "metadata": {},
   "outputs": [
    {
     "data": {
      "text/plain": [
       "array([[False],\n",
       "       [False],\n",
       "       [ True],\n",
       "       ...,\n",
       "       [ True],\n",
       "       [False],\n",
       "       [ True]])"
      ]
     },
     "execution_count": 26,
     "metadata": {},
     "output_type": "execute_result"
    }
   ],
   "source": [
    "y_pred > 0.5"
   ]
  },
  {
   "cell_type": "code",
   "execution_count": 27,
   "id": "1203cd30",
   "metadata": {},
   "outputs": [
    {
     "name": "stdout",
     "output_type": "stream",
     "text": [
      "277/277 [==============================] - 0s 1ms/step - loss: 0.1013 - binary_accuracy: 0.9598 - precision: 0.9430 - recall: 0.9754 - mcc: 0.9201\n"
     ]
    }
   ],
   "source": [
    "evaluation = model.evaluate(x = test_text, y = y_test, return_dict = True)"
   ]
  },
  {
   "cell_type": "code",
   "execution_count": 28,
   "id": "30a58985",
   "metadata": {},
   "outputs": [
    {
     "data": {
      "text/plain": [
       "dict_items([('loss', 0.10133900493383408), ('binary_accuracy', 0.9597967267036438), ('precision', 0.9430451393127441), ('recall', 0.9753578901290894), ('mcc', 0.9200799465179443)])"
      ]
     },
     "execution_count": 28,
     "metadata": {},
     "output_type": "execute_result"
    }
   ],
   "source": [
    "evaluation.items()"
   ]
  },
  {
   "cell_type": "code",
   "execution_count": 29,
   "id": "14f2003f",
   "metadata": {},
   "outputs": [
    {
     "name": "stdout",
     "output_type": "stream",
     "text": [
      "loss: 0.1013\n",
      "binary_accuracy: 0.9598\n",
      "precision: 0.9430\n",
      "recall: 0.9754\n",
      "mcc: 0.9201\n"
     ]
    }
   ],
   "source": [
    "for metric, value in evaluation.items():\n",
    "    print(f\"{metric}: {value:.4f}\")"
   ]
  },
  {
   "cell_type": "code",
   "execution_count": null,
   "id": "9aee6f09",
   "metadata": {},
   "outputs": [],
   "source": []
  },
  {
   "cell_type": "code",
   "execution_count": null,
   "id": "a0a392dc",
   "metadata": {},
   "outputs": [],
   "source": []
  },
  {
   "cell_type": "code",
   "execution_count": null,
   "id": "0622ba01",
   "metadata": {},
   "outputs": [],
   "source": []
  },
  {
   "cell_type": "code",
   "execution_count": null,
   "id": "ab9ba61b",
   "metadata": {},
   "outputs": [],
   "source": []
  },
  {
   "cell_type": "code",
   "execution_count": null,
   "id": "d6da2787",
   "metadata": {},
   "outputs": [],
   "source": []
  },
  {
   "cell_type": "code",
   "execution_count": null,
   "id": "c5fe8d35",
   "metadata": {},
   "outputs": [],
   "source": []
  },
  {
   "cell_type": "code",
   "execution_count": null,
   "id": "0649cc9a",
   "metadata": {},
   "outputs": [],
   "source": []
  },
  {
   "cell_type": "code",
   "execution_count": null,
   "id": "be2c4d1b",
   "metadata": {},
   "outputs": [],
   "source": []
  }
 ],
 "metadata": {
  "kernelspec": {
   "display_name": "Python 3 (ipykernel)",
   "language": "python",
   "name": "python3"
  },
  "language_info": {
   "codemirror_mode": {
    "name": "ipython",
    "version": 3
   },
   "file_extension": ".py",
   "mimetype": "text/x-python",
   "name": "python",
   "nbconvert_exporter": "python",
   "pygments_lexer": "ipython3",
   "version": "3.9.13"
  }
 },
 "nbformat": 4,
 "nbformat_minor": 5
}
