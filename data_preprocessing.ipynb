{
 "cells": [
  {
   "cell_type": "code",
   "execution_count": null,
   "id": "08b62b7e",
   "metadata": {},
   "outputs": [],
   "source": [
    "# read the data from the Fake.csv and True.csv files and create training, validation and test sets"
   ]
  },
  {
   "cell_type": "code",
   "execution_count": 2,
   "id": "966f8292",
   "metadata": {},
   "outputs": [],
   "source": [
    "import pandas as pd\n",
    "import numpy as np\n",
    "import tensorflow as tf\n",
    "import matplotlib.pyplot as plt\n",
    "\n",
    "from sklearn.model_selection import train_test_split\n",
    "from tensorflow.keras.layers.experimental.preprocessing import TextVectorization\n",
    "from tensorflow.keras import layers\n",
    "from tensorflow.keras.models import Sequential\n",
    "\n",
    "from tf_mcc import MCC"
   ]
  },
  {
   "cell_type": "code",
   "execution_count": 2,
   "id": "d5f4f7f6",
   "metadata": {},
   "outputs": [],
   "source": [
    "from zipfile import ZipFile\n",
    "\n",
    "def unzip(file_name, final_path):\n",
    "    with ZipFile(file_name, \"r\") as zipObj:\n",
    "        zipObj.extractall(path = final_path)\n",
    "\n",
    "unzip(\"dataset/Fake.csv.zip\", \"dataset/\")\n",
    "unzip(\"dataset/True.csv.zip\", \"dataset/\")\n",
    "        "
   ]
  },
  {
   "cell_type": "code",
   "execution_count": 3,
   "id": "9d2ed97d",
   "metadata": {},
   "outputs": [],
   "source": [
    "fake = pd.read_csv('dataset/Fake.csv')\n",
    "true = pd.read_csv('dataset/True.csv')"
   ]
  },
  {
   "cell_type": "code",
   "execution_count": 71,
   "id": "1065e72b",
   "metadata": {},
   "outputs": [],
   "source": [
    "# true.isnull().any()\n",
    "# fake.isnull().any()"
   ]
  },
  {
   "cell_type": "code",
   "execution_count": 4,
   "id": "641456f6",
   "metadata": {},
   "outputs": [],
   "source": [
    "# remove rows of text with empty strings \n",
    "fake = fake.drop(fake[fake.text == \" \"].index)\n",
    "true = true.drop(true[true.text == \" \"].index)"
   ]
  },
  {
   "cell_type": "code",
   "execution_count": 5,
   "id": "a54d7b8c",
   "metadata": {},
   "outputs": [],
   "source": [
    "# add binary column that indicates if the news are True (1) or Fake (0) \n",
    "fake[\"classification\"] = 0\n",
    "true[\"classification\"] = 1"
   ]
  },
  {
   "cell_type": "code",
   "execution_count": 6,
   "id": "7cab9810",
   "metadata": {},
   "outputs": [],
   "source": [
    "# combine the Fake and True dataframes \n",
    "frames = [fake, true]\n",
    "result = pd.concat(frames, ignore_index = True)"
   ]
  },
  {
   "cell_type": "code",
   "execution_count": 7,
   "id": "3e505fa9",
   "metadata": {},
   "outputs": [
    {
     "data": {
      "text/html": [
       "<div>\n",
       "<style scoped>\n",
       "    .dataframe tbody tr th:only-of-type {\n",
       "        vertical-align: middle;\n",
       "    }\n",
       "\n",
       "    .dataframe tbody tr th {\n",
       "        vertical-align: top;\n",
       "    }\n",
       "\n",
       "    .dataframe thead th {\n",
       "        text-align: right;\n",
       "    }\n",
       "</style>\n",
       "<table border=\"1\" class=\"dataframe\">\n",
       "  <thead>\n",
       "    <tr style=\"text-align: right;\">\n",
       "      <th></th>\n",
       "      <th>title</th>\n",
       "      <th>text</th>\n",
       "      <th>subject</th>\n",
       "      <th>date</th>\n",
       "      <th>classification</th>\n",
       "    </tr>\n",
       "  </thead>\n",
       "  <tbody>\n",
       "    <tr>\n",
       "      <th>0</th>\n",
       "      <td>Donald Trump Sends Out Embarrassing New Year’...</td>\n",
       "      <td>Donald Trump just couldn t wish all Americans ...</td>\n",
       "      <td>News</td>\n",
       "      <td>December 31, 2017</td>\n",
       "      <td>0</td>\n",
       "    </tr>\n",
       "    <tr>\n",
       "      <th>1</th>\n",
       "      <td>Drunk Bragging Trump Staffer Started Russian ...</td>\n",
       "      <td>House Intelligence Committee Chairman Devin Nu...</td>\n",
       "      <td>News</td>\n",
       "      <td>December 31, 2017</td>\n",
       "      <td>0</td>\n",
       "    </tr>\n",
       "    <tr>\n",
       "      <th>2</th>\n",
       "      <td>Sheriff David Clarke Becomes An Internet Joke...</td>\n",
       "      <td>On Friday, it was revealed that former Milwauk...</td>\n",
       "      <td>News</td>\n",
       "      <td>December 30, 2017</td>\n",
       "      <td>0</td>\n",
       "    </tr>\n",
       "    <tr>\n",
       "      <th>3</th>\n",
       "      <td>Trump Is So Obsessed He Even Has Obama’s Name...</td>\n",
       "      <td>On Christmas day, Donald Trump announced that ...</td>\n",
       "      <td>News</td>\n",
       "      <td>December 29, 2017</td>\n",
       "      <td>0</td>\n",
       "    </tr>\n",
       "    <tr>\n",
       "      <th>4</th>\n",
       "      <td>Pope Francis Just Called Out Donald Trump Dur...</td>\n",
       "      <td>Pope Francis used his annual Christmas Day mes...</td>\n",
       "      <td>News</td>\n",
       "      <td>December 25, 2017</td>\n",
       "      <td>0</td>\n",
       "    </tr>\n",
       "    <tr>\n",
       "      <th>...</th>\n",
       "      <td>...</td>\n",
       "      <td>...</td>\n",
       "      <td>...</td>\n",
       "      <td>...</td>\n",
       "      <td>...</td>\n",
       "    </tr>\n",
       "    <tr>\n",
       "      <th>44265</th>\n",
       "      <td>North Korea shipments to Syria chemical arms a...</td>\n",
       "      <td>UNITED NATIONS (Reuters) - Two North Korean sh...</td>\n",
       "      <td>worldnews</td>\n",
       "      <td>August 21, 2017</td>\n",
       "      <td>1</td>\n",
       "    </tr>\n",
       "    <tr>\n",
       "      <th>44266</th>\n",
       "      <td>'Fully committed' NATO backs new U.S. approach...</td>\n",
       "      <td>BRUSSELS (Reuters) - NATO allies on Tuesday we...</td>\n",
       "      <td>worldnews</td>\n",
       "      <td>August 22, 2017</td>\n",
       "      <td>1</td>\n",
       "    </tr>\n",
       "    <tr>\n",
       "      <th>44267</th>\n",
       "      <td>LexisNexis withdrew two products from Chinese ...</td>\n",
       "      <td>LONDON (Reuters) - LexisNexis, a provider of l...</td>\n",
       "      <td>worldnews</td>\n",
       "      <td>August 22, 2017</td>\n",
       "      <td>1</td>\n",
       "    </tr>\n",
       "    <tr>\n",
       "      <th>44268</th>\n",
       "      <td>Minsk cultural hub becomes haven from authorities</td>\n",
       "      <td>MINSK (Reuters) - In the shadow of disused Sov...</td>\n",
       "      <td>worldnews</td>\n",
       "      <td>August 22, 2017</td>\n",
       "      <td>1</td>\n",
       "    </tr>\n",
       "    <tr>\n",
       "      <th>44269</th>\n",
       "      <td>Vatican upbeat on possibility of Pope Francis ...</td>\n",
       "      <td>MOSCOW (Reuters) - Vatican Secretary of State ...</td>\n",
       "      <td>worldnews</td>\n",
       "      <td>August 22, 2017</td>\n",
       "      <td>1</td>\n",
       "    </tr>\n",
       "  </tbody>\n",
       "</table>\n",
       "<p>44270 rows × 5 columns</p>\n",
       "</div>"
      ],
      "text/plain": [
       "                                                   title  \\\n",
       "0       Donald Trump Sends Out Embarrassing New Year’...   \n",
       "1       Drunk Bragging Trump Staffer Started Russian ...   \n",
       "2       Sheriff David Clarke Becomes An Internet Joke...   \n",
       "3       Trump Is So Obsessed He Even Has Obama’s Name...   \n",
       "4       Pope Francis Just Called Out Donald Trump Dur...   \n",
       "...                                                  ...   \n",
       "44265  North Korea shipments to Syria chemical arms a...   \n",
       "44266  'Fully committed' NATO backs new U.S. approach...   \n",
       "44267  LexisNexis withdrew two products from Chinese ...   \n",
       "44268  Minsk cultural hub becomes haven from authorities   \n",
       "44269  Vatican upbeat on possibility of Pope Francis ...   \n",
       "\n",
       "                                                    text    subject  \\\n",
       "0      Donald Trump just couldn t wish all Americans ...       News   \n",
       "1      House Intelligence Committee Chairman Devin Nu...       News   \n",
       "2      On Friday, it was revealed that former Milwauk...       News   \n",
       "3      On Christmas day, Donald Trump announced that ...       News   \n",
       "4      Pope Francis used his annual Christmas Day mes...       News   \n",
       "...                                                  ...        ...   \n",
       "44265  UNITED NATIONS (Reuters) - Two North Korean sh...  worldnews   \n",
       "44266  BRUSSELS (Reuters) - NATO allies on Tuesday we...  worldnews   \n",
       "44267  LONDON (Reuters) - LexisNexis, a provider of l...  worldnews   \n",
       "44268  MINSK (Reuters) - In the shadow of disused Sov...  worldnews   \n",
       "44269  MOSCOW (Reuters) - Vatican Secretary of State ...  worldnews   \n",
       "\n",
       "                    date  classification  \n",
       "0      December 31, 2017               0  \n",
       "1      December 31, 2017               0  \n",
       "2      December 30, 2017               0  \n",
       "3      December 29, 2017               0  \n",
       "4      December 25, 2017               0  \n",
       "...                  ...             ...  \n",
       "44265   August 21, 2017                1  \n",
       "44266   August 22, 2017                1  \n",
       "44267   August 22, 2017                1  \n",
       "44268   August 22, 2017                1  \n",
       "44269   August 22, 2017                1  \n",
       "\n",
       "[44270 rows x 5 columns]"
      ]
     },
     "execution_count": 7,
     "metadata": {},
     "output_type": "execute_result"
    }
   ],
   "source": [
    "result.head(-1)"
   ]
  },
  {
   "cell_type": "code",
   "execution_count": 7,
   "id": "e07f4e56",
   "metadata": {},
   "outputs": [
    {
     "data": {
      "text/html": [
       "<div>\n",
       "<style scoped>\n",
       "    .dataframe tbody tr th:only-of-type {\n",
       "        vertical-align: middle;\n",
       "    }\n",
       "\n",
       "    .dataframe tbody tr th {\n",
       "        vertical-align: top;\n",
       "    }\n",
       "\n",
       "    .dataframe thead th {\n",
       "        text-align: right;\n",
       "    }\n",
       "</style>\n",
       "<table border=\"1\" class=\"dataframe\">\n",
       "  <thead>\n",
       "    <tr style=\"text-align: right;\">\n",
       "      <th></th>\n",
       "      <th>title</th>\n",
       "      <th>text</th>\n",
       "      <th>subject</th>\n",
       "      <th>date</th>\n",
       "      <th>classification</th>\n",
       "    </tr>\n",
       "  </thead>\n",
       "  <tbody>\n",
       "    <tr>\n",
       "      <th>1220</th>\n",
       "      <td>Comey Might Have Just Made Sure We Don’t End ...</td>\n",
       "      <td>Many of us have been ready to impeach Donald T...</td>\n",
       "      <td>News</td>\n",
       "      <td>June 8, 2017</td>\n",
       "      <td>0</td>\n",
       "    </tr>\n",
       "    <tr>\n",
       "      <th>43761</th>\n",
       "      <td>Exclusive: Cambodia says opposition party coul...</td>\n",
       "      <td>PHNOM PENH (Reuters) - Cambodia s government h...</td>\n",
       "      <td>worldnews</td>\n",
       "      <td>September 5, 2017</td>\n",
       "      <td>1</td>\n",
       "    </tr>\n",
       "    <tr>\n",
       "      <th>24279</th>\n",
       "      <td>Whirlpool's washer war is balancing act for Trump</td>\n",
       "      <td>Clyde, Ohio (Reuters) - In the middle of Whir...</td>\n",
       "      <td>politicsNews</td>\n",
       "      <td>October 4, 2017</td>\n",
       "      <td>1</td>\n",
       "    </tr>\n",
       "    <tr>\n",
       "      <th>11119</th>\n",
       "      <td>BOOM! TRUMP POLL Numbers Going Up…Up…Up! While...</td>\n",
       "      <td>Way before the election ever took place, the l...</td>\n",
       "      <td>politics</td>\n",
       "      <td>Apr 17, 2017</td>\n",
       "      <td>0</td>\n",
       "    </tr>\n",
       "    <tr>\n",
       "      <th>29975</th>\n",
       "      <td>U.S. Holocaust museum alarmed over 'hateful sp...</td>\n",
       "      <td>WASHINGTON (Reuters) - The U.S. Holocaust Memo...</td>\n",
       "      <td>politicsNews</td>\n",
       "      <td>November 22, 2016</td>\n",
       "      <td>1</td>\n",
       "    </tr>\n",
       "  </tbody>\n",
       "</table>\n",
       "</div>"
      ],
      "text/plain": [
       "                                                   title  \\\n",
       "1220    Comey Might Have Just Made Sure We Don’t End ...   \n",
       "43761  Exclusive: Cambodia says opposition party coul...   \n",
       "24279  Whirlpool's washer war is balancing act for Trump   \n",
       "11119  BOOM! TRUMP POLL Numbers Going Up…Up…Up! While...   \n",
       "29975  U.S. Holocaust museum alarmed over 'hateful sp...   \n",
       "\n",
       "                                                    text       subject  \\\n",
       "1220   Many of us have been ready to impeach Donald T...          News   \n",
       "43761  PHNOM PENH (Reuters) - Cambodia s government h...     worldnews   \n",
       "24279   Clyde, Ohio (Reuters) - In the middle of Whir...  politicsNews   \n",
       "11119  Way before the election ever took place, the l...      politics   \n",
       "29975  WASHINGTON (Reuters) - The U.S. Holocaust Memo...  politicsNews   \n",
       "\n",
       "                     date  classification  \n",
       "1220         June 8, 2017               0  \n",
       "43761  September 5, 2017                1  \n",
       "24279    October 4, 2017                1  \n",
       "11119        Apr 17, 2017               0  \n",
       "29975  November 22, 2016                1  "
      ]
     },
     "execution_count": 7,
     "metadata": {},
     "output_type": "execute_result"
    }
   ],
   "source": [
    "# generate a random sample (without replacement) of the combined dataframe\n",
    "# use random_state to make it reproducible\n",
    "corpus = result.sample(frac = 1, replace = False, random_state = 1234)\n",
    "corpus.head()"
   ]
  },
  {
   "cell_type": "code",
   "execution_count": 8,
   "id": "c4bcdf79",
   "metadata": {},
   "outputs": [],
   "source": [
    "# split data into training, validation and test set\n",
    "X_features_names = [\"title\"]\n",
    "X_features = corpus[X_features_names].values\n",
    "\n",
    "X_data = X_features\n",
    "y_data = corpus[\"classification\"].values\n"
   ]
  },
  {
   "cell_type": "code",
   "execution_count": 9,
   "id": "01bf1dbd",
   "metadata": {},
   "outputs": [],
   "source": [
    "X_train, X_val, y_train, y_val = train_test_split(X_data, y_data, test_size = 0.4, random_state = 1234)\n",
    "X_val, X_test, y_val, y_test = train_test_split(X_val, y_val, test_size = 0.5, random_state = 1234)"
   ]
  },
  {
   "cell_type": "code",
   "execution_count": 10,
   "id": "d367c91e",
   "metadata": {},
   "outputs": [
    {
     "data": {
      "text/plain": [
       "((26562, 1), (26562,))"
      ]
     },
     "execution_count": 10,
     "metadata": {},
     "output_type": "execute_result"
    }
   ],
   "source": [
    "(X_train.shape, y_train.shape)"
   ]
  },
  {
   "cell_type": "code",
   "execution_count": 12,
   "id": "247a07f5",
   "metadata": {},
   "outputs": [],
   "source": [
    "# model parameters\n",
    "vocabulary_size = 10000 # maximum vocabulary size (max_features, maximum number of tokens)\n",
    "max_len = 250 # sequence length to pad the outputs to\n",
    "embedding_dim = 16\n",
    "\n",
    "# create vocab layer\n",
    "# instantiate the text vectorization layer\n",
    "vectorize_layer = TextVectorization(max_tokens = vocabulary_size, \n",
    "                                    standardize = \"lower_and_strip_punctuation\", \n",
    "                                    output_mode = \"int\", \n",
    "                                    output_sequence_length = max_len)\n",
    "\n",
    "# build the vocabulary\n",
    "# vectorization layer that generates a tensor of shape (batch_size, max_len) containing vocabulary indices\n",
    "vectorize_layer.adapt(X_train)\n",
    "\n",
    "# vectorize_layer.get_vocabulary()\n",
    "# vectorize_layer.vocabulary_size()"
   ]
  },
  {
   "cell_type": "code",
   "execution_count": 13,
   "id": "7ec68b4f",
   "metadata": {},
   "outputs": [],
   "source": [
    "train_text = vectorize_layer(X_train)\n",
    "val_text = vectorize_layer(X_val)\n",
    "test_text = vectorize_layer(X_test)"
   ]
  },
  {
   "cell_type": "code",
   "execution_count": 14,
   "id": "6f16808e",
   "metadata": {},
   "outputs": [
    {
     "data": {
      "text/plain": [
       "TensorShape([26562, 250])"
      ]
     },
     "execution_count": 14,
     "metadata": {},
     "output_type": "execute_result"
    }
   ],
   "source": [
    "train_text.shape"
   ]
  },
  {
   "cell_type": "code",
   "execution_count": 15,
   "id": "9eab8d6d",
   "metadata": {},
   "outputs": [],
   "source": [
    "model = Sequential([\n",
    "    tf.keras.Input(shape = (250,), dtype = tf.int64),\n",
    "    layers.Embedding(vocabulary_size + 1, embedding_dim),\n",
    "    layers.Dropout(0.2),\n",
    "    layers.GlobalAveragePooling1D(),\n",
    "    layers.Dropout(0.2),\n",
    "    layers.Dense(units = 1, activation = \"sigmoid\") # revise the use of this layer\n",
    "]\n",
    ")"
   ]
  },
  {
   "cell_type": "code",
   "execution_count": 16,
   "id": "96c1b7f4",
   "metadata": {},
   "outputs": [
    {
     "name": "stdout",
     "output_type": "stream",
     "text": [
      "Model: \"sequential\"\n",
      "_________________________________________________________________\n",
      " Layer (type)                Output Shape              Param #   \n",
      "=================================================================\n",
      " embedding (Embedding)       (None, 250, 16)           160016    \n",
      "                                                                 \n",
      " dropout (Dropout)           (None, 250, 16)           0         \n",
      "                                                                 \n",
      " global_average_pooling1d (G  (None, 16)               0         \n",
      " lobalAveragePooling1D)                                          \n",
      "                                                                 \n",
      " dropout_1 (Dropout)         (None, 16)                0         \n",
      "                                                                 \n",
      " dense (Dense)               (None, 1)                 17        \n",
      "                                                                 \n",
      "=================================================================\n",
      "Total params: 160,033\n",
      "Trainable params: 160,033\n",
      "Non-trainable params: 0\n",
      "_________________________________________________________________\n"
     ]
    }
   ],
   "source": [
    "model.summary()"
   ]
  },
  {
   "cell_type": "code",
   "execution_count": 17,
   "id": "e1124006",
   "metadata": {},
   "outputs": [
    {
     "name": "stdout",
     "output_type": "stream",
     "text": [
      "Epoch 1/20\n",
      "831/831 [==============================] - 5s 4ms/step - loss: 0.6783 - binary_accuracy: 0.6223 - precision: 0.8666 - recall: 0.2545 - mcc: 0.3129 - val_loss: 0.6467 - val_binary_accuracy: 0.7597 - val_precision: 0.9895 - val_recall: 0.5185 - val_mcc: 0.5859\n",
      "Epoch 2/20\n",
      "831/831 [==============================] - 3s 4ms/step - loss: 0.5836 - binary_accuracy: 0.8877 - precision: 0.9003 - recall: 0.8621 - mcc: 0.7754 - val_loss: 0.5094 - val_binary_accuracy: 0.9012 - val_precision: 0.9372 - val_recall: 0.8572 - val_mcc: 0.8050\n",
      "Epoch 3/20\n",
      "831/831 [==============================] - 3s 4ms/step - loss: 0.4447 - binary_accuracy: 0.9146 - precision: 0.8953 - recall: 0.9316 - mcc: 0.8299 - val_loss: 0.3878 - val_binary_accuracy: 0.9070 - val_precision: 0.9426 - val_recall: 0.8643 - val_mcc: 0.8166\n",
      "Epoch 4/20\n",
      "831/831 [==============================] - 3s 4ms/step - loss: 0.3406 - binary_accuracy: 0.9232 - precision: 0.9037 - recall: 0.9406 - mcc: 0.8471 - val_loss: 0.2988 - val_binary_accuracy: 0.9235 - val_precision: 0.9077 - val_recall: 0.9407 - val_mcc: 0.8477\n",
      "Epoch 5/20\n",
      "831/831 [==============================] - 3s 4ms/step - loss: 0.2732 - binary_accuracy: 0.9298 - precision: 0.9113 - recall: 0.9463 - mcc: 0.8602 - val_loss: 0.2494 - val_binary_accuracy: 0.9310 - val_precision: 0.9304 - val_recall: 0.9297 - val_mcc: 0.8620\n",
      "Epoch 6/20\n",
      "831/831 [==============================] - 3s 4ms/step - loss: 0.2291 - binary_accuracy: 0.9359 - precision: 0.9192 - recall: 0.9503 - mcc: 0.8722 - val_loss: 0.2142 - val_binary_accuracy: 0.9374 - val_precision: 0.9342 - val_recall: 0.9394 - val_mcc: 0.8749\n",
      "Epoch 7/20\n",
      "831/831 [==============================] - 3s 4ms/step - loss: 0.1974 - binary_accuracy: 0.9425 - precision: 0.9266 - recall: 0.9563 - mcc: 0.8853 - val_loss: 0.1895 - val_binary_accuracy: 0.9405 - val_precision: 0.9386 - val_recall: 0.9410 - val_mcc: 0.8809\n",
      "Epoch 8/20\n",
      "831/831 [==============================] - 3s 4ms/step - loss: 0.1736 - binary_accuracy: 0.9480 - precision: 0.9335 - recall: 0.9604 - mcc: 0.8963 - val_loss: 0.1706 - val_binary_accuracy: 0.9439 - val_precision: 0.9414 - val_recall: 0.9451 - val_mcc: 0.8877\n",
      "Epoch 9/20\n",
      "831/831 [==============================] - 3s 4ms/step - loss: 0.1553 - binary_accuracy: 0.9513 - precision: 0.9384 - recall: 0.9619 - mcc: 0.9028 - val_loss: 0.1551 - val_binary_accuracy: 0.9466 - val_precision: 0.9368 - val_recall: 0.9563 - val_mcc: 0.8934\n",
      "Epoch 10/20\n",
      "831/831 [==============================] - 3s 4ms/step - loss: 0.1413 - binary_accuracy: 0.9547 - precision: 0.9430 - recall: 0.9643 - mcc: 0.9097 - val_loss: 0.1438 - val_binary_accuracy: 0.9502 - val_precision: 0.9400 - val_recall: 0.9604 - val_mcc: 0.9006\n",
      "Epoch 11/20\n",
      "831/831 [==============================] - 3s 4ms/step - loss: 0.1296 - binary_accuracy: 0.9566 - precision: 0.9454 - recall: 0.9657 - mcc: 0.9134 - val_loss: 0.1374 - val_binary_accuracy: 0.9513 - val_precision: 0.9504 - val_recall: 0.9510 - val_mcc: 0.9026\n",
      "Epoch 12/20\n",
      "831/831 [==============================] - 3s 4ms/step - loss: 0.1200 - binary_accuracy: 0.9605 - precision: 0.9506 - recall: 0.9683 - mcc: 0.9212 - val_loss: 0.1278 - val_binary_accuracy: 0.9548 - val_precision: 0.9449 - val_recall: 0.9648 - val_mcc: 0.9099\n",
      "Epoch 13/20\n",
      "831/831 [==============================] - 3s 4ms/step - loss: 0.1118 - binary_accuracy: 0.9618 - precision: 0.9517 - recall: 0.9700 - mcc: 0.9238 - val_loss: 0.1291 - val_binary_accuracy: 0.9529 - val_precision: 0.9617 - val_recall: 0.9421 - val_mcc: 0.9059\n",
      "Epoch 14/20\n",
      "831/831 [==============================] - 3s 4ms/step - loss: 0.1051 - binary_accuracy: 0.9651 - precision: 0.9566 - recall: 0.9715 - mcc: 0.9302 - val_loss: 0.1170 - val_binary_accuracy: 0.9567 - val_precision: 0.9485 - val_recall: 0.9648 - val_mcc: 0.9136\n",
      "Epoch 15/20\n",
      "831/831 [==============================] - 3s 4ms/step - loss: 0.0992 - binary_accuracy: 0.9654 - precision: 0.9561 - recall: 0.9728 - mcc: 0.9309 - val_loss: 0.1129 - val_binary_accuracy: 0.9576 - val_precision: 0.9494 - val_recall: 0.9657 - val_mcc: 0.9154\n",
      "Epoch 16/20\n",
      "831/831 [==============================] - 3s 4ms/step - loss: 0.0933 - binary_accuracy: 0.9678 - precision: 0.9599 - recall: 0.9739 - mcc: 0.9357 - val_loss: 0.1094 - val_binary_accuracy: 0.9590 - val_precision: 0.9515 - val_recall: 0.9661 - val_mcc: 0.9181\n",
      "Epoch 17/20\n",
      "831/831 [==============================] - 3s 4ms/step - loss: 0.0891 - binary_accuracy: 0.9691 - precision: 0.9615 - recall: 0.9747 - mcc: 0.9381 - val_loss: 0.1064 - val_binary_accuracy: 0.9589 - val_precision: 0.9473 - val_recall: 0.9707 - val_mcc: 0.9181\n",
      "Epoch 18/20\n",
      "831/831 [==============================] - 3s 4ms/step - loss: 0.0856 - binary_accuracy: 0.9704 - precision: 0.9640 - recall: 0.9749 - mcc: 0.9408 - val_loss: 0.1044 - val_binary_accuracy: 0.9618 - val_precision: 0.9586 - val_recall: 0.9643 - val_mcc: 0.9237\n",
      "Epoch 19/20\n",
      "831/831 [==============================] - 3s 4ms/step - loss: 0.0821 - binary_accuracy: 0.9717 - precision: 0.9655 - recall: 0.9761 - mcc: 0.9434 - val_loss: 0.1022 - val_binary_accuracy: 0.9615 - val_precision: 0.9590 - val_recall: 0.9632 - val_mcc: 0.9230\n",
      "Epoch 20/20\n",
      "831/831 [==============================] - 3s 4ms/step - loss: 0.0770 - binary_accuracy: 0.9742 - precision: 0.9692 - recall: 0.9775 - mcc: 0.9484 - val_loss: 0.1017 - val_binary_accuracy: 0.9598 - val_precision: 0.9436 - val_recall: 0.9769 - val_mcc: 0.9202\n"
     ]
    }
   ],
   "source": [
    "\n",
    "model.compile(loss = tf.keras.losses.BinaryCrossentropy(), \n",
    "              optimizer = tf.keras.optimizers.Adam(learning_rate = 0.001), \n",
    "              metrics = [\n",
    "                  tf.keras.metrics.BinaryAccuracy(),\n",
    "                  tf.keras.metrics.Precision(),\n",
    "                  tf.keras.metrics.Recall(),\n",
    "                  MCC(),\n",
    "              ],\n",
    ")\n",
    "\n",
    "\n",
    "callback = tf.keras.callbacks.EarlyStopping(monitor = \"val_loss\", patience = 10)\n",
    "\n",
    "\n",
    "history = model.fit(\n",
    "        train_text, y_train,\n",
    "        validation_data = (val_text, y_val),\n",
    "        epochs = 20,\n",
    "        callbacks = [callback],\n",
    ")"
   ]
  },
  {
   "cell_type": "code",
   "execution_count": 18,
   "id": "449515ee",
   "metadata": {},
   "outputs": [
    {
     "data": {
      "text/plain": [
       "[0, 1, 2, 3, 4, 5, 6, 7, 8, 9, 10, 11, 12, 13, 14, 15, 16, 17, 18, 19]"
      ]
     },
     "execution_count": 18,
     "metadata": {},
     "output_type": "execute_result"
    }
   ],
   "source": [
    "history.epoch"
   ]
  },
  {
   "cell_type": "code",
   "execution_count": 19,
   "id": "7ccb5750",
   "metadata": {},
   "outputs": [
    {
     "data": {
      "text/plain": [
       "{'loss': [0.6783498525619507,\n",
       "  0.5835784077644348,\n",
       "  0.444709837436676,\n",
       "  0.3406037986278534,\n",
       "  0.27320396900177,\n",
       "  0.22905951738357544,\n",
       "  0.197383314371109,\n",
       "  0.1736401915550232,\n",
       "  0.15525834262371063,\n",
       "  0.14131543040275574,\n",
       "  0.12958019971847534,\n",
       "  0.11995156109333038,\n",
       "  0.1118190810084343,\n",
       "  0.10514865815639496,\n",
       "  0.09917017817497253,\n",
       "  0.09333232045173645,\n",
       "  0.08908262103796005,\n",
       "  0.08555629104375839,\n",
       "  0.0820583626627922,\n",
       "  0.07701435685157776],\n",
       " 'binary_accuracy': [0.6223176121711731,\n",
       "  0.8876966834068298,\n",
       "  0.9146148562431335,\n",
       "  0.9231985807418823,\n",
       "  0.9298245906829834,\n",
       "  0.9358858466148376,\n",
       "  0.9424741864204407,\n",
       "  0.9480084180831909,\n",
       "  0.9512838125228882,\n",
       "  0.9547473788261414,\n",
       "  0.956629753112793,\n",
       "  0.9605451226234436,\n",
       "  0.9618251919746399,\n",
       "  0.9651005268096924,\n",
       "  0.9654017090797424,\n",
       "  0.9678487777709961,\n",
       "  0.9690535068511963,\n",
       "  0.9704088568687439,\n",
       "  0.9717265367507935,\n",
       "  0.9742112755775452],\n",
       " 'precision': [0.8665779232978821,\n",
       "  0.9003430604934692,\n",
       "  0.8952867984771729,\n",
       "  0.9037348628044128,\n",
       "  0.9113370776176453,\n",
       "  0.9192010760307312,\n",
       "  0.9265630841255188,\n",
       "  0.9334803223609924,\n",
       "  0.9384204745292664,\n",
       "  0.9430122971534729,\n",
       "  0.9454016089439392,\n",
       "  0.9506258368492126,\n",
       "  0.951653778553009,\n",
       "  0.9566389322280884,\n",
       "  0.9561039209365845,\n",
       "  0.9599105715751648,\n",
       "  0.9614998698234558,\n",
       "  0.9640343189239502,\n",
       "  0.9654958844184875,\n",
       "  0.9692105054855347],\n",
       " 'recall': [0.2545170187950134,\n",
       "  0.8621039986610413,\n",
       "  0.9315603971481323,\n",
       "  0.9406335353851318,\n",
       "  0.9462651610374451,\n",
       "  0.9503324031829834,\n",
       "  0.9562768936157227,\n",
       "  0.9604223966598511,\n",
       "  0.9619084596633911,\n",
       "  0.9642549753189087,\n",
       "  0.9656628966331482,\n",
       "  0.9683222770690918,\n",
       "  0.9699648022651672,\n",
       "  0.9715291261672974,\n",
       "  0.9727805852890015,\n",
       "  0.9738756418228149,\n",
       "  0.9747360348701477,\n",
       "  0.9748924374580383,\n",
       "  0.9761438965797424,\n",
       "  0.9774736166000366],\n",
       " 'mcc': [0.3128584921360016,\n",
       "  0.7753874659538269,\n",
       "  0.829871654510498,\n",
       "  0.8470628261566162,\n",
       "  0.8602325320243835,\n",
       "  0.8722128868103027,\n",
       "  0.8853427767753601,\n",
       "  0.8963260054588318,\n",
       "  0.9027816653251648,\n",
       "  0.9096559882164001,\n",
       "  0.9134000539779663,\n",
       "  0.9211811423301697,\n",
       "  0.923755407333374,\n",
       "  0.9302473068237305,\n",
       "  0.930881679058075,\n",
       "  0.935733437538147,\n",
       "  0.9381338953971863,\n",
       "  0.9408144354820251,\n",
       "  0.943449854850769,\n",
       "  0.9483984112739563],\n",
       " 'val_loss': [0.6467323303222656,\n",
       "  0.5093674659729004,\n",
       "  0.3878386616706848,\n",
       "  0.2988232970237732,\n",
       "  0.2493959367275238,\n",
       "  0.21418480575084686,\n",
       "  0.18945063650608063,\n",
       "  0.1706373542547226,\n",
       "  0.15506039559841156,\n",
       "  0.14382071793079376,\n",
       "  0.1373845487833023,\n",
       "  0.1277921348810196,\n",
       "  0.12912076711654663,\n",
       "  0.11702154576778412,\n",
       "  0.1129295751452446,\n",
       "  0.109390489757061,\n",
       "  0.10642813891172409,\n",
       "  0.10437140613794327,\n",
       "  0.10220534354448318,\n",
       "  0.10168661177158356],\n",
       " 'val_binary_accuracy': [0.7596566677093506,\n",
       "  0.9011746048927307,\n",
       "  0.907047688961029,\n",
       "  0.9235373735427856,\n",
       "  0.9309916496276855,\n",
       "  0.9374294281005859,\n",
       "  0.9404788613319397,\n",
       "  0.9438672065734863,\n",
       "  0.9465778470039368,\n",
       "  0.9501919746398926,\n",
       "  0.9513214230537415,\n",
       "  0.9548226594924927,\n",
       "  0.952902615070343,\n",
       "  0.9567427039146423,\n",
       "  0.9576462507247925,\n",
       "  0.9590016007423401,\n",
       "  0.9588886499404907,\n",
       "  0.9618251919746399,\n",
       "  0.9614863395690918,\n",
       "  0.9597921967506409],\n",
       " 'val_precision': [0.9895196557044983,\n",
       "  0.9372029304504395,\n",
       "  0.942600429058075,\n",
       "  0.9077059030532837,\n",
       "  0.930387020111084,\n",
       "  0.9342284798622131,\n",
       "  0.9385985136032104,\n",
       "  0.9414178133010864,\n",
       "  0.9367854595184326,\n",
       "  0.9399775862693787,\n",
       "  0.950377345085144,\n",
       "  0.9448677897453308,\n",
       "  0.9616912007331848,\n",
       "  0.9484814405441284,\n",
       "  0.9493813514709473,\n",
       "  0.9515438079833984,\n",
       "  0.9472978711128235,\n",
       "  0.9585987329483032,\n",
       "  0.9589883685112,\n",
       "  0.9436339735984802],\n",
       " 'val_recall': [0.5185354948043823,\n",
       "  0.857208251953125,\n",
       "  0.8643020391464233,\n",
       "  0.9407322406768799,\n",
       "  0.9297482967376709,\n",
       "  0.9393592476844788,\n",
       "  0.9409611225128174,\n",
       "  0.9450801014900208,\n",
       "  0.9562929272651672,\n",
       "  0.9604119062423706,\n",
       "  0.9510297775268555,\n",
       "  0.9647597074508667,\n",
       "  0.942105233669281,\n",
       "  0.9647597074508667,\n",
       "  0.9656750559806824,\n",
       "  0.9661327004432678,\n",
       "  0.9707093834877014,\n",
       "  0.9643020629882812,\n",
       "  0.9631578922271729,\n",
       "  0.9768878817558289],\n",
       " 'val_mcc': [0.5859274864196777,\n",
       "  0.8049712181091309,\n",
       "  0.816624641418457,\n",
       "  0.8476666808128357,\n",
       "  0.8619593977928162,\n",
       "  0.8748596906661987,\n",
       "  0.880944550037384,\n",
       "  0.8877278566360474,\n",
       "  0.8933549523353577,\n",
       "  0.900602400302887,\n",
       "  0.9026278257369995,\n",
       "  0.9098510146141052,\n",
       "  0.9059485197067261,\n",
       "  0.9136210680007935,\n",
       "  0.9154283404350281,\n",
       "  0.918110728263855,\n",
       "  0.9180626273155212,\n",
       "  0.9236593842506409,\n",
       "  0.9229726791381836,\n",
       "  0.920163631439209]}"
      ]
     },
     "execution_count": 19,
     "metadata": {},
     "output_type": "execute_result"
    }
   ],
   "source": [
    "history.history"
   ]
  },
  {
   "cell_type": "code",
   "execution_count": 20,
   "id": "05665a8f",
   "metadata": {},
   "outputs": [],
   "source": [
    "epochs = history.epoch"
   ]
  },
  {
   "cell_type": "code",
   "execution_count": 34,
   "id": "9ed44882",
   "metadata": {},
   "outputs": [
    {
     "data": {
      "text/plain": [
       "range(1, 21)"
      ]
     },
     "execution_count": 34,
     "metadata": {},
     "output_type": "execute_result"
    }
   ],
   "source": [
    "range(1, max(history.epoch) + 2)"
   ]
  },
  {
   "cell_type": "code",
   "execution_count": 39,
   "id": "35418057",
   "metadata": {},
   "outputs": [
    {
     "data": {
      "image/png": "[encoded data removed]",
      "text/plain": [
       "<Figure size 640x480 with 1 Axes>"
      ]
     },
     "metadata": {},
     "output_type": "display_data"
    }
   ],
   "source": [
    "plt.plot(range(1, max(epochs) + 2), history.history['loss'], \".:\")\n",
    "plt.plot(range(1, max(epochs) + 2), history.history['val_loss'], \".:\")\n",
    "\n",
    "plt.title('Training and validation loss')\n",
    "plt.legend(['training', 'validation'], loc = \"best\")\n",
    "plt.ylabel(r\"$\\mathrm{loss}$\")\n",
    "plt.xlabel(\"epoch\")\n",
    "plt.xticks(range(1, max(epochs) + 2))\n",
    "plt.show()"
   ]
  },
  {
   "cell_type": "code",
   "execution_count": 41,
   "id": "95575d44",
   "metadata": {},
   "outputs": [
    {
     "data": {
      "image/png": "[encoded data removed]",
      "text/plain": [
       "<Figure size 640x480 with 1 Axes>"
      ]
     },
     "metadata": {},
     "output_type": "display_data"
    }
   ],
   "source": [
    "plt.plot(range(1, max(epochs) + 2), history.history['binary_accuracy'], \".:\")\n",
    "plt.plot(range(1, max(epochs) + 2), history.history['val_binary_accuracy'], \".:\")\n",
    "\n",
    "plt.title('Training and validation binary accuracy')\n",
    "plt.legend(['training', 'validation'], loc = \"best\")\n",
    "plt.ylabel(\"binary accuracy\")\n",
    "plt.xlabel(\"epoch\")\n",
    "plt.xticks(range(1, max(epochs) + 2))\n",
    "plt.show()"
   ]
  },
  {
   "cell_type": "code",
   "execution_count": 42,
   "id": "b63203a8",
   "metadata": {},
   "outputs": [
    {
     "data": {
      "image/png": "[encoded data removed]",
      "text/plain": [
       "<Figure size 640x480 with 1 Axes>"
      ]
     },
     "metadata": {},
     "output_type": "display_data"
    }
   ],
   "source": [
    "plt.plot(range(1, max(epochs) + 2), history.history['mcc'], \".:\")\n",
    "plt.plot(range(1, max(epochs) + 2), history.history['val_mcc'], \".:\")\n",
    "\n",
    "plt.title('Training and validation MCC')\n",
    "plt.legend(['training', 'validation'], loc = \"best\")\n",
    "plt.ylabel(\"mcc\")\n",
    "plt.xlabel(\"epoch\")\n",
    "plt.xticks(range(1, max(epochs) + 2))\n",
    "plt.show()"
   ]
  },
  {
   "cell_type": "code",
   "execution_count": null,
   "id": "60b0da2a",
   "metadata": {},
   "outputs": [],
   "source": [
    "# model predictions on the test set"
   ]
  },
  {
   "cell_type": "code",
   "execution_count": 24,
   "id": "01bca721",
   "metadata": {},
   "outputs": [
    {
     "name": "stdout",
     "output_type": "stream",
     "text": [
      "277/277 [==============================] - 0s 953us/step\n"
     ]
    }
   ],
   "source": [
    "y_pred = model.predict(test_text)"
   ]
  },
  {
   "cell_type": "code",
   "execution_count": 25,
   "id": "d6de402f",
   "metadata": {},
   "outputs": [
    {
     "data": {
      "text/plain": [
       "(8855, 1)"
      ]
     },
     "execution_count": 25,
     "metadata": {},
     "output_type": "execute_result"
    }
   ],
   "source": [
    "y_pred.shape"
   ]
  },
  {
   "cell_type": "code",
   "execution_count": 26,
   "id": "d7bc2037",
   "metadata": {},
   "outputs": [
    {
     "data": {
      "text/plain": [
       "array([[False],\n",
       "       [False],\n",
       "       [ True],\n",
       "       ...,\n",
       "       [ True],\n",
       "       [False],\n",
       "       [ True]])"
      ]
     },
     "execution_count": 26,
     "metadata": {},
     "output_type": "execute_result"
    }
   ],
   "source": [
    "y_pred > 0.5"
   ]
  },
  {
   "cell_type": "code",
   "execution_count": 27,
   "id": "1203cd30",
   "metadata": {},
   "outputs": [
    {
     "name": "stdout",
     "output_type": "stream",
     "text": [
      "277/277 [==============================] - 0s 1ms/step - loss: 0.1013 - binary_accuracy: 0.9598 - precision: 0.9430 - recall: 0.9754 - mcc: 0.9201\n"
     ]
    }
   ],
   "source": [
    "evaluation = model.evaluate(x = test_text, y = y_test, return_dict = True)"
   ]
  },
  {
   "cell_type": "code",
   "execution_count": 28,
   "id": "30a58985",
   "metadata": {},
   "outputs": [
    {
     "data": {
      "text/plain": [
       "dict_items([('loss', 0.10133900493383408), ('binary_accuracy', 0.9597967267036438), ('precision', 0.9430451393127441), ('recall', 0.9753578901290894), ('mcc', 0.9200799465179443)])"
      ]
     },
     "execution_count": 28,
     "metadata": {},
     "output_type": "execute_result"
    }
   ],
   "source": [
    "evaluation.items()"
   ]
  },
  {
   "cell_type": "code",
   "execution_count": 29,
   "id": "14f2003f",
   "metadata": {},
   "outputs": [
    {
     "name": "stdout",
     "output_type": "stream",
     "text": [
      "loss: 0.1013\n",
      "binary_accuracy: 0.9598\n",
      "precision: 0.9430\n",
      "recall: 0.9754\n",
      "mcc: 0.9201\n"
     ]
    }
   ],
   "source": [
    "for metric, value in evaluation.items():\n",
    "    print(f\"{metric}: {value:.4f}\")"
   ]
  },
  {
   "cell_type": "code",
   "execution_count": null,
   "id": "9aee6f09",
   "metadata": {},
   "outputs": [],
   "source": []
  },
  {
   "cell_type": "code",
   "execution_count": null,
   "id": "a0a392dc",
   "metadata": {},
   "outputs": [],
   "source": []
  },
  {
   "cell_type": "code",
   "execution_count": null,
   "id": "0622ba01",
   "metadata": {},
   "outputs": [],
   "source": []
  },
  {
   "cell_type": "code",
   "execution_count": null,
   "id": "ab9ba61b",
   "metadata": {},
   "outputs": [],
   "source": []
  },
  {
   "cell_type": "code",
   "execution_count": null,
   "id": "d6da2787",
   "metadata": {},
   "outputs": [],
   "source": []
  },
  {
   "cell_type": "code",
   "execution_count": null,
   "id": "c5fe8d35",
   "metadata": {},
   "outputs": [],
   "source": []
  },
  {
   "cell_type": "code",
   "execution_count": null,
   "id": "0649cc9a",
   "metadata": {},
   "outputs": [],
   "source": []
  },
  {
   "cell_type": "code",
   "execution_count": null,
   "id": "be2c4d1b",
   "metadata": {},
   "outputs": [],
   "source": []
  }
 ],
 "metadata": {
  "kernelspec": {
   "display_name": "Python 3 (ipykernel)",
   "language": "python",
   "name": "python3"
  },
  "language_info": {
   "codemirror_mode": {
    "name": "ipython",
    "version": 3
   },
   "file_extension": ".py",
   "mimetype": "text/x-python",
   "name": "python",
   "nbconvert_exporter": "python",
   "pygments_lexer": "ipython3",
   "version": "3.9.13"
  }
 },
 "nbformat": 4,
 "nbformat_minor": 5
}
