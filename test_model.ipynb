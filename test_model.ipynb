{
 "cells": [
  {
   "cell_type": "code",
   "execution_count": 2,
   "id": "0f72bd8b",
   "metadata": {},
   "outputs": [],
   "source": [
    "import tensorflow as tf\n",
    "import pandas as pd\n",
    "\n",
    "from utils.tf_mcc import MCC"
   ]
  },
  {
   "cell_type": "code",
   "execution_count": 3,
   "id": "134a7612",
   "metadata": {},
   "outputs": [],
   "source": [
    "# load test set\n",
    "X_test = pd.read_csv(\"dataset/X_test.csv\")\n",
    "y_test = pd.read_csv(\"dataset/y_test.csv\")\n",
    "\n",
    "X_test = X_test['title'].values\n",
    "y_test = y_test['classification'].values"
   ]
  },
  {
   "cell_type": "code",
   "execution_count": 5,
   "id": "49b4e2ea",
   "metadata": {},
   "outputs": [],
   "source": [
    "model = tf.keras.models.load_model(\"model/fake_news_classifier\")"
   ]
  },
  {
   "cell_type": "code",
   "execution_count": 6,
   "id": "2a6f0ca0",
   "metadata": {},
   "outputs": [
    {
     "name": "stdout",
     "output_type": "stream",
     "text": [
      "277/277 [==============================] - 0s 1ms/step\n"
     ]
    }
   ],
   "source": [
    "predictions = model.predict(X_test)"
   ]
  },
  {
   "cell_type": "code",
   "execution_count": 7,
   "id": "e01b0fa5",
   "metadata": {},
   "outputs": [
    {
     "data": {
      "text/plain": [
       "array([[False],\n",
       "       [False],\n",
       "       [ True],\n",
       "       ...,\n",
       "       [ True],\n",
       "       [False],\n",
       "       [ True]])"
      ]
     },
     "execution_count": 7,
     "metadata": {},
     "output_type": "execute_result"
    }
   ],
   "source": [
    "predictions > 0.5"
   ]
  },
  {
   "cell_type": "code",
   "execution_count": 8,
   "id": "e4e3c751",
   "metadata": {},
   "outputs": [
    {
     "name": "stdout",
     "output_type": "stream",
     "text": [
      "277/277 [==============================] - 1s 2ms/step - loss: 0.0987 - binary_accuracy: 0.9627 - precision_2: 0.9553 - recall_2: 0.9678 - mcc: 0.9255\n"
     ]
    }
   ],
   "source": [
    "evaluation = model.evaluate(x = X_test, y = y_test, return_dict = True)"
   ]
  },
  {
   "cell_type": "code",
   "execution_count": 9,
   "id": "43e392a2",
   "metadata": {},
   "outputs": [
    {
     "data": {
      "text/plain": [
       "dict_items([('loss', 0.09865821152925491), ('binary_accuracy', 0.9627329111099243), ('precision_2', 0.9552929997444153), ('recall_2', 0.9678479433059692), ('mcc', 0.9254700541496277)])"
      ]
     },
     "execution_count": 9,
     "metadata": {},
     "output_type": "execute_result"
    }
   ],
   "source": [
    "evaluation.items()"
   ]
  },
  {
   "cell_type": "code",
   "execution_count": 10,
   "id": "41ac4cd0",
   "metadata": {},
   "outputs": [
    {
     "name": "stdout",
     "output_type": "stream",
     "text": [
      "loss: 0.0987\n",
      "binary_accuracy: 0.9627\n",
      "precision_2: 0.9553\n",
      "recall_2: 0.9678\n",
      "mcc: 0.9255\n"
     ]
    }
   ],
   "source": [
    "for metric, value in evaluation.items():\n",
    "    print(f\"{metric}: {value:.4f}\")"
   ]
  },
  {
   "cell_type": "code",
   "execution_count": null,
   "id": "9e444ec0",
   "metadata": {},
   "outputs": [],
   "source": []
  }
 ],
 "metadata": {
  "kernelspec": {
   "display_name": "Python 3 (ipykernel)",
   "language": "python",
   "name": "python3"
  },
  "language_info": {
   "codemirror_mode": {
    "name": "ipython",
    "version": 3
   },
   "file_extension": ".py",
   "mimetype": "text/x-python",
   "name": "python",
   "nbconvert_exporter": "python",
   "pygments_lexer": "ipython3",
   "version": "3.9.13"
  }
 },
 "nbformat": 4,
 "nbformat_minor": 5
}
