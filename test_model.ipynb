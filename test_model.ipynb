{
 "cells": [
  {
   "cell_type": "code",
   "execution_count": 25,
   "id": "0f72bd8b",
   "metadata": {},
   "outputs": [],
   "source": [
    "import tensorflow as tf\n",
    "import pandas as pd\n",
    "import numpy as np\n",
    "\n",
    "from utils.tf_mcc import MCC"
   ]
  },
  {
   "cell_type": "code",
   "execution_count": 26,
   "id": "134a7612",
   "metadata": {},
   "outputs": [],
   "source": [
    "# load test set\n",
    "X_test = pd.read_csv(\"dataset/X_test.csv\")\n",
    "y_test = pd.read_csv(\"dataset/y_test.csv\")\n",
    "\n",
    "X_test = X_test['title'].values\n",
    "y_test = y_test['classification'].values"
   ]
  },
  {
   "cell_type": "code",
   "execution_count": 28,
   "id": "49b4e2ea",
   "metadata": {},
   "outputs": [],
   "source": [
    "model = tf.keras.models.load_model(\"model/fake_news_classifier/model.keras\")"
   ]
  },
  {
   "cell_type": "code",
   "execution_count": 29,
   "id": "2a6f0ca0",
   "metadata": {},
   "outputs": [
    {
     "name": "stdout",
     "output_type": "stream",
     "text": [
      "\u001b[1m277/277\u001b[0m \u001b[32m━━━━━━━━━━━━━━━━━━━━\u001b[0m\u001b[37m\u001b[0m \u001b[1m0s\u001b[0m 1ms/step\n"
     ]
    }
   ],
   "source": [
    "predictions = model.predict(X_test)"
   ]
  },
  {
   "cell_type": "code",
   "execution_count": 30,
   "id": "bf05c289",
   "metadata": {},
   "outputs": [
    {
     "data": {
      "text/plain": [
       "array([[1.5982243e-06],\n",
       "       [1.8756937e-06],\n",
       "       [9.9944931e-01],\n",
       "       ...,\n",
       "       [9.9798447e-01],\n",
       "       [4.8322012e-04],\n",
       "       [9.5681632e-01]], dtype=float32)"
      ]
     },
     "execution_count": 30,
     "metadata": {},
     "output_type": "execute_result"
    }
   ],
   "source": [
    "predictions"
   ]
  },
  {
   "cell_type": "code",
   "execution_count": 31,
   "id": "e01b0fa5",
   "metadata": {},
   "outputs": [
    {
     "data": {
      "text/plain": [
       "array([[False],\n",
       "       [False],\n",
       "       [ True],\n",
       "       ...,\n",
       "       [ True],\n",
       "       [False],\n",
       "       [ True]])"
      ]
     },
     "execution_count": 31,
     "metadata": {},
     "output_type": "execute_result"
    }
   ],
   "source": [
    "predictions > 0.5"
   ]
  },
  {
   "cell_type": "code",
   "execution_count": 32,
   "id": "e4e3c751",
   "metadata": {},
   "outputs": [
    {
     "name": "stderr",
     "output_type": "stream",
     "text": [
      "/usr/local/lib/python3.9/site-packages/keras/src/backend/tensorflow/nn.py:695: UserWarning: \"`binary_crossentropy` received `from_logits=True`, but the `output` argument was produced by a Sigmoid activation and thus does not represent logits. Was this intended?\n",
      "  output, from_logits = _get_logits(\n"
     ]
    },
    {
     "name": "stdout",
     "output_type": "stream",
     "text": [
      "\u001b[1m277/277\u001b[0m \u001b[32m━━━━━━━━━━━━━━━━━━━━\u001b[0m\u001b[37m\u001b[0m \u001b[1m1s\u001b[0m 1ms/step - binary_accuracy: 0.9683 - loss: 0.0926 - precision_2: 0.9656 - recall_2: 0.9691\n"
     ]
    }
   ],
   "source": [
    "evaluation = model.evaluate(x = X_test, y = y_test, return_dict = True)"
   ]
  },
  {
   "cell_type": "code",
   "execution_count": 33,
   "id": "43e392a2",
   "metadata": {},
   "outputs": [
    {
     "data": {
      "text/plain": [
       "dict_items([('binary_accuracy', 0.9673630595207214), ('loss', 0.08795332163572311), ('precision_2', 0.9648876190185547), ('recall_2', 0.967378556728363)])"
      ]
     },
     "execution_count": 33,
     "metadata": {},
     "output_type": "execute_result"
    }
   ],
   "source": [
    "evaluation.items()"
   ]
  },
  {
   "cell_type": "code",
   "execution_count": 34,
   "id": "41ac4cd0",
   "metadata": {},
   "outputs": [
    {
     "name": "stdout",
     "output_type": "stream",
     "text": [
      "binary_accuracy: 0.9674\n",
      "loss: 0.0880\n",
      "precision_2: 0.9649\n",
      "recall_2: 0.9674\n"
     ]
    }
   ],
   "source": [
    "for metric, value in evaluation.items():\n",
    "    print(f\"{metric}: {value:.4f}\")"
   ]
  },
  {
   "cell_type": "code",
   "execution_count": 35,
   "id": "9e444ec0",
   "metadata": {},
   "outputs": [
    {
     "data": {
      "text/plain": [
       "0.9661314823051496"
      ]
     },
     "execution_count": 35,
     "metadata": {},
     "output_type": "execute_result"
    }
   ],
   "source": [
    "f_score = 2 / (1 / evaluation['precision_2'] + 1 / evaluation['recall_2'])\n",
    "f_score"
   ]
  },
  {
   "cell_type": "code",
   "execution_count": null,
   "id": "b4f822c5",
   "metadata": {},
   "outputs": [],
   "source": []
  }
 ],
 "metadata": {
  "kernelspec": {
   "display_name": "Python 3 (ipykernel)",
   "language": "python",
   "name": "python3"
  },
  "language_info": {
   "codemirror_mode": {
    "name": "ipython",
    "version": 3
   },
   "file_extension": ".py",
   "mimetype": "text/x-python",
   "name": "python",
   "nbconvert_exporter": "python",
   "pygments_lexer": "ipython3",
   "version": "3.9.18"
  }
 },
 "nbformat": 4,
 "nbformat_minor": 5
}
