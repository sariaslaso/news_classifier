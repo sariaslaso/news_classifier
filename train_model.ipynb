{
 "cells": [
  {
   "cell_type": "code",
   "execution_count": 3,
   "id": "b6182681",
   "metadata": {},
   "outputs": [],
   "source": [
    "import numpy as np\n",
    "import pandas as pd\n",
    "import tensorflow as tf\n",
    "import matplotlib.pyplot as plt\n",
    "\n",
    "from tensorflow.keras.layers.experimental.preprocessing import TextVectorization\n",
    "from tensorflow.keras import layers\n",
    "from tensorflow.keras.models import Sequential\n",
    "\n",
    "from tf_mcc import MCC"
   ]
  },
  {
   "cell_type": "code",
   "execution_count": 4,
   "id": "f8ad8511",
   "metadata": {},
   "outputs": [],
   "source": [
    "# load training and validation sets\n",
    "\n",
    "X_train = pd.read_csv(\"dataset/X_train.csv\")\n",
    "X_val = pd.read_csv(\"dataset/X_val.csv\")\n",
    "y_train = pd.read_csv(\"dataset/y_train.csv\")\n",
    "y_val = pd.read_csv(\"dataset/y_val.csv\")\n",
    "\n",
    "# load test set\n",
    "X_test = pd.read_csv(\"dataset/X_test.csv\")\n",
    "y_test = pd.read_csv(\"dataset/y_test.csv\")"
   ]
  },
  {
   "cell_type": "code",
   "execution_count": 5,
   "id": "78c911a2",
   "metadata": {},
   "outputs": [],
   "source": [
    "X_train = X_train['title'].values\n",
    "X_val = X_val['title'].values\n",
    "X_test = X_test['title'].values\n",
    "\n",
    "y_train = y_train['classification'].values\n",
    "y_val = y_val['classification'].values\n",
    "y_test = y_test['classification'].values"
   ]
  },
  {
   "cell_type": "code",
   "execution_count": 7,
   "id": "5b970cdd",
   "metadata": {},
   "outputs": [],
   "source": [
    "# model parameters\n",
    "vocabulary_size = 10000 # maximum vocabulary size (max_features, maximum number of tokens)\n",
    "max_len = 250 # sequence length to pad the outputs to\n",
    "embedding_dim = 16\n",
    "\n",
    "# create vocab layer\n",
    "# instantiate the text vectorization layer\n",
    "vectorize_layer = TextVectorization(max_tokens = vocabulary_size, \n",
    "                                    standardize = \"lower_and_strip_punctuation\", \n",
    "                                    output_mode = \"int\", \n",
    "                                    output_sequence_length = max_len)\n",
    "\n",
    "# build the vocabulary\n",
    "# vectorization layer that generates a tensor of shape (batch_size, max_len) containing vocabulary indices\n",
    "vectorize_layer.adapt(X_train)\n",
    "\n",
    "# vectorize_layer.get_vocabulary()\n",
    "# vectorize_layer.vocabulary_size()"
   ]
  },
  {
   "cell_type": "code",
   "execution_count": 8,
   "id": "d3aa2be3",
   "metadata": {},
   "outputs": [],
   "source": [
    "train_text = vectorize_layer(X_train)\n",
    "val_text = vectorize_layer(X_val)\n",
    "test_text = vectorize_layer(X_test)"
   ]
  },
  {
   "cell_type": "code",
   "execution_count": 11,
   "id": "03b8d4e0",
   "metadata": {},
   "outputs": [],
   "source": [
    "# train_text.shape"
   ]
  },
  {
   "cell_type": "code",
   "execution_count": 12,
   "id": "48f3448b",
   "metadata": {},
   "outputs": [],
   "source": [
    "model = Sequential([\n",
    "    tf.keras.Input(shape = (250,), dtype = tf.int64),\n",
    "    layers.Embedding(vocabulary_size + 1, embedding_dim),\n",
    "    layers.Dropout(0.2),\n",
    "    layers.GlobalAveragePooling1D(),\n",
    "    layers.Dropout(0.2),\n",
    "    layers.Dense(units = 1, activation = \"sigmoid\") # revise the use of this layer\n",
    "]\n",
    ")"
   ]
  },
  {
   "cell_type": "code",
   "execution_count": 13,
   "id": "b6f374f5",
   "metadata": {},
   "outputs": [
    {
     "name": "stdout",
     "output_type": "stream",
     "text": [
      "Model: \"sequential\"\n",
      "_________________________________________________________________\n",
      " Layer (type)                Output Shape              Param #   \n",
      "=================================================================\n",
      " embedding (Embedding)       (None, 250, 16)           160016    \n",
      "                                                                 \n",
      " dropout (Dropout)           (None, 250, 16)           0         \n",
      "                                                                 \n",
      " global_average_pooling1d (G  (None, 16)               0         \n",
      " lobalAveragePooling1D)                                          \n",
      "                                                                 \n",
      " dropout_1 (Dropout)         (None, 16)                0         \n",
      "                                                                 \n",
      " dense (Dense)               (None, 1)                 17        \n",
      "                                                                 \n",
      "=================================================================\n",
      "Total params: 160,033\n",
      "Trainable params: 160,033\n",
      "Non-trainable params: 0\n",
      "_________________________________________________________________\n"
     ]
    }
   ],
   "source": [
    "model.summary()"
   ]
  },
  {
   "cell_type": "markdown",
   "id": "954c5c61",
   "metadata": {},
   "source": [
    "### train the model"
   ]
  },
  {
   "cell_type": "code",
   "execution_count": 15,
   "id": "cabb69aa",
   "metadata": {},
   "outputs": [
    {
     "name": "stdout",
     "output_type": "stream",
     "text": [
      "Epoch 1/20\n",
      "831/831 [==============================] - 6s 5ms/step - loss: 0.6764 - binary_accuracy: 0.6144 - precision_1: 0.7382 - recall_1: 0.3081 - mcc: 0.2578 - val_loss: 0.6390 - val_binary_accuracy: 0.8994 - val_precision_1: 0.8589 - val_recall_1: 0.9526 - val_mcc: 0.8036\n",
      "Epoch 2/20\n",
      "831/831 [==============================] - 4s 4ms/step - loss: 0.5733 - binary_accuracy: 0.8804 - precision_1: 0.8955 - recall_1: 0.8508 - mcc: 0.7610 - val_loss: 0.4963 - val_binary_accuracy: 0.9108 - val_precision_1: 0.9151 - val_recall_1: 0.9030 - val_mcc: 0.8216\n",
      "Epoch 3/20\n",
      "831/831 [==============================] - 4s 4ms/step - loss: 0.4359 - binary_accuracy: 0.9131 - precision_1: 0.8958 - recall_1: 0.9273 - mcc: 0.8266 - val_loss: 0.3787 - val_binary_accuracy: 0.9117 - val_precision_1: 0.9340 - val_recall_1: 0.8835 - val_mcc: 0.8244\n",
      "Epoch 4/20\n",
      "831/831 [==============================] - 4s 4ms/step - loss: 0.3349 - binary_accuracy: 0.9220 - precision_1: 0.9028 - recall_1: 0.9390 - mcc: 0.8446 - val_loss: 0.2948 - val_binary_accuracy: 0.9244 - val_precision_1: 0.9088 - val_recall_1: 0.9414 - val_mcc: 0.8495\n",
      "Epoch 5/20\n",
      "831/831 [==============================] - 4s 4ms/step - loss: 0.2702 - binary_accuracy: 0.9305 - precision_1: 0.9108 - recall_1: 0.9485 - mcc: 0.8617 - val_loss: 0.2475 - val_binary_accuracy: 0.9307 - val_precision_1: 0.9331 - val_recall_1: 0.9259 - val_mcc: 0.8613\n",
      "Epoch 6/20\n",
      "831/831 [==============================] - 4s 5ms/step - loss: 0.2267 - binary_accuracy: 0.9366 - precision_1: 0.9196 - recall_1: 0.9514 - mcc: 0.8736 - val_loss: 0.2106 - val_binary_accuracy: 0.9353 - val_precision_1: 0.9196 - val_recall_1: 0.9522 - val_mcc: 0.8711\n",
      "Epoch 7/20\n",
      "831/831 [==============================] - 4s 5ms/step - loss: 0.1950 - binary_accuracy: 0.9430 - precision_1: 0.9272 - recall_1: 0.9567 - mcc: 0.8864 - val_loss: 0.1866 - val_binary_accuracy: 0.9406 - val_precision_1: 0.9325 - val_recall_1: 0.9483 - val_mcc: 0.8813\n",
      "Epoch 8/20\n",
      "831/831 [==============================] - 5s 5ms/step - loss: 0.1722 - binary_accuracy: 0.9480 - precision_1: 0.9345 - recall_1: 0.9592 - mcc: 0.8963 - val_loss: 0.1702 - val_binary_accuracy: 0.9441 - val_precision_1: 0.9435 - val_recall_1: 0.9432 - val_mcc: 0.8882\n",
      "Epoch 9/20\n",
      "831/831 [==============================] - 4s 5ms/step - loss: 0.1551 - binary_accuracy: 0.9520 - precision_1: 0.9388 - recall_1: 0.9630 - mcc: 0.9042 - val_loss: 0.1568 - val_binary_accuracy: 0.9468 - val_precision_1: 0.9468 - val_recall_1: 0.9453 - val_mcc: 0.8936\n",
      "Epoch 10/20\n",
      "831/831 [==============================] - 4s 5ms/step - loss: 0.1411 - binary_accuracy: 0.9550 - precision_1: 0.9432 - recall_1: 0.9646 - mcc: 0.9102 - val_loss: 0.1433 - val_binary_accuracy: 0.9499 - val_precision_1: 0.9376 - val_recall_1: 0.9625 - val_mcc: 0.9000\n",
      "Epoch 11/20\n",
      "831/831 [==============================] - 4s 5ms/step - loss: 0.1286 - binary_accuracy: 0.9578 - precision_1: 0.9457 - recall_1: 0.9679 - mcc: 0.9158 - val_loss: 0.1379 - val_binary_accuracy: 0.9509 - val_precision_1: 0.9520 - val_recall_1: 0.9483 - val_mcc: 0.9017\n",
      "Epoch 12/20\n",
      "831/831 [==============================] - 4s 5ms/step - loss: 0.1197 - binary_accuracy: 0.9595 - precision_1: 0.9493 - recall_1: 0.9675 - mcc: 0.9192 - val_loss: 0.1316 - val_binary_accuracy: 0.9531 - val_precision_1: 0.9560 - val_recall_1: 0.9487 - val_mcc: 0.9063\n",
      "Epoch 13/20\n",
      "831/831 [==============================] - 4s 4ms/step - loss: 0.1115 - binary_accuracy: 0.9630 - precision_1: 0.9536 - recall_1: 0.9703 - mcc: 0.9260 - val_loss: 0.1216 - val_binary_accuracy: 0.9561 - val_precision_1: 0.9466 - val_recall_1: 0.9654 - val_mcc: 0.9123\n",
      "Epoch 14/20\n",
      "831/831 [==============================] - 4s 4ms/step - loss: 0.1054 - binary_accuracy: 0.9636 - precision_1: 0.9552 - recall_1: 0.9699 - mcc: 0.9272 - val_loss: 0.1167 - val_binary_accuracy: 0.9573 - val_precision_1: 0.9493 - val_recall_1: 0.9650 - val_mcc: 0.9147\n",
      "Epoch 15/20\n",
      "831/831 [==============================] - 4s 5ms/step - loss: 0.0990 - binary_accuracy: 0.9663 - precision_1: 0.9584 - recall_1: 0.9721 - mcc: 0.9326 - val_loss: 0.1128 - val_binary_accuracy: 0.9579 - val_precision_1: 0.9454 - val_recall_1: 0.9707 - val_mcc: 0.9161\n",
      "Epoch 16/20\n",
      "831/831 [==============================] - 4s 4ms/step - loss: 0.0938 - binary_accuracy: 0.9684 - precision_1: 0.9601 - recall_1: 0.9748 - mcc: 0.9368 - val_loss: 0.1122 - val_binary_accuracy: 0.9580 - val_precision_1: 0.9608 - val_recall_1: 0.9538 - val_mcc: 0.9160\n",
      "Epoch 17/20\n",
      "831/831 [==============================] - 4s 5ms/step - loss: 0.0892 - binary_accuracy: 0.9693 - precision_1: 0.9625 - recall_1: 0.9741 - mcc: 0.9386 - val_loss: 0.1077 - val_binary_accuracy: 0.9601 - val_precision_1: 0.9599 - val_recall_1: 0.9593 - val_mcc: 0.9202\n",
      "Epoch 18/20\n",
      "831/831 [==============================] - 4s 4ms/step - loss: 0.0844 - binary_accuracy: 0.9712 - precision_1: 0.9652 - recall_1: 0.9754 - mcc: 0.9425 - val_loss: 0.1036 - val_binary_accuracy: 0.9627 - val_precision_1: 0.9580 - val_recall_1: 0.9668 - val_mcc: 0.9255\n",
      "Epoch 19/20\n",
      "831/831 [==============================] - 4s 4ms/step - loss: 0.0806 - binary_accuracy: 0.9721 - precision_1: 0.9665 - recall_1: 0.9760 - mcc: 0.9443 - val_loss: 0.1010 - val_binary_accuracy: 0.9623 - val_precision_1: 0.9545 - val_recall_1: 0.9698 - val_mcc: 0.9247\n",
      "Epoch 20/20\n",
      "831/831 [==============================] - 4s 5ms/step - loss: 0.0771 - binary_accuracy: 0.9731 - precision_1: 0.9680 - recall_1: 0.9763 - mcc: 0.9461 - val_loss: 0.0989 - val_binary_accuracy: 0.9625 - val_precision_1: 0.9553 - val_recall_1: 0.9693 - val_mcc: 0.9251\n"
     ]
    }
   ],
   "source": [
    "model.compile(loss = tf.keras.losses.BinaryCrossentropy(), \n",
    "              optimizer = tf.keras.optimizers.Adam(learning_rate = 0.001), \n",
    "              metrics = [\n",
    "                  tf.keras.metrics.BinaryAccuracy(),\n",
    "                  tf.keras.metrics.Precision(),\n",
    "                  tf.keras.metrics.Recall(),\n",
    "                  MCC(),\n",
    "              ],\n",
    ")\n",
    "\n",
    "\n",
    "early_stop = tf.keras.callbacks.EarlyStopping(monitor = \"val_loss\", patience = 10, \n",
    "                                              restore_best_weights = True)\n",
    "\n",
    "\n",
    "\n",
    "history = model.fit(\n",
    "        train_text, y_train,\n",
    "        validation_data = (val_text, y_val),\n",
    "        epochs = 20,\n",
    "        callbacks = [early_stop],\n",
    ")"
   ]
  },
  {
   "cell_type": "markdown",
   "id": "5773ba23",
   "metadata": {},
   "source": [
    "### save vectorizer and model"
   ]
  },
  {
   "cell_type": "code",
   "execution_count": 30,
   "id": "e7d19e06",
   "metadata": {},
   "outputs": [],
   "source": [
    "# instantiate keras tensor stating the shape and type of the input\n",
    "text_input = tf.keras.Input(shape = (1,), dtype = tf.string, name = \"text_input\")\n",
    "vectorized = vectorize_layer(text_input)\n",
    "\n",
    "\n",
    "output = model(vectorized)\n",
    "\n",
    "full_model = tf.keras.Model(text_input, output)\n",
    "\n",
    "full_model.compile(loss = tf.keras.losses.BinaryCrossentropy(), \n",
    "              optimizer = tf.keras.optimizers.Adam(learning_rate = 0.001), \n",
    "              metrics = [\n",
    "                  tf.keras.metrics.BinaryAccuracy(),\n",
    "                  tf.keras.metrics.Precision(),\n",
    "                  tf.keras.metrics.Recall(),\n",
    "                  MCC(),\n",
    "              ],\n",
    ")\n"
   ]
  },
  {
   "cell_type": "code",
   "execution_count": 23,
   "id": "277a39a4",
   "metadata": {},
   "outputs": [
    {
     "data": {
      "text/plain": [
       "<tf.Tensor: shape=(5, 1), dtype=float32, numpy=\n",
       "array([[9.9427557e-01],\n",
       "       [5.8742791e-01],\n",
       "       [9.0090853e-01],\n",
       "       [9.9997932e-01],\n",
       "       [3.8897560e-04]], dtype=float32)>"
      ]
     },
     "execution_count": 23,
     "metadata": {},
     "output_type": "execute_result"
    }
   ],
   "source": [
    "full_model(X_train[:5])"
   ]
  },
  {
   "cell_type": "code",
   "execution_count": 31,
   "id": "5e193339",
   "metadata": {
    "scrolled": true
   },
   "outputs": [
    {
     "name": "stderr",
     "output_type": "stream",
     "text": [
      "WARNING:absl:Found untraced functions such as _update_step_xla, _update_step_xla while saving (showing 2 of 2). These functions will not be directly callable after loading.\n"
     ]
    },
    {
     "name": "stdout",
     "output_type": "stream",
     "text": [
      "INFO:tensorflow:Assets written to: model/fake_news_classifier/assets\n"
     ]
    },
    {
     "name": "stderr",
     "output_type": "stream",
     "text": [
      "INFO:tensorflow:Assets written to: model/fake_news_classifier/assets\n"
     ]
    }
   ],
   "source": [
    "full_model.save(\"model/fake_news_classifier\")"
   ]
  },
  {
   "cell_type": "code",
   "execution_count": 17,
   "id": "686e26ae",
   "metadata": {},
   "outputs": [
    {
     "data": {
      "text/plain": [
       "{'loss': [0.6764113903045654,\n",
       "  0.573337733745575,\n",
       "  0.4358932673931122,\n",
       "  0.33490628004074097,\n",
       "  0.2702355682849884,\n",
       "  0.22672930359840393,\n",
       "  0.1949721872806549,\n",
       "  0.17220208048820496,\n",
       "  0.1551186442375183,\n",
       "  0.1410752534866333,\n",
       "  0.12862683832645416,\n",
       "  0.11973682790994644,\n",
       "  0.11146562546491623,\n",
       "  0.10537075251340866,\n",
       "  0.09897641837596893,\n",
       "  0.09382619708776474,\n",
       "  0.08916448801755905,\n",
       "  0.08439692109823227,\n",
       "  0.08057084679603577,\n",
       "  0.07707232981920242],\n",
       " 'binary_accuracy': [0.6143739223480225,\n",
       "  0.8804306983947754,\n",
       "  0.91307133436203,\n",
       "  0.9219561815261841,\n",
       "  0.9305022358894348,\n",
       "  0.9365634918212891,\n",
       "  0.9430012702941895,\n",
       "  0.9480084180831909,\n",
       "  0.9519614577293396,\n",
       "  0.9550108909606934,\n",
       "  0.9577968716621399,\n",
       "  0.9595286250114441,\n",
       "  0.962954580783844,\n",
       "  0.9635946154594421,\n",
       "  0.9662675857543945,\n",
       "  0.9683758616447449,\n",
       "  0.969279408454895,\n",
       "  0.9712371230125427,\n",
       "  0.9721406698226929,\n",
       "  0.9730818271636963],\n",
       " 'precision_1': [0.7381933927536011,\n",
       "  0.8955297470092773,\n",
       "  0.8957986831665039,\n",
       "  0.9027673602104187,\n",
       "  0.9107773303985596,\n",
       "  0.9195645451545715,\n",
       "  0.9272230863571167,\n",
       "  0.934537410736084,\n",
       "  0.9387723803520203,\n",
       "  0.9432461261749268,\n",
       "  0.9457352757453918,\n",
       "  0.9493476748466492,\n",
       "  0.9535706043243408,\n",
       "  0.9551687240600586,\n",
       "  0.9584329724311829,\n",
       "  0.9600955247879028,\n",
       "  0.9625164270401001,\n",
       "  0.9651729464530945,\n",
       "  0.9664627313613892,\n",
       "  0.9680471420288086],\n",
       " 'recall_1': [0.30809542536735535,\n",
       "  0.8508408069610596,\n",
       "  0.9272584915161133,\n",
       "  0.9389910101890564,\n",
       "  0.9485334157943726,\n",
       "  0.9514274597167969,\n",
       "  0.956667959690094,\n",
       "  0.9591708779335022,\n",
       "  0.9630035161972046,\n",
       "  0.9645678400993347,\n",
       "  0.9678529500961304,\n",
       "  0.9675400853157043,\n",
       "  0.9702776670455933,\n",
       "  0.9698866009712219,\n",
       "  0.9720766544342041,\n",
       "  0.974814236164093,\n",
       "  0.9741103053092957,\n",
       "  0.9754399657249451,\n",
       "  0.9759874939918518,\n",
       "  0.9763003587722778],\n",
       " 'mcc': [0.25775954127311707,\n",
       "  0.7609805464744568,\n",
       "  0.8265923261642456,\n",
       "  0.8445501327514648,\n",
       "  0.8617040514945984,\n",
       "  0.8735944032669067,\n",
       "  0.8863881826400757,\n",
       "  0.8962591886520386,\n",
       "  0.9041574001312256,\n",
       "  0.9101851582527161,\n",
       "  0.9157792925834656,\n",
       "  0.9191567301750183,\n",
       "  0.9259844422340393,\n",
       "  0.927230179309845,\n",
       "  0.932563304901123,\n",
       "  0.9368005990982056,\n",
       "  0.9385629296302795,\n",
       "  0.9424654245376587,\n",
       "  0.9442658424377441,\n",
       "  0.9461369514465332],\n",
       " 'val_loss': [0.6389771699905396,\n",
       "  0.4962949752807617,\n",
       "  0.3787117600440979,\n",
       "  0.29478931427001953,\n",
       "  0.2475125789642334,\n",
       "  0.21056076884269714,\n",
       "  0.18663398921489716,\n",
       "  0.1701548546552658,\n",
       "  0.15680569410324097,\n",
       "  0.1433371752500534,\n",
       "  0.1379491239786148,\n",
       "  0.13155610859394073,\n",
       "  0.12159078568220139,\n",
       "  0.11673504114151001,\n",
       "  0.11278728395700455,\n",
       "  0.11215952783823013,\n",
       "  0.1077125295996666,\n",
       "  0.10364307463169098,\n",
       "  0.10095223784446716,\n",
       "  0.09891761094331741],\n",
       " 'val_binary_accuracy': [0.8993675112724304,\n",
       "  0.9107747673988342,\n",
       "  0.9116783142089844,\n",
       "  0.9244409203529358,\n",
       "  0.9306527972221375,\n",
       "  0.9352834820747375,\n",
       "  0.9405918121337891,\n",
       "  0.9440930485725403,\n",
       "  0.9468036890029907,\n",
       "  0.9498531818389893,\n",
       "  0.9508696794509888,\n",
       "  0.9531285166740417,\n",
       "  0.9560650587081909,\n",
       "  0.9573074579238892,\n",
       "  0.9578721523284912,\n",
       "  0.9579851031303406,\n",
       "  0.9601309895515442,\n",
       "  0.96272873878479,\n",
       "  0.9622769355773926,\n",
       "  0.9625028371810913],\n",
       " 'val_precision_1': [0.8588817715644836,\n",
       "  0.9151206016540527,\n",
       "  0.9339622855186462,\n",
       "  0.9087696075439453,\n",
       "  0.9331181049346924,\n",
       "  0.9195579886436462,\n",
       "  0.932493269443512,\n",
       "  0.9434653520584106,\n",
       "  0.9468255639076233,\n",
       "  0.9375835657119751,\n",
       "  0.9519871473312378,\n",
       "  0.9559603333473206,\n",
       "  0.9466008543968201,\n",
       "  0.9493471384048462,\n",
       "  0.9453977942466736,\n",
       "  0.9608114361763,\n",
       "  0.9599267244338989,\n",
       "  0.9580498933792114,\n",
       "  0.9545044898986816,\n",
       "  0.9553450345993042],\n",
       " 'val_recall_1': [0.9526315927505493,\n",
       "  0.9029748439788818,\n",
       "  0.8835240006446838,\n",
       "  0.9414187669754028,\n",
       "  0.9258581399917603,\n",
       "  0.9521738886833191,\n",
       "  0.9482837319374084,\n",
       "  0.9432494044303894,\n",
       "  0.9453089237213135,\n",
       "  0.9624714255332947,\n",
       "  0.9482837319374084,\n",
       "  0.9487414360046387,\n",
       "  0.9654462337493896,\n",
       "  0.9649885296821594,\n",
       "  0.9707093834877014,\n",
       "  0.9537757635116577,\n",
       "  0.9592677354812622,\n",
       "  0.9668192267417908,\n",
       "  0.9697940349578857,\n",
       "  0.9693363904953003],\n",
       " 'val_mcc': [0.8036478161811829,\n",
       "  0.8215603828430176,\n",
       "  0.8243802785873413,\n",
       "  0.8494598269462585,\n",
       "  0.8612943291664124,\n",
       "  0.8711376786231995,\n",
       "  0.8813126683235168,\n",
       "  0.8881673216819763,\n",
       "  0.8935887217521667,\n",
       "  0.9000324606895447,\n",
       "  0.9017248749732971,\n",
       "  0.9062577486038208,\n",
       "  0.9123139381408691,\n",
       "  0.9147395491600037,\n",
       "  0.9160788655281067,\n",
       "  0.9159723520278931,\n",
       "  0.9202483296394348,\n",
       "  0.9254915118217468,\n",
       "  0.9246723055839539,\n",
       "  0.9251038432121277]}"
      ]
     },
     "execution_count": 17,
     "metadata": {},
     "output_type": "execute_result"
    }
   ],
   "source": [
    "history.history"
   ]
  },
  {
   "cell_type": "markdown",
   "id": "cce10dee",
   "metadata": {},
   "source": [
    "### performance of the training and validation sets"
   ]
  },
  {
   "cell_type": "code",
   "execution_count": 25,
   "id": "e1521d6f",
   "metadata": {},
   "outputs": [],
   "source": [
    "epochs = history.epoch"
   ]
  },
  {
   "cell_type": "code",
   "execution_count": 27,
   "id": "8af97092",
   "metadata": {},
   "outputs": [
    {
     "data": {
      "image/png": "[encoded data removed]",
      "text/plain": [
       "<Figure size 640x480 with 1 Axes>"
      ]
     },
     "metadata": {},
     "output_type": "display_data"
    }
   ],
   "source": [
    "plt.plot(range(1, max(epochs) + 2), history.history['loss'], \".:\")\n",
    "plt.plot(range(1, max(epochs) + 2), history.history['val_loss'], \".:\")\n",
    "\n",
    "plt.title('Learning curve - loss')\n",
    "plt.legend(['training', 'validation'], loc = \"best\")\n",
    "plt.ylabel(r\"$\\mathrm{loss}$\")\n",
    "plt.xlabel(\"epoch\")\n",
    "plt.xticks(range(1, max(epochs) + 2))\n",
    "plt.show()"
   ]
  },
  {
   "cell_type": "code",
   "execution_count": 28,
   "id": "b1e9bf28",
   "metadata": {},
   "outputs": [
    {
     "data": {
      "image/png": "[encoded data removed]",
      "text/plain": [
       "<Figure size 640x480 with 1 Axes>"
      ]
     },
     "metadata": {},
     "output_type": "display_data"
    }
   ],
   "source": [
    "plt.plot(range(1, max(epochs) + 2), history.history['binary_accuracy'], \".:\")\n",
    "plt.plot(range(1, max(epochs) + 2), history.history['val_binary_accuracy'], \".:\")\n",
    "\n",
    "plt.title('Training and validation binary accuracy')\n",
    "plt.legend(['training', 'validation'], loc = \"best\")\n",
    "plt.ylabel(\"binary accuracy\")\n",
    "plt.xlabel(\"epoch\")\n",
    "plt.xticks(range(1, max(epochs) + 2))\n",
    "plt.show()"
   ]
  },
  {
   "cell_type": "code",
   "execution_count": 29,
   "id": "98b92f72",
   "metadata": {},
   "outputs": [
    {
     "data": {
      "image/png": "[encoded data removed]",
      "text/plain": [
       "<Figure size 640x480 with 1 Axes>"
      ]
     },
     "metadata": {},
     "output_type": "display_data"
    }
   ],
   "source": [
    "plt.plot(range(1, max(epochs) + 2), history.history['mcc'], \".:\")\n",
    "plt.plot(range(1, max(epochs) + 2), history.history['val_mcc'], \".:\")\n",
    "\n",
    "plt.title('Training and validation MCC')\n",
    "plt.legend(['training', 'validation'], loc = \"best\")\n",
    "plt.ylabel(\"mcc\")\n",
    "plt.xlabel(\"epoch\")\n",
    "plt.xticks(range(1, max(epochs) + 2))\n",
    "plt.show()"
   ]
  },
  {
   "cell_type": "markdown",
   "id": "348144b4",
   "metadata": {},
   "source": [
    "###### model performance on the test set"
   ]
  },
  {
   "cell_type": "code",
   "execution_count": 19,
   "id": "010c1e45",
   "metadata": {},
   "outputs": [
    {
     "name": "stdout",
     "output_type": "stream",
     "text": [
      "277/277 [==============================] - 0s 1ms/step\n"
     ]
    }
   ],
   "source": [
    "y_pred = model.predict(test_text)"
   ]
  },
  {
   "cell_type": "code",
   "execution_count": 20,
   "id": "a96fa2cc",
   "metadata": {},
   "outputs": [
    {
     "data": {
      "text/plain": [
       "(8855, 1)"
      ]
     },
     "execution_count": 20,
     "metadata": {},
     "output_type": "execute_result"
    }
   ],
   "source": [
    "y_pred.shape"
   ]
  },
  {
   "cell_type": "code",
   "execution_count": 21,
   "id": "374b1f6b",
   "metadata": {},
   "outputs": [
    {
     "data": {
      "text/plain": [
       "array([[False],\n",
       "       [False],\n",
       "       [ True],\n",
       "       ...,\n",
       "       [ True],\n",
       "       [False],\n",
       "       [ True]])"
      ]
     },
     "execution_count": 21,
     "metadata": {},
     "output_type": "execute_result"
    }
   ],
   "source": [
    "y_pred > 0.5"
   ]
  },
  {
   "cell_type": "code",
   "execution_count": 22,
   "id": "d649079d",
   "metadata": {},
   "outputs": [
    {
     "name": "stdout",
     "output_type": "stream",
     "text": [
      "277/277 [==============================] - 0s 1ms/step - loss: 0.0999 - binary_accuracy: 0.9641 - precision: 0.9614 - recall: 0.9641 - mcc: 0.9281\n"
     ]
    }
   ],
   "source": [
    "evaluation = model.evaluate(x = test_text, y = y_test, return_dict = True)"
   ]
  },
  {
   "cell_type": "code",
   "execution_count": 23,
   "id": "85524b09",
   "metadata": {},
   "outputs": [
    {
     "data": {
      "text/plain": [
       "dict_items([('loss', 0.09994752705097198), ('binary_accuracy', 0.9640880823135376), ('precision', 0.9613854289054871), ('recall', 0.9640929102897644), ('mcc', 0.9280852675437927)])"
      ]
     },
     "execution_count": 23,
     "metadata": {},
     "output_type": "execute_result"
    }
   ],
   "source": [
    "evaluation.items()"
   ]
  },
  {
   "cell_type": "code",
   "execution_count": 24,
   "id": "2fa9aef8",
   "metadata": {},
   "outputs": [
    {
     "name": "stdout",
     "output_type": "stream",
     "text": [
      "loss: 0.0999\n",
      "binary_accuracy: 0.9641\n",
      "precision: 0.9614\n",
      "recall: 0.9641\n",
      "mcc: 0.9281\n"
     ]
    }
   ],
   "source": [
    "for metric, value in evaluation.items():\n",
    "    print(f\"{metric}: {value:.4f}\")"
   ]
  },
  {
   "cell_type": "code",
   "execution_count": null,
   "id": "db87828c",
   "metadata": {},
   "outputs": [],
   "source": []
  },
  {
   "cell_type": "code",
   "execution_count": null,
   "id": "d612d755",
   "metadata": {},
   "outputs": [],
   "source": []
  },
  {
   "cell_type": "code",
   "execution_count": null,
   "id": "4ef6a622",
   "metadata": {},
   "outputs": [],
   "source": []
  },
  {
   "cell_type": "code",
   "execution_count": null,
   "id": "f244005b",
   "metadata": {},
   "outputs": [],
   "source": []
  }
 ],
 "metadata": {
  "kernelspec": {
   "display_name": "Python 3 (ipykernel)",
   "language": "python",
   "name": "python3"
  },
  "language_info": {
   "codemirror_mode": {
    "name": "ipython",
    "version": 3
   },
   "file_extension": ".py",
   "mimetype": "text/x-python",
   "name": "python",
   "nbconvert_exporter": "python",
   "pygments_lexer": "ipython3",
   "version": "3.9.13"
  }
 },
 "nbformat": 4,
 "nbformat_minor": 5
}
