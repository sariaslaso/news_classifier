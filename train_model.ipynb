{
 "cells": [
  {
   "cell_type": "code",
   "execution_count": null,
   "id": "b6182681",
   "metadata": {},
   "outputs": [],
   "source": [
    "import tensorflow as tf\n",
    "import matplotlib.pyplot as plt\n",
    "\n",
    "from tensorflow.keras.layers.experimental.preprocessing import TextVectorization\n",
    "from tensorflow.keras import layers\n",
    "from tensorflow.keras.models import Sequential\n",
    "\n",
    "from tf_mcc import MCC"
   ]
  },
  {
   "cell_type": "code",
   "execution_count": null,
   "id": "f8ad8511",
   "metadata": {},
   "outputs": [],
   "source": [
    "# load training and validation sets"
   ]
  },
  {
   "cell_type": "code",
   "execution_count": null,
   "id": "5b970cdd",
   "metadata": {},
   "outputs": [],
   "source": [
    "# model parameters\n",
    "vocabulary_size = 10000 # maximum vocabulary size (max_features, maximum number of tokens)\n",
    "max_len = 250 # sequence length to pad the outputs to\n",
    "embedding_dim = 16\n",
    "\n",
    "# create vocab layer\n",
    "# instantiate the text vectorization layer\n",
    "vectorize_layer = TextVectorization(max_tokens = vocabulary_size, \n",
    "                                    standardize = \"lower_and_strip_punctuation\", \n",
    "                                    output_mode = \"int\", \n",
    "                                    output_sequence_length = max_len)\n",
    "\n",
    "# build the vocabulary\n",
    "# vectorization layer that generates a tensor of shape (batch_size, max_len) containing vocabulary indices\n",
    "vectorize_layer.adapt(X_train)\n",
    "\n",
    "# vectorize_layer.get_vocabulary()\n",
    "# vectorize_layer.vocabulary_size()"
   ]
  },
  {
   "cell_type": "code",
   "execution_count": null,
   "id": "d3aa2be3",
   "metadata": {},
   "outputs": [],
   "source": [
    "train_text = vectorize_layer(X_train)\n",
    "val_text = vectorize_layer(X_val)\n",
    "test_text = vectorize_layer(X_test)"
   ]
  },
  {
   "cell_type": "code",
   "execution_count": null,
   "id": "03b8d4e0",
   "metadata": {},
   "outputs": [],
   "source": [
    "train_text.shape"
   ]
  },
  {
   "cell_type": "code",
   "execution_count": null,
   "id": "48f3448b",
   "metadata": {},
   "outputs": [],
   "source": [
    "model = Sequential([\n",
    "    tf.keras.Input(shape = (250,), dtype = tf.int64),\n",
    "    layers.Embedding(vocabulary_size + 1, embedding_dim),\n",
    "    layers.Dropout(0.2),\n",
    "    layers.GlobalAveragePooling1D(),\n",
    "    layers.Dropout(0.2),\n",
    "    layers.Dense(units = 1, activation = \"sigmoid\") # revise the use of this layer\n",
    "]\n",
    ")"
   ]
  },
  {
   "cell_type": "code",
   "execution_count": null,
   "id": "b6f374f5",
   "metadata": {},
   "outputs": [],
   "source": [
    "model.summary()"
   ]
  },
  {
   "cell_type": "code",
   "execution_count": null,
   "id": "cabb69aa",
   "metadata": {},
   "outputs": [],
   "source": [
    "model.compile(loss = tf.keras.losses.BinaryCrossentropy(), \n",
    "              optimizer = tf.keras.optimizers.Adam(learning_rate = 0.001), \n",
    "              metrics = [\n",
    "                  tf.keras.metrics.BinaryAccuracy(),\n",
    "                  tf.keras.metrics.Precision(),\n",
    "                  tf.keras.metrics.Recall(),\n",
    "                  MCC(),\n",
    "              ],\n",
    ")\n",
    "\n",
    "\n",
    "callback = tf.keras.callbacks.EarlyStopping(monitor = \"val_loss\", patience = 10)\n",
    "\n",
    "\n",
    "history = model.fit(\n",
    "        train_text, y_train,\n",
    "        validation_data = (val_text, y_val),\n",
    "        epochs = 20,\n",
    "        callbacks = [callback],\n",
    ")"
   ]
  },
  {
   "cell_type": "code",
   "execution_count": null,
   "id": "686e26ae",
   "metadata": {},
   "outputs": [],
   "source": [
    "history.history"
   ]
  },
  {
   "cell_type": "code",
   "execution_count": null,
   "id": "88b3c467",
   "metadata": {},
   "outputs": [],
   "source": [
    "epochs = history.epoch"
   ]
  },
  {
   "cell_type": "code",
   "execution_count": null,
   "id": "02d88f94",
   "metadata": {},
   "outputs": [],
   "source": [
    "range(1, max(history.epoch) + 2)"
   ]
  },
  {
   "cell_type": "code",
   "execution_count": null,
   "id": "8af97092",
   "metadata": {},
   "outputs": [],
   "source": [
    "plt.plot(range(1, max(epochs) + 2), history.history['loss'], \".:\")\n",
    "plt.plot(range(1, max(epochs) + 2), history.history['val_loss'], \".:\")\n",
    "\n",
    "plt.title('Learning curve - loss')\n",
    "plt.legend(['training', 'validation'], loc = \"best\")\n",
    "plt.ylabel(r\"$\\mathrm{loss}$\")\n",
    "plt.xlabel(\"epoch\")\n",
    "plt.xticks(range(1, max(epochs) + 2))\n",
    "plt.show()"
   ]
  },
  {
   "cell_type": "code",
   "execution_count": null,
   "id": "b1e9bf28",
   "metadata": {},
   "outputs": [],
   "source": [
    "plt.plot(range(1, max(epochs) + 2), history.history['binary_accuracy'], \".:\")\n",
    "plt.plot(range(1, max(epochs) + 2), history.history['val_binary_accuracy'], \".:\")\n",
    "\n",
    "plt.title('Training and validation binary accuracy')\n",
    "plt.legend(['training', 'validation'], loc = \"best\")\n",
    "plt.ylabel(\"binary accuracy\")\n",
    "plt.xlabel(\"epoch\")\n",
    "plt.xticks(range(1, max(epochs) + 2))\n",
    "plt.show()"
   ]
  },
  {
   "cell_type": "code",
   "execution_count": null,
   "id": "98b92f72",
   "metadata": {},
   "outputs": [],
   "source": [
    "plt.plot(range(1, max(epochs) + 2), history.history['mcc'], \".:\")\n",
    "plt.plot(range(1, max(epochs) + 2), history.history['val_mcc'], \".:\")\n",
    "\n",
    "plt.title('Training and validation MCC')\n",
    "plt.legend(['training', 'validation'], loc = \"best\")\n",
    "plt.ylabel(\"mcc\")\n",
    "plt.xlabel(\"epoch\")\n",
    "plt.xticks(range(1, max(epochs) + 2))\n",
    "plt.show()"
   ]
  },
  {
   "cell_type": "code",
   "execution_count": null,
   "id": "f9421f37",
   "metadata": {},
   "outputs": [],
   "source": []
  },
  {
   "cell_type": "code",
   "execution_count": null,
   "id": "db87828c",
   "metadata": {},
   "outputs": [],
   "source": []
  },
  {
   "cell_type": "code",
   "execution_count": null,
   "id": "3e46e70c",
   "metadata": {},
   "outputs": [],
   "source": []
  }
 ],
 "metadata": {
  "kernelspec": {
   "display_name": "Python 3 (ipykernel)",
   "language": "python",
   "name": "python3"
  },
  "language_info": {
   "codemirror_mode": {
    "name": "ipython",
    "version": 3
   },
   "file_extension": ".py",
   "mimetype": "text/x-python",
   "name": "python",
   "nbconvert_exporter": "python",
   "pygments_lexer": "ipython3",
   "version": "3.9.13"
  }
 },
 "nbformat": 4,
 "nbformat_minor": 5
}
