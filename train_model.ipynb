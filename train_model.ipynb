{
 "cells": [
  {
   "cell_type": "code",
   "execution_count": 2,
   "id": "b6182681",
   "metadata": {},
   "outputs": [],
   "source": [
    "import numpy as np\n",
    "import pandas as pd\n",
    "import tensorflow as tf\n",
    "import matplotlib.pyplot as plt\n",
    "\n",
    "from tensorflow.keras.layers.experimental.preprocessing import TextVectorization\n",
    "from tensorflow.keras import layers\n",
    "from tensorflow.keras.models import Sequential\n",
    "\n",
    "from tf_mcc import MCC"
   ]
  },
  {
   "cell_type": "code",
   "execution_count": 3,
   "id": "f8ad8511",
   "metadata": {},
   "outputs": [],
   "source": [
    "# load training and validation sets\n",
    "\n",
    "X_train = pd.read_csv(\"dataset/X_train.csv\")\n",
    "X_val = pd.read_csv(\"dataset/X_val.csv\")\n",
    "y_train = pd.read_csv(\"dataset/y_train.csv\")\n",
    "y_val = pd.read_csv(\"dataset/y_val.csv\")\n",
    "\n",
    "# load test set\n",
    "X_test = pd.read_csv(\"dataset/X_test.csv\")\n",
    "y_test = pd.read_csv(\"dataset/y_test.csv\")"
   ]
  },
  {
   "cell_type": "code",
   "execution_count": 4,
   "id": "78c911a2",
   "metadata": {},
   "outputs": [],
   "source": [
    "X_train = X_train['title'].values\n",
    "X_val = X_val['title'].values\n",
    "X_test = X_test['title'].values\n",
    "\n",
    "y_train = y_train['classification'].values\n",
    "y_val = y_val['classification'].values\n",
    "y_test = y_test['classification'].values"
   ]
  },
  {
   "cell_type": "code",
   "execution_count": 6,
   "id": "5b970cdd",
   "metadata": {},
   "outputs": [],
   "source": [
    "# model parameters\n",
    "vocabulary_size = 10000 # maximum vocabulary size (max_features, maximum number of tokens)\n",
    "max_len = 250 # sequence length to pad the outputs to\n",
    "embedding_dim = 16\n",
    "\n",
    "# create vocab layer\n",
    "# instantiate the text vectorization layer\n",
    "vectorize_layer = TextVectorization(max_tokens = vocabulary_size, \n",
    "                                    standardize = \"lower_and_strip_punctuation\", \n",
    "                                    output_mode = \"int\", \n",
    "                                    output_sequence_length = max_len)\n",
    "\n",
    "# build the vocabulary\n",
    "# vectorization layer that generates a tensor of shape (batch_size, max_len) containing vocabulary indices\n",
    "vectorize_layer.adapt(X_train)\n",
    "\n",
    "# vectorize_layer.get_vocabulary()\n",
    "# vectorize_layer.vocabulary_size()"
   ]
  },
  {
   "cell_type": "code",
   "execution_count": 7,
   "id": "d3aa2be3",
   "metadata": {},
   "outputs": [],
   "source": [
    "train_text = vectorize_layer(X_train)\n",
    "val_text = vectorize_layer(X_val)\n",
    "test_text = vectorize_layer(X_test)"
   ]
  },
  {
   "cell_type": "code",
   "execution_count": 8,
   "id": "03b8d4e0",
   "metadata": {},
   "outputs": [
    {
     "data": {
      "text/plain": [
       "TensorShape([26562, 250])"
      ]
     },
     "execution_count": 8,
     "metadata": {},
     "output_type": "execute_result"
    }
   ],
   "source": [
    "train_text.shape"
   ]
  },
  {
   "cell_type": "code",
   "execution_count": 9,
   "id": "a3161500",
   "metadata": {},
   "outputs": [
    {
     "data": {
      "text/plain": [
       "TensorShape([8855, 250])"
      ]
     },
     "execution_count": 9,
     "metadata": {},
     "output_type": "execute_result"
    }
   ],
   "source": [
    "test_text.shape"
   ]
  },
  {
   "cell_type": "code",
   "execution_count": 10,
   "id": "48f3448b",
   "metadata": {},
   "outputs": [],
   "source": [
    "model = Sequential([\n",
    "    tf.keras.Input(shape = (250,), dtype = tf.int64),\n",
    "    layers.Embedding(vocabulary_size + 1, embedding_dim),\n",
    "    layers.Dropout(0.2),\n",
    "    layers.GlobalAveragePooling1D(),\n",
    "    layers.Dropout(0.2),\n",
    "    layers.Dense(units = 1, activation = \"sigmoid\") # revise the use of this layer\n",
    "]\n",
    ")"
   ]
  },
  {
   "cell_type": "code",
   "execution_count": 11,
   "id": "b6f374f5",
   "metadata": {},
   "outputs": [
    {
     "name": "stdout",
     "output_type": "stream",
     "text": [
      "Model: \"sequential\"\n",
      "_________________________________________________________________\n",
      " Layer (type)                Output Shape              Param #   \n",
      "=================================================================\n",
      " embedding (Embedding)       (None, 250, 16)           160016    \n",
      "                                                                 \n",
      " dropout (Dropout)           (None, 250, 16)           0         \n",
      "                                                                 \n",
      " global_average_pooling1d (G  (None, 16)               0         \n",
      " lobalAveragePooling1D)                                          \n",
      "                                                                 \n",
      " dropout_1 (Dropout)         (None, 16)                0         \n",
      "                                                                 \n",
      " dense (Dense)               (None, 1)                 17        \n",
      "                                                                 \n",
      "=================================================================\n",
      "Total params: 160,033\n",
      "Trainable params: 160,033\n",
      "Non-trainable params: 0\n",
      "_________________________________________________________________\n"
     ]
    }
   ],
   "source": [
    "model.summary()"
   ]
  },
  {
   "cell_type": "code",
   "execution_count": 12,
   "id": "cabb69aa",
   "metadata": {},
   "outputs": [
    {
     "name": "stdout",
     "output_type": "stream",
     "text": [
      "Epoch 1/20\n",
      "831/831 [==============================] - 5s 5ms/step - loss: 0.6789 - binary_accuracy: 0.6251 - precision: 0.8366 - recall: 0.2747 - mcc: 0.3081 - val_loss: 0.6506 - val_binary_accuracy: 0.7720 - val_precision: 0.9867 - val_recall: 0.5453 - val_mcc: 0.6041\n",
      "Epoch 2/20\n",
      "831/831 [==============================] - 4s 4ms/step - loss: 0.5949 - binary_accuracy: 0.8658 - precision: 0.8922 - recall: 0.8203 - mcc: 0.7326 - val_loss: 0.5250 - val_binary_accuracy: 0.9065 - val_precision: 0.9290 - val_recall: 0.8776 - val_mcc: 0.8140\n",
      "Epoch 3/20\n",
      "831/831 [==============================] - 3s 4ms/step - loss: 0.4625 - binary_accuracy: 0.9106 - precision: 0.8962 - recall: 0.9209 - mcc: 0.8214 - val_loss: 0.3960 - val_binary_accuracy: 0.9122 - val_precision: 0.8799 - val_recall: 0.9522 - val_mcc: 0.8274\n",
      "Epoch 4/20\n",
      "831/831 [==============================] - 4s 4ms/step - loss: 0.3542 - binary_accuracy: 0.9223 - precision: 0.9028 - recall: 0.9397 - mcc: 0.8452 - val_loss: 0.3103 - val_binary_accuracy: 0.9225 - val_precision: 0.9158 - val_recall: 0.9284 - val_mcc: 0.8451\n",
      "Epoch 5/20\n",
      "831/831 [==============================] - 4s 5ms/step - loss: 0.2823 - binary_accuracy: 0.9298 - precision: 0.9112 - recall: 0.9464 - mcc: 0.8602 - val_loss: 0.2547 - val_binary_accuracy: 0.9299 - val_precision: 0.9174 - val_recall: 0.9428 - val_mcc: 0.8601\n",
      "Epoch 6/20\n",
      "831/831 [==============================] - 4s 5ms/step - loss: 0.2350 - binary_accuracy: 0.9361 - precision: 0.9190 - recall: 0.9510 - mcc: 0.8726 - val_loss: 0.2255 - val_binary_accuracy: 0.9321 - val_precision: 0.9452 - val_recall: 0.9156 - val_mcc: 0.8646\n",
      "Epoch 7/20\n",
      "831/831 [==============================] - 4s 4ms/step - loss: 0.2016 - binary_accuracy: 0.9421 - precision: 0.9262 - recall: 0.9559 - mcc: 0.8846 - val_loss: 0.1971 - val_binary_accuracy: 0.9400 - val_precision: 0.9459 - val_recall: 0.9318 - val_mcc: 0.8801\n",
      "Epoch 8/20\n",
      "831/831 [==============================] - 4s 4ms/step - loss: 0.1774 - binary_accuracy: 0.9461 - precision: 0.9309 - recall: 0.9592 - mcc: 0.8925 - val_loss: 0.1787 - val_binary_accuracy: 0.9422 - val_precision: 0.9494 - val_recall: 0.9325 - val_mcc: 0.8844\n",
      "Epoch 9/20\n",
      "831/831 [==============================] - 4s 4ms/step - loss: 0.1587 - binary_accuracy: 0.9508 - precision: 0.9377 - recall: 0.9618 - mcc: 0.9019 - val_loss: 0.1588 - val_binary_accuracy: 0.9462 - val_precision: 0.9433 - val_recall: 0.9481 - val_mcc: 0.8925\n",
      "Epoch 10/20\n",
      "831/831 [==============================] - 4s 5ms/step - loss: 0.1437 - binary_accuracy: 0.9534 - precision: 0.9406 - recall: 0.9641 - mcc: 0.9071 - val_loss: 0.1464 - val_binary_accuracy: 0.9493 - val_precision: 0.9329 - val_recall: 0.9668 - val_mcc: 0.8992\n",
      "Epoch 11/20\n",
      "831/831 [==============================] - 4s 4ms/step - loss: 0.1327 - binary_accuracy: 0.9556 - precision: 0.9441 - recall: 0.9650 - mcc: 0.9114 - val_loss: 0.1368 - val_binary_accuracy: 0.9529 - val_precision: 0.9423 - val_recall: 0.9636 - val_mcc: 0.9060\n",
      "Epoch 12/20\n",
      "831/831 [==============================] - 3s 4ms/step - loss: 0.1216 - binary_accuracy: 0.9602 - precision: 0.9489 - recall: 0.9696 - mcc: 0.9206 - val_loss: 0.1296 - val_binary_accuracy: 0.9530 - val_precision: 0.9389 - val_recall: 0.9677 - val_mcc: 0.9065\n",
      "Epoch 13/20\n",
      "831/831 [==============================] - 4s 4ms/step - loss: 0.1136 - binary_accuracy: 0.9614 - precision: 0.9515 - recall: 0.9692 - mcc: 0.9229 - val_loss: 0.1243 - val_binary_accuracy: 0.9550 - val_precision: 0.9518 - val_recall: 0.9574 - val_mcc: 0.9101\n",
      "Epoch 14/20\n",
      "831/831 [==============================] - 4s 5ms/step - loss: 0.1060 - binary_accuracy: 0.9637 - precision: 0.9539 - recall: 0.9715 - mcc: 0.9275 - val_loss: 0.1185 - val_binary_accuracy: 0.9556 - val_precision: 0.9420 - val_recall: 0.9698 - val_mcc: 0.9116\n",
      "Epoch 15/20\n",
      "831/831 [==============================] - 4s 5ms/step - loss: 0.1004 - binary_accuracy: 0.9655 - precision: 0.9574 - recall: 0.9715 - mcc: 0.9310 - val_loss: 0.1152 - val_binary_accuracy: 0.9561 - val_precision: 0.9401 - val_recall: 0.9730 - val_mcc: 0.9127\n",
      "Epoch 16/20\n",
      "831/831 [==============================] - 4s 5ms/step - loss: 0.0948 - binary_accuracy: 0.9677 - precision: 0.9601 - recall: 0.9732 - mcc: 0.9353 - val_loss: 0.1156 - val_binary_accuracy: 0.9563 - val_precision: 0.9626 - val_recall: 0.9483 - val_mcc: 0.9126\n",
      "Epoch 17/20\n",
      "831/831 [==============================] - 4s 4ms/step - loss: 0.0908 - binary_accuracy: 0.9690 - precision: 0.9618 - recall: 0.9743 - mcc: 0.9380 - val_loss: 0.1099 - val_binary_accuracy: 0.9584 - val_precision: 0.9606 - val_recall: 0.9549 - val_mcc: 0.9169\n",
      "Epoch 18/20\n",
      "831/831 [==============================] - 4s 5ms/step - loss: 0.0861 - binary_accuracy: 0.9701 - precision: 0.9629 - recall: 0.9755 - mcc: 0.9403 - val_loss: 0.1063 - val_binary_accuracy: 0.9584 - val_precision: 0.9431 - val_recall: 0.9746 - val_mcc: 0.9174\n",
      "Epoch 19/20\n",
      "831/831 [==============================] - 4s 4ms/step - loss: 0.0823 - binary_accuracy: 0.9714 - precision: 0.9658 - recall: 0.9752 - mcc: 0.9428 - val_loss: 0.1029 - val_binary_accuracy: 0.9623 - val_precision: 0.9595 - val_recall: 0.9643 - val_mcc: 0.9246\n",
      "Epoch 20/20\n",
      "831/831 [==============================] - 4s 4ms/step - loss: 0.0782 - binary_accuracy: 0.9730 - precision: 0.9676 - recall: 0.9767 - mcc: 0.9461 - val_loss: 0.1012 - val_binary_accuracy: 0.9615 - val_precision: 0.9602 - val_recall: 0.9618 - val_mcc: 0.9230\n"
     ]
    }
   ],
   "source": [
    "model.compile(loss = tf.keras.losses.BinaryCrossentropy(), \n",
    "              optimizer = tf.keras.optimizers.Adam(learning_rate = 0.001), \n",
    "              metrics = [\n",
    "                  tf.keras.metrics.BinaryAccuracy(),\n",
    "                  tf.keras.metrics.Precision(),\n",
    "                  tf.keras.metrics.Recall(),\n",
    "                  MCC(),\n",
    "              ],\n",
    ")\n",
    "\n",
    "\n",
    "early_stop = tf.keras.callbacks.EarlyStopping(monitor = \"val_loss\", patience = 10, \n",
    "                                              restore_best_weights = True)\n",
    "\n",
    "check_point = tf.keras.callbacks.ModelCheckPoint(filepath = \"model/GAP_1d\", \n",
    "                                                 save_weights_only = True, \n",
    "                                                 verbose = 1)\n",
    "\n",
    "\n",
    "history = model.fit(\n",
    "        train_text, y_train,\n",
    "        validation_data = (val_text, y_val),\n",
    "        epochs = 20,\n",
    "        callbacks = [early_stop],\n",
    ")"
   ]
  },
  {
   "cell_type": "code",
   "execution_count": 14,
   "id": "e7d19e06",
   "metadata": {},
   "outputs": [
    {
     "name": "stderr",
     "output_type": "stream",
     "text": [
      "WARNING:absl:Found untraced functions such as _update_step_xla while saving (showing 1 of 1). These functions will not be directly callable after loading.\n"
     ]
    },
    {
     "name": "stdout",
     "output_type": "stream",
     "text": [
      "INFO:tensorflow:Assets written to: model/GAP_1D/assets\n"
     ]
    },
    {
     "name": "stderr",
     "output_type": "stream",
     "text": [
      "INFO:tensorflow:Assets written to: model/GAP_1D/assets\n"
     ]
    }
   ],
   "source": [
    "model.save(\"model/GAP_1D\")"
   ]
  },
  {
   "cell_type": "code",
   "execution_count": 15,
   "id": "686e26ae",
   "metadata": {},
   "outputs": [
    {
     "data": {
      "text/plain": [
       "{'loss': [0.6789443492889404,\n",
       "  0.5948981642723083,\n",
       "  0.4625357985496521,\n",
       "  0.35418567061424255,\n",
       "  0.28233802318573,\n",
       "  0.2349836826324463,\n",
       "  0.2016076296567917,\n",
       "  0.17737415432929993,\n",
       "  0.15869365632534027,\n",
       "  0.143744558095932,\n",
       "  0.1326853483915329,\n",
       "  0.1215963065624237,\n",
       "  0.11363797634840012,\n",
       "  0.10597752034664154,\n",
       "  0.10036654770374298,\n",
       "  0.0947837233543396,\n",
       "  0.09082057327032089,\n",
       "  0.08605403453111649,\n",
       "  0.08228971809148788,\n",
       "  0.07821780443191528],\n",
       " 'binary_accuracy': [0.6250658631324768,\n",
       "  0.8657857179641724,\n",
       "  0.9105865359306335,\n",
       "  0.9222573637962341,\n",
       "  0.9298245906829834,\n",
       "  0.9360740780830383,\n",
       "  0.9420977234840393,\n",
       "  0.9460883736610413,\n",
       "  0.9508320093154907,\n",
       "  0.9534296989440918,\n",
       "  0.9556132555007935,\n",
       "  0.9602063298225403,\n",
       "  0.9614110589027405,\n",
       "  0.9637075662612915,\n",
       "  0.9654769897460938,\n",
       "  0.9676605463027954,\n",
       "  0.969015896320343,\n",
       "  0.9701453447341919,\n",
       "  0.9714253544807434,\n",
       "  0.973044216632843],\n",
       " 'precision': [0.8365888595581055,\n",
       "  0.8922069072723389,\n",
       "  0.8961790204048157,\n",
       "  0.9027652740478516,\n",
       "  0.911213219165802,\n",
       "  0.9190415143966675,\n",
       "  0.9261841773986816,\n",
       "  0.9309192895889282,\n",
       "  0.9376954436302185,\n",
       "  0.9406288266181946,\n",
       "  0.944061815738678,\n",
       "  0.94886714220047,\n",
       "  0.9515435695648193,\n",
       "  0.9539206027984619,\n",
       "  0.957446813583374,\n",
       "  0.9601080417633057,\n",
       "  0.9617819786071777,\n",
       "  0.9629400968551636,\n",
       "  0.9657629728317261,\n",
       "  0.9676094651222229],\n",
       " 'recall': [0.2746969163417816,\n",
       "  0.8202581405639648,\n",
       "  0.9209229350090027,\n",
       "  0.9396949410438538,\n",
       "  0.9464215636253357,\n",
       "  0.9509581327438354,\n",
       "  0.9558858275413513,\n",
       "  0.9591708779335022,\n",
       "  0.9617520570755005,\n",
       "  0.9640985727310181,\n",
       "  0.9649589657783508,\n",
       "  0.9695737361907959,\n",
       "  0.9691826105117798,\n",
       "  0.9715291261672974,\n",
       "  0.971450924873352,\n",
       "  0.9732499122619629,\n",
       "  0.9743449091911316,\n",
       "  0.9755181670188904,\n",
       "  0.9752053022384644,\n",
       "  0.9766914248466492],\n",
       " 'mcc': [0.3080551326274872,\n",
       "  0.7326439023017883,\n",
       "  0.8213915824890137,\n",
       "  0.8451820015907288,\n",
       "  0.8602436780929565,\n",
       "  0.8726174235343933,\n",
       "  0.8845892548561096,\n",
       "  0.8925252556800842,\n",
       "  0.9018928408622742,\n",
       "  0.907075047492981,\n",
       "  0.9113805294036865,\n",
       "  0.9205673933029175,\n",
       "  0.9229130148887634,\n",
       "  0.9275087118148804,\n",
       "  0.9309864640235901,\n",
       "  0.9353440403938293,\n",
       "  0.9380487203598022,\n",
       "  0.9403098225593567,\n",
       "  0.942832887172699,\n",
       "  0.9460699558258057],\n",
       " 'val_loss': [0.6505820155143738,\n",
       "  0.5250258445739746,\n",
       "  0.3960433006286621,\n",
       "  0.3102954030036926,\n",
       "  0.25470414757728577,\n",
       "  0.2255263328552246,\n",
       "  0.19708332419395447,\n",
       "  0.17873962223529816,\n",
       "  0.15884694457054138,\n",
       "  0.14635418355464935,\n",
       "  0.1367577314376831,\n",
       "  0.12964393198490143,\n",
       "  0.12434056401252747,\n",
       "  0.11851542443037033,\n",
       "  0.11520146578550339,\n",
       "  0.11562144011259079,\n",
       "  0.10987991094589233,\n",
       "  0.10626698285341263,\n",
       "  0.10291635245084763,\n",
       "  0.10120712965726852],\n",
       " 'val_binary_accuracy': [0.7719674706459045,\n",
       "  0.9064829349517822,\n",
       "  0.9122430682182312,\n",
       "  0.9225208759307861,\n",
       "  0.9298622012138367,\n",
       "  0.9321210980415344,\n",
       "  0.940027117729187,\n",
       "  0.9421730041503906,\n",
       "  0.9462389945983887,\n",
       "  0.9492884278297424,\n",
       "  0.952902615070343,\n",
       "  0.9530155658721924,\n",
       "  0.9550485610961914,\n",
       "  0.9556132555007935,\n",
       "  0.9560650587081909,\n",
       "  0.9562909603118896,\n",
       "  0.9584368467330933,\n",
       "  0.9584368467330933,\n",
       "  0.9622769355773926,\n",
       "  0.9614863395690918],\n",
       " 'val_precision': [0.9867494702339172,\n",
       "  0.9290212988853455,\n",
       "  0.8798900246620178,\n",
       "  0.9158013463020325,\n",
       "  0.9173903465270996,\n",
       "  0.9451925158500671,\n",
       "  0.9458768963813782,\n",
       "  0.9494408369064331,\n",
       "  0.943306028842926,\n",
       "  0.9328770041465759,\n",
       "  0.942268967628479,\n",
       "  0.9389431476593018,\n",
       "  0.9517743587493896,\n",
       "  0.9419870972633362,\n",
       "  0.9400840401649475,\n",
       "  0.9626016020774841,\n",
       "  0.9606353640556335,\n",
       "  0.9430912137031555,\n",
       "  0.9594717621803284,\n",
       "  0.960246741771698],\n",
       " 'val_recall': [0.5453089475631714,\n",
       "  0.8775743842124939,\n",
       "  0.9521738886833191,\n",
       "  0.9283753037452698,\n",
       "  0.942791759967804,\n",
       "  0.9155606627464294,\n",
       "  0.9318077564239502,\n",
       "  0.9324942827224731,\n",
       "  0.9480549097061157,\n",
       "  0.9668192267417908,\n",
       "  0.9636155366897583,\n",
       "  0.9677345752716064,\n",
       "  0.9574370980262756,\n",
       "  0.9697940349578857,\n",
       "  0.9729977250099182,\n",
       "  0.9482837319374084,\n",
       "  0.9549199342727661,\n",
       "  0.9745995402336121,\n",
       "  0.9643020629882812,\n",
       "  0.9617848992347717],\n",
       " 'val_mcc': [0.6041255593299866,\n",
       "  0.814022421836853,\n",
       "  0.8273602724075317,\n",
       "  0.8451207876205444,\n",
       "  0.8600717186927795,\n",
       "  0.8645800352096558,\n",
       "  0.8801065683364868,\n",
       "  0.8844380378723145,\n",
       "  0.8924780488014221,\n",
       "  0.8991867899894714,\n",
       "  0.9060433506965637,\n",
       "  0.9064673781394958,\n",
       "  0.9101047515869141,\n",
       "  0.9116321206092834,\n",
       "  0.9126995801925659,\n",
       "  0.9126492738723755,\n",
       "  0.9168694615364075,\n",
       "  0.9173939824104309,\n",
       "  0.924557626247406,\n",
       "  0.9229626655578613]}"
      ]
     },
     "execution_count": 15,
     "metadata": {},
     "output_type": "execute_result"
    }
   ],
   "source": [
    "history.history"
   ]
  },
  {
   "cell_type": "code",
   "execution_count": 16,
   "id": "88b3c467",
   "metadata": {},
   "outputs": [],
   "source": [
    "epochs = history.epoch"
   ]
  },
  {
   "cell_type": "code",
   "execution_count": 17,
   "id": "02d88f94",
   "metadata": {},
   "outputs": [
    {
     "data": {
      "text/plain": [
       "range(1, 21)"
      ]
     },
     "execution_count": 17,
     "metadata": {},
     "output_type": "execute_result"
    }
   ],
   "source": [
    "range(1, max(history.epoch) + 2)"
   ]
  },
  {
   "cell_type": "code",
   "execution_count": 18,
   "id": "8af97092",
   "metadata": {},
   "outputs": [
    {
     "data": {
      "image/png": "[encoded data removed]",
      "text/plain": [
       "<Figure size 640x480 with 1 Axes>"
      ]
     },
     "metadata": {},
     "output_type": "display_data"
    }
   ],
   "source": [
    "plt.plot(range(1, max(epochs) + 2), history.history['loss'], \".:\")\n",
    "plt.plot(range(1, max(epochs) + 2), history.history['val_loss'], \".:\")\n",
    "\n",
    "plt.title('Learning curve - loss')\n",
    "plt.legend(['training', 'validation'], loc = \"best\")\n",
    "plt.ylabel(r\"$\\mathrm{loss}$\")\n",
    "plt.xlabel(\"epoch\")\n",
    "plt.xticks(range(1, max(epochs) + 2))\n",
    "plt.show()"
   ]
  },
  {
   "cell_type": "code",
   "execution_count": 19,
   "id": "b1e9bf28",
   "metadata": {},
   "outputs": [
    {
     "data": {
      "image/png": "[encoded data removed]",
      "text/plain": [
       "<Figure size 640x480 with 1 Axes>"
      ]
     },
     "metadata": {},
     "output_type": "display_data"
    }
   ],
   "source": [
    "plt.plot(range(1, max(epochs) + 2), history.history['binary_accuracy'], \".:\")\n",
    "plt.plot(range(1, max(epochs) + 2), history.history['val_binary_accuracy'], \".:\")\n",
    "\n",
    "plt.title('Training and validation binary accuracy')\n",
    "plt.legend(['training', 'validation'], loc = \"best\")\n",
    "plt.ylabel(\"binary accuracy\")\n",
    "plt.xlabel(\"epoch\")\n",
    "plt.xticks(range(1, max(epochs) + 2))\n",
    "plt.show()"
   ]
  },
  {
   "cell_type": "code",
   "execution_count": 20,
   "id": "98b92f72",
   "metadata": {},
   "outputs": [
    {
     "data": {
      "image/png": "[encoded data removed]",
      "text/plain": [
       "<Figure size 640x480 with 1 Axes>"
      ]
     },
     "metadata": {},
     "output_type": "display_data"
    }
   ],
   "source": [
    "plt.plot(range(1, max(epochs) + 2), history.history['mcc'], \".:\")\n",
    "plt.plot(range(1, max(epochs) + 2), history.history['val_mcc'], \".:\")\n",
    "\n",
    "plt.title('Training and validation MCC')\n",
    "plt.legend(['training', 'validation'], loc = \"best\")\n",
    "plt.ylabel(\"mcc\")\n",
    "plt.xlabel(\"epoch\")\n",
    "plt.xticks(range(1, max(epochs) + 2))\n",
    "plt.show()"
   ]
  },
  {
   "cell_type": "markdown",
   "id": "348144b4",
   "metadata": {},
   "source": [
    "###### model performance on the test set"
   ]
  },
  {
   "cell_type": "code",
   "execution_count": 19,
   "id": "010c1e45",
   "metadata": {},
   "outputs": [
    {
     "name": "stdout",
     "output_type": "stream",
     "text": [
      "277/277 [==============================] - 0s 1ms/step\n"
     ]
    }
   ],
   "source": [
    "y_pred = model.predict(test_text)"
   ]
  },
  {
   "cell_type": "code",
   "execution_count": 20,
   "id": "a96fa2cc",
   "metadata": {},
   "outputs": [
    {
     "data": {
      "text/plain": [
       "(8855, 1)"
      ]
     },
     "execution_count": 20,
     "metadata": {},
     "output_type": "execute_result"
    }
   ],
   "source": [
    "y_pred.shape"
   ]
  },
  {
   "cell_type": "code",
   "execution_count": 21,
   "id": "374b1f6b",
   "metadata": {},
   "outputs": [
    {
     "data": {
      "text/plain": [
       "array([[False],\n",
       "       [False],\n",
       "       [ True],\n",
       "       ...,\n",
       "       [ True],\n",
       "       [False],\n",
       "       [ True]])"
      ]
     },
     "execution_count": 21,
     "metadata": {},
     "output_type": "execute_result"
    }
   ],
   "source": [
    "y_pred > 0.5"
   ]
  },
  {
   "cell_type": "code",
   "execution_count": 22,
   "id": "d649079d",
   "metadata": {},
   "outputs": [
    {
     "name": "stdout",
     "output_type": "stream",
     "text": [
      "277/277 [==============================] - 0s 1ms/step - loss: 0.0999 - binary_accuracy: 0.9641 - precision: 0.9614 - recall: 0.9641 - mcc: 0.9281\n"
     ]
    }
   ],
   "source": [
    "evaluation = model.evaluate(x = test_text, y = y_test, return_dict = True)"
   ]
  },
  {
   "cell_type": "code",
   "execution_count": 23,
   "id": "85524b09",
   "metadata": {},
   "outputs": [
    {
     "data": {
      "text/plain": [
       "dict_items([('loss', 0.09994752705097198), ('binary_accuracy', 0.9640880823135376), ('precision', 0.9613854289054871), ('recall', 0.9640929102897644), ('mcc', 0.9280852675437927)])"
      ]
     },
     "execution_count": 23,
     "metadata": {},
     "output_type": "execute_result"
    }
   ],
   "source": [
    "evaluation.items()"
   ]
  },
  {
   "cell_type": "code",
   "execution_count": 24,
   "id": "2fa9aef8",
   "metadata": {},
   "outputs": [
    {
     "name": "stdout",
     "output_type": "stream",
     "text": [
      "loss: 0.0999\n",
      "binary_accuracy: 0.9641\n",
      "precision: 0.9614\n",
      "recall: 0.9641\n",
      "mcc: 0.9281\n"
     ]
    }
   ],
   "source": [
    "for metric, value in evaluation.items():\n",
    "    print(f\"{metric}: {value:.4f}\")"
   ]
  },
  {
   "cell_type": "code",
   "execution_count": null,
   "id": "db87828c",
   "metadata": {},
   "outputs": [],
   "source": []
  },
  {
   "cell_type": "code",
   "execution_count": 1,
   "id": "3e46e70c",
   "metadata": {},
   "outputs": [
    {
     "ename": "NameError",
     "evalue": "name 'tf' is not defined",
     "output_type": "error",
     "traceback": [
      "\u001b[0;31m---------------------------------------------------------------------------\u001b[0m",
      "\u001b[0;31mNameError\u001b[0m                                 Traceback (most recent call last)",
      "Cell \u001b[0;32mIn[1], line 1\u001b[0m\n\u001b[0;32m----> 1\u001b[0m text_input \u001b[38;5;241m=\u001b[39m \u001b[43mtf\u001b[49m\u001b[38;5;241m.\u001b[39mkeras\u001b[38;5;241m.\u001b[39mInput(shape\u001b[38;5;241m=\u001b[39m(\u001b[38;5;241m1\u001b[39m,), dtype\u001b[38;5;241m=\u001b[39mtf\u001b[38;5;241m.\u001b[39mstring, name\u001b[38;5;241m=\u001b[39m\u001b[38;5;124m'\u001b[39m\u001b[38;5;124mtext\u001b[39m\u001b[38;5;124m'\u001b[39m)\n\u001b[1;32m      2\u001b[0m vectorized \u001b[38;5;241m=\u001b[39m vectorize_layer(text_input)\n",
      "\u001b[0;31mNameError\u001b[0m: name 'tf' is not defined"
     ]
    }
   ],
   "source": [
    "text_input = tf.keras.Input(shape=(1,), dtype=tf.string, name='text')\n",
    "vectorized = vectorize_layer(text_input)\n",
    "\n",
    "\n",
    "output = model(vectorized)\n",
    "\n",
    "full_model = tf.keras.Model(text_input, output)\n",
    "full_model.save(\"model/fake_news_classifier\")"
   ]
  },
  {
   "cell_type": "code",
   "execution_count": null,
   "id": "7bc7ce7a",
   "metadata": {},
   "outputs": [],
   "source": []
  },
  {
   "cell_type": "code",
   "execution_count": null,
   "id": "d612d755",
   "metadata": {},
   "outputs": [],
   "source": []
  },
  {
   "cell_type": "code",
   "execution_count": null,
   "id": "4ef6a622",
   "metadata": {},
   "outputs": [],
   "source": []
  },
  {
   "cell_type": "code",
   "execution_count": null,
   "id": "f244005b",
   "metadata": {},
   "outputs": [],
   "source": []
  }
 ],
 "metadata": {
  "kernelspec": {
   "display_name": "Python 3 (ipykernel)",
   "language": "python",
   "name": "python3"
  },
  "language_info": {
   "codemirror_mode": {
    "name": "ipython",
    "version": 3
   },
   "file_extension": ".py",
   "mimetype": "text/x-python",
   "name": "python",
   "nbconvert_exporter": "python",
   "pygments_lexer": "ipython3",
   "version": "3.9.13"
  }
 },
 "nbformat": 4,
 "nbformat_minor": 5
}
