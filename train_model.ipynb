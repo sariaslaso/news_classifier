{
 "cells": [
  {
   "cell_type": "code",
   "execution_count": 2,
   "id": "b6182681",
   "metadata": {
    "scrolled": true
   },
   "outputs": [],
   "source": [
    "import numpy as np\n",
    "import pandas as pd\n",
    "import tensorflow as tf\n",
    "import matplotlib.pyplot as plt\n",
    "\n",
    "# from tensorflow.keras.layers import TextVectorization\n",
    "from tensorflow.keras import layers\n",
    "from tensorflow.keras.models import Sequential\n",
    "\n",
    "from utils.tf_mcc import MCC"
   ]
  },
  {
   "cell_type": "code",
   "execution_count": 3,
   "id": "f8ad8511",
   "metadata": {},
   "outputs": [],
   "source": [
    "# load training and validation sets\n",
    "\n",
    "X_train = pd.read_csv(\"dataset/X_train.csv\")\n",
    "X_val = pd.read_csv(\"dataset/X_val.csv\")\n",
    "y_train = pd.read_csv(\"dataset/y_train.csv\")\n",
    "y_val = pd.read_csv(\"dataset/y_val.csv\")\n",
    "\n",
    "# load test set\n",
    "X_test = pd.read_csv(\"dataset/X_test.csv\")\n",
    "y_test = pd.read_csv(\"dataset/y_test.csv\")"
   ]
  },
  {
   "cell_type": "code",
   "execution_count": 4,
   "id": "c8b2233a",
   "metadata": {},
   "outputs": [
    {
     "data": {
      "text/plain": [
       "count    26562.000000\n",
       "mean        12.410210\n",
       "std          4.077117\n",
       "min          1.000000\n",
       "25%         10.000000\n",
       "50%         11.000000\n",
       "75%         14.000000\n",
       "max         42.000000\n",
       "Name: title, dtype: float64"
      ]
     },
     "execution_count": 4,
     "metadata": {},
     "output_type": "execute_result"
    }
   ],
   "source": [
    "# getting statistics of the title feature\n",
    "\n",
    "# number of words per title\n",
    "title_lengths = X_train.title.map(lambda x: len(x.split()))\n",
    "title_lengths.describe()"
   ]
  },
  {
   "cell_type": "code",
   "execution_count": 5,
   "id": "78c911a2",
   "metadata": {},
   "outputs": [],
   "source": [
    "X_train = X_train['title'].values\n",
    "X_val = X_val['title'].values\n",
    "X_test = X_test['title'].values\n",
    "\n",
    "y_train = y_train['classification'].values\n",
    "y_val = y_val['classification'].values\n",
    "y_test = y_test['classification'].values"
   ]
  },
  {
   "cell_type": "code",
   "execution_count": 20,
   "id": "5b970cdd",
   "metadata": {},
   "outputs": [],
   "source": [
    "# model parameters\n",
    "vocabulary_size = 10000 # maximum vocabulary size (max_features, maximum number of tokens)\n",
    "max_len = 20 # sequence length to pad the outputs to\n",
    "embedding_dim = 16\n",
    "\n",
    "# create vocab layer\n",
    "# instantiate the text vectorization layer\n",
    "vectorize_layer = layers.TextVectorization(max_tokens = vocabulary_size, \n",
    "                                    standardize = \"lower_and_strip_punctuation\", \n",
    "                                    output_mode = \"int\", \n",
    "                                    output_sequence_length = max_len)\n",
    "\n",
    "# build the vocabulary\n",
    "# vectorization layer that generates a tensor of shape (batch_size, max_len) containing vocabulary indices\n",
    "vectorize_layer.adapt(X_train)\n",
    "\n",
    "# vectorize_layer.get_vocabulary()\n",
    "# vectorize_layer.vocabulary_size()"
   ]
  },
  {
   "cell_type": "code",
   "execution_count": 21,
   "id": "d3aa2be3",
   "metadata": {},
   "outputs": [],
   "source": [
    "train_text = vectorize_layer(X_train)\n",
    "val_text = vectorize_layer(X_val)\n",
    "test_text = vectorize_layer(X_test)"
   ]
  },
  {
   "cell_type": "code",
   "execution_count": 22,
   "id": "903cc208",
   "metadata": {},
   "outputs": [
    {
     "data": {
      "text/plain": [
       "<tf.Tensor: shape=(26562, 20), dtype=int64, numpy=\n",
       "array([[   3,  750, 5840, ...,    0,    0,    0],\n",
       "       [  86,   54,  747, ...,    0,    0,    0],\n",
       "       [  27,    3,  249, ...,    0,    0,    0],\n",
       "       ...,\n",
       "       [ 974,   88, 2558, ...,    0,    0,    0],\n",
       "       [3295,  113,  234, ...,    0,    0,    0],\n",
       "       [  33, 4164, 8185, ...,    0,    0,    0]])>"
      ]
     },
     "execution_count": 22,
     "metadata": {},
     "output_type": "execute_result"
    }
   ],
   "source": [
    "train_text"
   ]
  },
  {
   "cell_type": "code",
   "execution_count": 23,
   "id": "03b8d4e0",
   "metadata": {},
   "outputs": [],
   "source": [
    "# train_text.shape"
   ]
  },
  {
   "cell_type": "code",
   "execution_count": 24,
   "id": "48f3448b",
   "metadata": {},
   "outputs": [],
   "source": [
    "model = Sequential([\n",
    "    tf.keras.Input(shape = (max_len,), dtype = tf.int64),\n",
    "    layers.Embedding(vocabulary_size + 1, embedding_dim),\n",
    "    layers.Dropout(0.2),\n",
    "    layers.GlobalAveragePooling1D(),\n",
    "    layers.Dropout(0.2),\n",
    "    layers.Dense(units = 1),\n",
    "]\n",
    ")"
   ]
  },
  {
   "cell_type": "code",
   "execution_count": 25,
   "id": "b6f374f5",
   "metadata": {},
   "outputs": [
    {
     "data": {
      "text/html": [
       "<pre style=\"white-space:pre;overflow-x:auto;line-height:normal;font-family:Menlo,'DejaVu Sans Mono',consolas,'Courier New',monospace\"><span style=\"font-weight: bold\">Model: \"sequential_1\"</span>\n",
       "</pre>\n"
      ],
      "text/plain": [
       "\u001b[1mModel: \"sequential_1\"\u001b[0m\n"
      ]
     },
     "metadata": {},
     "output_type": "display_data"
    },
    {
     "data": {
      "text/html": [
       "<pre style=\"white-space:pre;overflow-x:auto;line-height:normal;font-family:Menlo,'DejaVu Sans Mono',consolas,'Courier New',monospace\">┏━━━━━━━━━━━━━━━━━━━━━━━━━━━━━━━━━┳━━━━━━━━━━━━━━━━━━━━━━━━┳━━━━━━━━━━━━━━━┓\n",
       "┃<span style=\"font-weight: bold\"> Layer (type)                    </span>┃<span style=\"font-weight: bold\"> Output Shape           </span>┃<span style=\"font-weight: bold\">       Param # </span>┃\n",
       "┡━━━━━━━━━━━━━━━━━━━━━━━━━━━━━━━━━╇━━━━━━━━━━━━━━━━━━━━━━━━╇━━━━━━━━━━━━━━━┩\n",
       "│ embedding_1 (<span style=\"color: #0087ff; text-decoration-color: #0087ff\">Embedding</span>)         │ (<span style=\"color: #00d7ff; text-decoration-color: #00d7ff\">None</span>, <span style=\"color: #00af00; text-decoration-color: #00af00\">20</span>, <span style=\"color: #00af00; text-decoration-color: #00af00\">16</span>)         │       <span style=\"color: #00af00; text-decoration-color: #00af00\">160,016</span> │\n",
       "├─────────────────────────────────┼────────────────────────┼───────────────┤\n",
       "│ dropout_2 (<span style=\"color: #0087ff; text-decoration-color: #0087ff\">Dropout</span>)             │ (<span style=\"color: #00d7ff; text-decoration-color: #00d7ff\">None</span>, <span style=\"color: #00af00; text-decoration-color: #00af00\">20</span>, <span style=\"color: #00af00; text-decoration-color: #00af00\">16</span>)         │             <span style=\"color: #00af00; text-decoration-color: #00af00\">0</span> │\n",
       "├─────────────────────────────────┼────────────────────────┼───────────────┤\n",
       "│ global_average_pooling1d_1      │ (<span style=\"color: #00d7ff; text-decoration-color: #00d7ff\">None</span>, <span style=\"color: #00af00; text-decoration-color: #00af00\">16</span>)             │             <span style=\"color: #00af00; text-decoration-color: #00af00\">0</span> │\n",
       "│ (<span style=\"color: #0087ff; text-decoration-color: #0087ff\">GlobalAveragePooling1D</span>)        │                        │               │\n",
       "├─────────────────────────────────┼────────────────────────┼───────────────┤\n",
       "│ dropout_3 (<span style=\"color: #0087ff; text-decoration-color: #0087ff\">Dropout</span>)             │ (<span style=\"color: #00d7ff; text-decoration-color: #00d7ff\">None</span>, <span style=\"color: #00af00; text-decoration-color: #00af00\">16</span>)             │             <span style=\"color: #00af00; text-decoration-color: #00af00\">0</span> │\n",
       "├─────────────────────────────────┼────────────────────────┼───────────────┤\n",
       "│ dense_1 (<span style=\"color: #0087ff; text-decoration-color: #0087ff\">Dense</span>)                 │ (<span style=\"color: #00d7ff; text-decoration-color: #00d7ff\">None</span>, <span style=\"color: #00af00; text-decoration-color: #00af00\">1</span>)              │            <span style=\"color: #00af00; text-decoration-color: #00af00\">17</span> │\n",
       "└─────────────────────────────────┴────────────────────────┴───────────────┘\n",
       "</pre>\n"
      ],
      "text/plain": [
       "┏━━━━━━━━━━━━━━━━━━━━━━━━━━━━━━━━━┳━━━━━━━━━━━━━━━━━━━━━━━━┳━━━━━━━━━━━━━━━┓\n",
       "┃\u001b[1m \u001b[0m\u001b[1mLayer (type)                   \u001b[0m\u001b[1m \u001b[0m┃\u001b[1m \u001b[0m\u001b[1mOutput Shape          \u001b[0m\u001b[1m \u001b[0m┃\u001b[1m \u001b[0m\u001b[1m      Param #\u001b[0m\u001b[1m \u001b[0m┃\n",
       "┡━━━━━━━━━━━━━━━━━━━━━━━━━━━━━━━━━╇━━━━━━━━━━━━━━━━━━━━━━━━╇━━━━━━━━━━━━━━━┩\n",
       "│ embedding_1 (\u001b[38;5;33mEmbedding\u001b[0m)         │ (\u001b[38;5;45mNone\u001b[0m, \u001b[38;5;34m20\u001b[0m, \u001b[38;5;34m16\u001b[0m)         │       \u001b[38;5;34m160,016\u001b[0m │\n",
       "├─────────────────────────────────┼────────────────────────┼───────────────┤\n",
       "│ dropout_2 (\u001b[38;5;33mDropout\u001b[0m)             │ (\u001b[38;5;45mNone\u001b[0m, \u001b[38;5;34m20\u001b[0m, \u001b[38;5;34m16\u001b[0m)         │             \u001b[38;5;34m0\u001b[0m │\n",
       "├─────────────────────────────────┼────────────────────────┼───────────────┤\n",
       "│ global_average_pooling1d_1      │ (\u001b[38;5;45mNone\u001b[0m, \u001b[38;5;34m16\u001b[0m)             │             \u001b[38;5;34m0\u001b[0m │\n",
       "│ (\u001b[38;5;33mGlobalAveragePooling1D\u001b[0m)        │                        │               │\n",
       "├─────────────────────────────────┼────────────────────────┼───────────────┤\n",
       "│ dropout_3 (\u001b[38;5;33mDropout\u001b[0m)             │ (\u001b[38;5;45mNone\u001b[0m, \u001b[38;5;34m16\u001b[0m)             │             \u001b[38;5;34m0\u001b[0m │\n",
       "├─────────────────────────────────┼────────────────────────┼───────────────┤\n",
       "│ dense_1 (\u001b[38;5;33mDense\u001b[0m)                 │ (\u001b[38;5;45mNone\u001b[0m, \u001b[38;5;34m1\u001b[0m)              │            \u001b[38;5;34m17\u001b[0m │\n",
       "└─────────────────────────────────┴────────────────────────┴───────────────┘\n"
      ]
     },
     "metadata": {},
     "output_type": "display_data"
    },
    {
     "data": {
      "text/html": [
       "<pre style=\"white-space:pre;overflow-x:auto;line-height:normal;font-family:Menlo,'DejaVu Sans Mono',consolas,'Courier New',monospace\"><span style=\"font-weight: bold\"> Total params: </span><span style=\"color: #00af00; text-decoration-color: #00af00\">160,033</span> (625.13 KB)\n",
       "</pre>\n"
      ],
      "text/plain": [
       "\u001b[1m Total params: \u001b[0m\u001b[38;5;34m160,033\u001b[0m (625.13 KB)\n"
      ]
     },
     "metadata": {},
     "output_type": "display_data"
    },
    {
     "data": {
      "text/html": [
       "<pre style=\"white-space:pre;overflow-x:auto;line-height:normal;font-family:Menlo,'DejaVu Sans Mono',consolas,'Courier New',monospace\"><span style=\"font-weight: bold\"> Trainable params: </span><span style=\"color: #00af00; text-decoration-color: #00af00\">160,033</span> (625.13 KB)\n",
       "</pre>\n"
      ],
      "text/plain": [
       "\u001b[1m Trainable params: \u001b[0m\u001b[38;5;34m160,033\u001b[0m (625.13 KB)\n"
      ]
     },
     "metadata": {},
     "output_type": "display_data"
    },
    {
     "data": {
      "text/html": [
       "<pre style=\"white-space:pre;overflow-x:auto;line-height:normal;font-family:Menlo,'DejaVu Sans Mono',consolas,'Courier New',monospace\"><span style=\"font-weight: bold\"> Non-trainable params: </span><span style=\"color: #00af00; text-decoration-color: #00af00\">0</span> (0.00 B)\n",
       "</pre>\n"
      ],
      "text/plain": [
       "\u001b[1m Non-trainable params: \u001b[0m\u001b[38;5;34m0\u001b[0m (0.00 B)\n"
      ]
     },
     "metadata": {},
     "output_type": "display_data"
    }
   ],
   "source": [
    "model.summary()"
   ]
  },
  {
   "cell_type": "markdown",
   "id": "954c5c61",
   "metadata": {},
   "source": [
    "### train the model"
   ]
  },
  {
   "cell_type": "code",
   "execution_count": 26,
   "id": "cabb69aa",
   "metadata": {},
   "outputs": [
    {
     "name": "stdout",
     "output_type": "stream",
     "text": [
      "Epoch 1/500\n",
      "\u001b[1m831/831\u001b[0m \u001b[32m━━━━━━━━━━━━━━━━━━━━\u001b[0m\u001b[37m\u001b[0m \u001b[1m3s\u001b[0m 2ms/step - binary_accuracy: 0.7277 - loss: 0.5519 - precision_1: 0.8571 - recall_1: 0.4895 - val_binary_accuracy: 0.9017 - val_loss: 0.2677 - val_precision_1: 0.9366 - val_recall_1: 0.8590\n",
      "Epoch 2/500\n",
      "\u001b[1m831/831\u001b[0m \u001b[32m━━━━━━━━━━━━━━━━━━━━\u001b[0m\u001b[37m\u001b[0m \u001b[1m2s\u001b[0m 2ms/step - binary_accuracy: 0.9216 - loss: 0.2375 - precision_1: 0.9310 - recall_1: 0.9040 - val_binary_accuracy: 0.9373 - val_loss: 0.1744 - val_precision_1: 0.9494 - val_recall_1: 0.9222\n",
      "Epoch 3/500\n",
      "\u001b[1m831/831\u001b[0m \u001b[32m━━━━━━━━━━━━━━━━━━━━\u001b[0m\u001b[37m\u001b[0m \u001b[1m2s\u001b[0m 2ms/step - binary_accuracy: 0.9500 - loss: 0.1557 - precision_1: 0.9537 - recall_1: 0.9418 - val_binary_accuracy: 0.9442 - val_loss: 0.1421 - val_precision_1: 0.9679 - val_recall_1: 0.9174\n",
      "Epoch 4/500\n",
      "\u001b[1m831/831\u001b[0m \u001b[32m━━━━━━━━━━━━━━━━━━━━\u001b[0m\u001b[37m\u001b[0m \u001b[1m2s\u001b[0m 2ms/step - binary_accuracy: 0.9595 - loss: 0.1218 - precision_1: 0.9640 - recall_1: 0.9508 - val_binary_accuracy: 0.9573 - val_loss: 0.1184 - val_precision_1: 0.9659 - val_recall_1: 0.9469\n",
      "Epoch 5/500\n",
      "\u001b[1m831/831\u001b[0m \u001b[32m━━━━━━━━━━━━━━━━━━━━\u001b[0m\u001b[37m\u001b[0m \u001b[1m2s\u001b[0m 2ms/step - binary_accuracy: 0.9677 - loss: 0.0986 - precision_1: 0.9709 - recall_1: 0.9616 - val_binary_accuracy: 0.9593 - val_loss: 0.1064 - val_precision_1: 0.9663 - val_recall_1: 0.9508\n",
      "Epoch 6/500\n",
      "\u001b[1m831/831\u001b[0m \u001b[32m━━━━━━━━━━━━━━━━━━━━\u001b[0m\u001b[37m\u001b[0m \u001b[1m2s\u001b[0m 2ms/step - binary_accuracy: 0.9722 - loss: 0.0849 - precision_1: 0.9772 - recall_1: 0.9650 - val_binary_accuracy: 0.9590 - val_loss: 0.1001 - val_precision_1: 0.9717 - val_recall_1: 0.9444\n",
      "Epoch 7/500\n",
      "\u001b[1m831/831\u001b[0m \u001b[32m━━━━━━━━━━━━━━━━━━━━\u001b[0m\u001b[37m\u001b[0m \u001b[1m2s\u001b[0m 2ms/step - binary_accuracy: 0.9767 - loss: 0.0728 - precision_1: 0.9815 - recall_1: 0.9697 - val_binary_accuracy: 0.9635 - val_loss: 0.0928 - val_precision_1: 0.9674 - val_recall_1: 0.9584\n",
      "Epoch 8/500\n",
      "\u001b[1m831/831\u001b[0m \u001b[32m━━━━━━━━━━━━━━━━━━━━\u001b[0m\u001b[37m\u001b[0m \u001b[1m2s\u001b[0m 2ms/step - binary_accuracy: 0.9783 - loss: 0.0652 - precision_1: 0.9820 - recall_1: 0.9726 - val_binary_accuracy: 0.9617 - val_loss: 0.0911 - val_precision_1: 0.9737 - val_recall_1: 0.9481\n",
      "Epoch 9/500\n",
      "\u001b[1m831/831\u001b[0m \u001b[32m━━━━━━━━━━━━━━━━━━━━\u001b[0m\u001b[37m\u001b[0m \u001b[1m2s\u001b[0m 2ms/step - binary_accuracy: 0.9810 - loss: 0.0601 - precision_1: 0.9850 - recall_1: 0.9756 - val_binary_accuracy: 0.9660 - val_loss: 0.0870 - val_precision_1: 0.9700 - val_recall_1: 0.9609\n",
      "Epoch 10/500\n",
      "\u001b[1m831/831\u001b[0m \u001b[32m━━━━━━━━━━━━━━━━━━━━\u001b[0m\u001b[37m\u001b[0m \u001b[1m2s\u001b[0m 2ms/step - binary_accuracy: 0.9844 - loss: 0.0490 - precision_1: 0.9882 - recall_1: 0.9792 - val_binary_accuracy: 0.9649 - val_loss: 0.0861 - val_precision_1: 0.9727 - val_recall_1: 0.9556\n",
      "Epoch 11/500\n",
      "\u001b[1m831/831\u001b[0m \u001b[32m━━━━━━━━━━━━━━━━━━━━\u001b[0m\u001b[37m\u001b[0m \u001b[1m2s\u001b[0m 2ms/step - binary_accuracy: 0.9849 - loss: 0.0467 - precision_1: 0.9872 - recall_1: 0.9813 - val_binary_accuracy: 0.9678 - val_loss: 0.0851 - val_precision_1: 0.9666 - val_recall_1: 0.9682\n",
      "Epoch 12/500\n",
      "\u001b[1m831/831\u001b[0m \u001b[32m━━━━━━━━━━━━━━━━━━━━\u001b[0m\u001b[37m\u001b[0m \u001b[1m2s\u001b[0m 2ms/step - binary_accuracy: 0.9859 - loss: 0.0418 - precision_1: 0.9892 - recall_1: 0.9813 - val_binary_accuracy: 0.9666 - val_loss: 0.0851 - val_precision_1: 0.9737 - val_recall_1: 0.9581\n",
      "Epoch 13/500\n",
      "\u001b[1m831/831\u001b[0m \u001b[32m━━━━━━━━━━━━━━━━━━━━\u001b[0m\u001b[37m\u001b[0m \u001b[1m2s\u001b[0m 2ms/step - binary_accuracy: 0.9869 - loss: 0.0386 - precision_1: 0.9893 - recall_1: 0.9833 - val_binary_accuracy: 0.9684 - val_loss: 0.0851 - val_precision_1: 0.9675 - val_recall_1: 0.9684\n",
      "Epoch 14/500\n",
      "\u001b[1m831/831\u001b[0m \u001b[32m━━━━━━━━━━━━━━━━━━━━\u001b[0m\u001b[37m\u001b[0m \u001b[1m2s\u001b[0m 2ms/step - binary_accuracy: 0.9885 - loss: 0.0349 - precision_1: 0.9907 - recall_1: 0.9851 - val_binary_accuracy: 0.9668 - val_loss: 0.0860 - val_precision_1: 0.9731 - val_recall_1: 0.9593\n",
      "Epoch 15/500\n",
      "\u001b[1m831/831\u001b[0m \u001b[32m━━━━━━━━━━━━━━━━━━━━\u001b[0m\u001b[37m\u001b[0m \u001b[1m2s\u001b[0m 2ms/step - binary_accuracy: 0.9901 - loss: 0.0310 - precision_1: 0.9932 - recall_1: 0.9862 - val_binary_accuracy: 0.9691 - val_loss: 0.0873 - val_precision_1: 0.9655 - val_recall_1: 0.9721\n",
      "Epoch 16/500\n",
      "\u001b[1m831/831\u001b[0m \u001b[32m━━━━━━━━━━━━━━━━━━━━\u001b[0m\u001b[37m\u001b[0m \u001b[1m2s\u001b[0m 2ms/step - binary_accuracy: 0.9901 - loss: 0.0309 - precision_1: 0.9925 - recall_1: 0.9871 - val_binary_accuracy: 0.9669 - val_loss: 0.0880 - val_precision_1: 0.9724 - val_recall_1: 0.9602\n",
      "Epoch 17/500\n",
      "\u001b[1m831/831\u001b[0m \u001b[32m━━━━━━━━━━━━━━━━━━━━\u001b[0m\u001b[37m\u001b[0m \u001b[1m2s\u001b[0m 2ms/step - binary_accuracy: 0.9919 - loss: 0.0264 - precision_1: 0.9937 - recall_1: 0.9895 - val_binary_accuracy: 0.9625 - val_loss: 0.0932 - val_precision_1: 0.9748 - val_recall_1: 0.9485\n"
     ]
    }
   ],
   "source": [
    "model.compile(\n",
    "    loss = tf.keras.losses.BinaryCrossentropy(from_logits = True), \n",
    "    optimizer = tf.keras.optimizers.Adam(learning_rate = 0.001), \n",
    "    metrics = [tf.keras.metrics.BinaryAccuracy(), \n",
    "               tf.keras.metrics.Precision(), \n",
    "               tf.keras.metrics.Recall(), \n",
    "#                MCC(),\n",
    "              ],\n",
    ")\n",
    "\n",
    "\n",
    "early_stop = tf.keras.callbacks.EarlyStopping(monitor = \"val_loss\", patience = 5, \n",
    "                                              restore_best_weights = True)\n",
    "\n",
    "\n",
    "\n",
    "history = model.fit(\n",
    "        train_text, y_train,\n",
    "        validation_data = (val_text, y_val),\n",
    "        epochs = 500,\n",
    "        callbacks = [early_stop],\n",
    ")"
   ]
  },
  {
   "cell_type": "markdown",
   "id": "5773ba23",
   "metadata": {},
   "source": [
    "### save vectorizer and model"
   ]
  },
  {
   "cell_type": "code",
   "execution_count": 44,
   "id": "e7d19e06",
   "metadata": {},
   "outputs": [],
   "source": [
    "# instantiate keras tensor stating the shape and type of the input\n",
    "text_input = tf.keras.Input(shape = (1,), dtype = tf.string, name = \"text_input\")\n",
    "vectorized = vectorize_layer(text_input)\n",
    "\n",
    "\n",
    "logits = model(vectorized)\n",
    "output_probs = layers.Activation(\"sigmoid\")(logits)\n",
    "\n",
    "full_model = tf.keras.Model(text_input, output_probs)"
   ]
  },
  {
   "cell_type": "code",
   "execution_count": 48,
   "id": "277a39a4",
   "metadata": {
    "scrolled": true
   },
   "outputs": [],
   "source": [
    "full_model.compile(\n",
    "    loss = tf.keras.losses.BinaryCrossentropy(from_logits = True), \n",
    "    optimizer = tf.keras.optimizers.Adam(learning_rate = 0.001), \n",
    "    metrics = [tf.keras.metrics.BinaryAccuracy(), \n",
    "               tf.keras.metrics.Precision(), \n",
    "               tf.keras.metrics.Recall(), \n",
    "#                MCC(),\n",
    "              ],\n",
    ")"
   ]
  },
  {
   "cell_type": "code",
   "execution_count": 49,
   "id": "5e193339",
   "metadata": {
    "scrolled": true
   },
   "outputs": [],
   "source": [
    "full_model.save(\"model/fake_news_classifier/model.keras\")"
   ]
  },
  {
   "cell_type": "code",
   "execution_count": 47,
   "id": "686e26ae",
   "metadata": {},
   "outputs": [
    {
     "data": {
      "text/plain": [
       "{'binary_accuracy': [0.8301709294319153,\n",
       "  0.9283939599990845,\n",
       "  0.9502296447753906,\n",
       "  0.9600933790206909,\n",
       "  0.9676605463027954,\n",
       "  0.9724418520927429,\n",
       "  0.9761313199996948,\n",
       "  0.9786913394927979,\n",
       "  0.9808749556541443,\n",
       "  0.983359694480896,\n",
       "  0.9848279356956482,\n",
       "  0.9857691526412964,\n",
       "  0.9868986010551453,\n",
       "  0.9880279898643494,\n",
       "  0.9895339012145996,\n",
       "  0.9905880689620972,\n",
       "  0.991679847240448],\n",
       " 'loss': [0.43677181005477905,\n",
       "  0.21440348029136658,\n",
       "  0.14976654946804047,\n",
       "  0.11758728325366974,\n",
       "  0.0983622819185257,\n",
       "  0.08380138128995895,\n",
       "  0.07223473489284515,\n",
       "  0.0644761398434639,\n",
       "  0.05811339616775513,\n",
       "  0.05142342299222946,\n",
       "  0.04647733271121979,\n",
       "  0.042179007083177567,\n",
       "  0.03865218162536621,\n",
       "  0.03517903760075569,\n",
       "  0.03254483640193939,\n",
       "  0.02995600923895836,\n",
       "  0.027100851759314537],\n",
       " 'precision_1': [0.9049530029296875,\n",
       "  0.9375251531600952,\n",
       "  0.9544121026992798,\n",
       "  0.9641358852386475,\n",
       "  0.9714579582214355,\n",
       "  0.9767423272132874,\n",
       "  0.9800110459327698,\n",
       "  0.9821640253067017,\n",
       "  0.9842997789382935,\n",
       "  0.9865962266921997,\n",
       "  0.9874035716056824,\n",
       "  0.9888880252838135,\n",
       "  0.9893759489059448,\n",
       "  0.9906336069107056,\n",
       "  0.9918980598449707,\n",
       "  0.9921476244926453,\n",
       "  0.9936350584030151],\n",
       " 'recall_1': [0.7231130003929138,\n",
       "  0.9120062589645386,\n",
       "  0.9415721297264099,\n",
       "  0.9525225162506104,\n",
       "  0.9610481262207031,\n",
       "  0.9657410979270935,\n",
       "  0.970199465751648,\n",
       "  0.9734063148498535,\n",
       "  0.9758310317993164,\n",
       "  0.9787250757217407,\n",
       "  0.9809933304786682,\n",
       "  0.9814626574516296,\n",
       "  0.9833398461341858,\n",
       "  0.9844349026679993,\n",
       "  0.9863120913505554,\n",
       "  0.9882674813270569,\n",
       "  0.9890496730804443],\n",
       " 'val_binary_accuracy': [0.9017392992973328,\n",
       "  0.9373164772987366,\n",
       "  0.9442059993743896,\n",
       "  0.9573074579238892,\n",
       "  0.9593403935432434,\n",
       "  0.9590016007423401,\n",
       "  0.9635193347930908,\n",
       "  0.9617122411727905,\n",
       "  0.9660040736198425,\n",
       "  0.9648746252059937,\n",
       "  0.9678111672401428,\n",
       "  0.9665687680244446,\n",
       "  0.9683758616447449,\n",
       "  0.9667946696281433,\n",
       "  0.9690535068511963,\n",
       "  0.9669076204299927,\n",
       "  0.9625028371810913],\n",
       " 'val_loss': [0.2677183449268341,\n",
       "  0.1744171530008316,\n",
       "  0.14206340909004211,\n",
       "  0.11839503794908524,\n",
       "  0.10641352087259293,\n",
       "  0.10012565553188324,\n",
       "  0.09275315701961517,\n",
       "  0.0911385640501976,\n",
       "  0.08698412030935287,\n",
       "  0.08606407046318054,\n",
       "  0.08512911945581436,\n",
       "  0.08506856858730316,\n",
       "  0.08510421216487885,\n",
       "  0.08599679172039032,\n",
       "  0.08734791725873947,\n",
       "  0.08800557255744934,\n",
       "  0.09316827356815338],\n",
       " 'val_precision_1': [0.9366267323493958,\n",
       "  0.9493522047996521,\n",
       "  0.9678899049758911,\n",
       "  0.9659196734428406,\n",
       "  0.9662790894508362,\n",
       "  0.9717447757720947,\n",
       "  0.967428982257843,\n",
       "  0.9736780524253845,\n",
       "  0.9699699878692627,\n",
       "  0.9727463126182556,\n",
       "  0.9666438102722168,\n",
       "  0.973720908164978,\n",
       "  0.9675354361534119,\n",
       "  0.9730733633041382,\n",
       "  0.9654545187950134,\n",
       "  0.9724217653274536,\n",
       "  0.9748353958129883],\n",
       " 'val_recall_1': [0.8590388894081116,\n",
       "  0.9221968054771423,\n",
       "  0.917391300201416,\n",
       "  0.9469107389450073,\n",
       "  0.950800895690918,\n",
       "  0.9443935751914978,\n",
       "  0.9583523869514465,\n",
       "  0.9480549097061157,\n",
       "  0.960869550704956,\n",
       "  0.9556064009666443,\n",
       "  0.9681922197341919,\n",
       "  0.9581235647201538,\n",
       "  0.9684210419654846,\n",
       "  0.9592677354812622,\n",
       "  0.9720823764801025,\n",
       "  0.9601830840110779,\n",
       "  0.948512613773346]}"
      ]
     },
     "execution_count": 47,
     "metadata": {},
     "output_type": "execute_result"
    }
   ],
   "source": [
    "history.history"
   ]
  },
  {
   "cell_type": "markdown",
   "id": "cce10dee",
   "metadata": {},
   "source": [
    "### performance of the training and validation sets"
   ]
  },
  {
   "cell_type": "code",
   "execution_count": 31,
   "id": "908a6bf4",
   "metadata": {},
   "outputs": [
    {
     "data": {
      "text/plain": [
       "dict_keys(['binary_accuracy', 'loss', 'precision_1', 'recall_1', 'val_binary_accuracy', 'val_loss', 'val_precision_1', 'val_recall_1'])"
      ]
     },
     "execution_count": 31,
     "metadata": {},
     "output_type": "execute_result"
    }
   ],
   "source": [
    "history.history.keys()"
   ]
  },
  {
   "cell_type": "code",
   "execution_count": 33,
   "id": "e1521d6f",
   "metadata": {},
   "outputs": [],
   "source": [
    "epochs = history.epoch"
   ]
  },
  {
   "cell_type": "code",
   "execution_count": 34,
   "id": "8af97092",
   "metadata": {},
   "outputs": [
    {
     "data": {
      "image/png": "[encoded data removed]",
      "text/plain": [
       "<Figure size 640x480 with 1 Axes>"
      ]
     },
     "metadata": {},
     "output_type": "display_data"
    }
   ],
   "source": [
    "plt.plot(range(1, max(epochs) + 2), history.history['loss'], \".:\")\n",
    "plt.plot(range(1, max(epochs) + 2), history.history['val_loss'], \".:\")\n",
    "\n",
    "plt.title('Learning curve - loss')\n",
    "plt.legend(['training', 'validation'], loc = \"best\")\n",
    "plt.ylabel(r\"$\\mathrm{loss}$\")\n",
    "plt.xlabel(\"epoch\")\n",
    "# plt.xticks(range(1, max(epochs) + 2))\n",
    "plt.show()"
   ]
  },
  {
   "cell_type": "code",
   "execution_count": 35,
   "id": "a43c9e03",
   "metadata": {},
   "outputs": [
    {
     "data": {
      "image/png": "[encoded data removed]",
      "text/plain": [
       "<Figure size 640x480 with 1 Axes>"
      ]
     },
     "metadata": {},
     "output_type": "display_data"
    }
   ],
   "source": [
    "plt.plot(range(1, max(epochs) + 2), history.history[\"recall_1\"], \".:\")\n",
    "plt.plot(range(1, max(epochs) + 2), history.history[\"val_recall_1\"], \".:\")\n",
    "\n",
    "plt.title('Training and validation recall')\n",
    "plt.legend(['training', 'validation'], loc = \"best\")\n",
    "plt.ylabel(\"recall\")\n",
    "plt.xlabel(\"epoch\")\n",
    "# plt.xticks(range(1, max(epochs) + 2))\n",
    "plt.show()"
   ]
  },
  {
   "cell_type": "code",
   "execution_count": 36,
   "id": "b1e9bf28",
   "metadata": {},
   "outputs": [
    {
     "data": {
      "image/png": "[encoded data removed]",
      "text/plain": [
       "<Figure size 640x480 with 1 Axes>"
      ]
     },
     "metadata": {},
     "output_type": "display_data"
    }
   ],
   "source": [
    "plt.plot(range(1, max(epochs) + 2), history.history['binary_accuracy'], \".:\")\n",
    "plt.plot(range(1, max(epochs) + 2), history.history['val_binary_accuracy'], \".:\")\n",
    "\n",
    "plt.title('Training and validation binary accuracy')\n",
    "plt.legend(['training', 'validation'], loc = \"best\")\n",
    "plt.ylabel(\"binary accuracy\")\n",
    "plt.xlabel(\"epoch\")\n",
    "# plt.xticks(range(1, max(epochs) + 2))\n",
    "plt.show()"
   ]
  },
  {
   "cell_type": "code",
   "execution_count": null,
   "id": "98b92f72",
   "metadata": {},
   "outputs": [],
   "source": [
    "# plt.plot(range(1, max(epochs) + 2), history.history['mcc'], \".:\")\n",
    "# plt.plot(range(1, max(epochs) + 2), history.history['val_mcc'], \".:\")\n",
    "\n",
    "# plt.title('Training and validation MCC')\n",
    "# plt.legend(['training', 'validation'], loc = \"best\")\n",
    "# plt.ylabel(\"mcc\")\n",
    "# plt.xlabel(\"epoch\")\n",
    "# plt.xticks(range(1, max(epochs) + 2))\n",
    "# plt.show()"
   ]
  },
  {
   "cell_type": "markdown",
   "id": "348144b4",
   "metadata": {},
   "source": [
    "###### model performance on the test set"
   ]
  },
  {
   "cell_type": "code",
   "execution_count": 37,
   "id": "010c1e45",
   "metadata": {},
   "outputs": [
    {
     "name": "stdout",
     "output_type": "stream",
     "text": [
      "\u001b[1m277/277\u001b[0m \u001b[32m━━━━━━━━━━━━━━━━━━━━\u001b[0m\u001b[37m\u001b[0m \u001b[1m0s\u001b[0m 877us/step\n"
     ]
    }
   ],
   "source": [
    "y_pred = model.predict(test_text)"
   ]
  },
  {
   "cell_type": "code",
   "execution_count": 38,
   "id": "a96fa2cc",
   "metadata": {},
   "outputs": [
    {
     "data": {
      "text/plain": [
       "(8855, 1)"
      ]
     },
     "execution_count": 38,
     "metadata": {},
     "output_type": "execute_result"
    }
   ],
   "source": [
    "y_pred.shape"
   ]
  },
  {
   "cell_type": "code",
   "execution_count": 39,
   "id": "374b1f6b",
   "metadata": {},
   "outputs": [
    {
     "data": {
      "text/plain": [
       "array([[False],\n",
       "       [False],\n",
       "       [ True],\n",
       "       ...,\n",
       "       [ True],\n",
       "       [False],\n",
       "       [ True]])"
      ]
     },
     "execution_count": 39,
     "metadata": {},
     "output_type": "execute_result"
    }
   ],
   "source": [
    "y_pred > 0.5"
   ]
  },
  {
   "cell_type": "code",
   "execution_count": 40,
   "id": "d649079d",
   "metadata": {},
   "outputs": [
    {
     "name": "stdout",
     "output_type": "stream",
     "text": [
      "\u001b[1m277/277\u001b[0m \u001b[32m━━━━━━━━━━━━━━━━━━━━\u001b[0m\u001b[37m\u001b[0m \u001b[1m0s\u001b[0m 852us/step - binary_accuracy: 0.9672 - loss: 0.0926 - precision_1: 0.9717 - recall_1: 0.9605\n"
     ]
    }
   ],
   "source": [
    "evaluation = model.evaluate(x = test_text, y = y_test, return_dict = True)"
   ]
  },
  {
   "cell_type": "code",
   "execution_count": 41,
   "id": "85524b09",
   "metadata": {},
   "outputs": [
    {
     "data": {
      "text/plain": [
       "dict_items([('binary_accuracy', 0.9661208391189575), ('loss', 0.08795332163572311), ('precision_1', 0.9709869027137756), ('recall_1', 0.9582257866859436)])"
      ]
     },
     "execution_count": 41,
     "metadata": {},
     "output_type": "execute_result"
    }
   ],
   "source": [
    "evaluation.items()"
   ]
  },
  {
   "cell_type": "code",
   "execution_count": 42,
   "id": "2fa9aef8",
   "metadata": {},
   "outputs": [
    {
     "name": "stdout",
     "output_type": "stream",
     "text": [
      "binary_accuracy: 0.9661\n",
      "loss: 0.0880\n",
      "precision_1: 0.9710\n",
      "recall_1: 0.9582\n"
     ]
    }
   ],
   "source": [
    "for metric, value in evaluation.items():\n",
    "    print(f\"{metric}: {value:.4f}\")"
   ]
  },
  {
   "cell_type": "code",
   "execution_count": null,
   "id": "db87828c",
   "metadata": {},
   "outputs": [],
   "source": []
  },
  {
   "cell_type": "code",
   "execution_count": null,
   "id": "d612d755",
   "metadata": {},
   "outputs": [],
   "source": []
  },
  {
   "cell_type": "code",
   "execution_count": null,
   "id": "4ef6a622",
   "metadata": {},
   "outputs": [],
   "source": []
  },
  {
   "cell_type": "code",
   "execution_count": null,
   "id": "f244005b",
   "metadata": {},
   "outputs": [],
   "source": []
  }
 ],
 "metadata": {
  "kernelspec": {
   "display_name": "Python 3 (ipykernel)",
   "language": "python",
   "name": "python3"
  },
  "language_info": {
   "codemirror_mode": {
    "name": "ipython",
    "version": 3
   },
   "file_extension": ".py",
   "mimetype": "text/x-python",
   "name": "python",
   "nbconvert_exporter": "python",
   "pygments_lexer": "ipython3",
   "version": "3.9.18"
  }
 },
 "nbformat": 4,
 "nbformat_minor": 5
}
