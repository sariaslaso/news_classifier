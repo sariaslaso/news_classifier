{
 "cells": [
  {
   "cell_type": "code",
   "execution_count": 2,
   "id": "b6182681",
   "metadata": {},
   "outputs": [],
   "source": [
    "import numpy as np\n",
    "import pandas as pd\n",
    "import tensorflow as tf\n",
    "import matplotlib.pyplot as plt\n",
    "\n",
    "from tensorflow.keras.layers.experimental.preprocessing import TextVectorization\n",
    "from tensorflow.keras import layers\n",
    "from tensorflow.keras.models import Sequential\n",
    "\n",
    "from tf_mcc import MCC"
   ]
  },
  {
   "cell_type": "code",
   "execution_count": 3,
   "id": "f8ad8511",
   "metadata": {},
   "outputs": [],
   "source": [
    "# load training and validation sets\n",
    "\n",
    "X_train = pd.read_csv(\"dataset/X_train.csv\")\n",
    "X_val = pd.read_csv(\"dataset/X_val.csv\")\n",
    "y_train = pd.read_csv(\"dataset/y_train.csv\")\n",
    "y_val = pd.read_csv(\"dataset/y_val.csv\")\n",
    "\n",
    "# load test set\n",
    "X_test = pd.read_csv(\"dataset/X_test.csv\")\n",
    "y_test = pd.read_csv(\"dataset/y_test.csv\")"
   ]
  },
  {
   "cell_type": "code",
   "execution_count": 4,
   "id": "78c911a2",
   "metadata": {},
   "outputs": [],
   "source": [
    "X_train = X_train['title'].values\n",
    "X_val = X_val['title'].values\n",
    "X_test = X_test['title'].values\n",
    "\n",
    "y_train = y_train['classification'].values\n",
    "y_val = y_val['classification'].values\n",
    "y_test = y_test['classification'].values"
   ]
  },
  {
   "cell_type": "code",
   "execution_count": 6,
   "id": "5b970cdd",
   "metadata": {},
   "outputs": [],
   "source": [
    "# model parameters\n",
    "vocabulary_size = 10000 # maximum vocabulary size (max_features, maximum number of tokens)\n",
    "max_len = 250 # sequence length to pad the outputs to\n",
    "embedding_dim = 16\n",
    "\n",
    "# create vocab layer\n",
    "# instantiate the text vectorization layer\n",
    "vectorize_layer = TextVectorization(max_tokens = vocabulary_size, \n",
    "                                    standardize = \"lower_and_strip_punctuation\", \n",
    "                                    output_mode = \"int\", \n",
    "                                    output_sequence_length = max_len)\n",
    "\n",
    "# build the vocabulary\n",
    "# vectorization layer that generates a tensor of shape (batch_size, max_len) containing vocabulary indices\n",
    "vectorize_layer.adapt(X_train)\n",
    "\n",
    "# vectorize_layer.get_vocabulary()\n",
    "# vectorize_layer.vocabulary_size()"
   ]
  },
  {
   "cell_type": "code",
   "execution_count": 7,
   "id": "d3aa2be3",
   "metadata": {},
   "outputs": [],
   "source": [
    "train_text = vectorize_layer(X_train)\n",
    "val_text = vectorize_layer(X_val)\n",
    "test_text = vectorize_layer(X_test)"
   ]
  },
  {
   "cell_type": "code",
   "execution_count": 8,
   "id": "03b8d4e0",
   "metadata": {},
   "outputs": [
    {
     "data": {
      "text/plain": [
       "TensorShape([26562, 250])"
      ]
     },
     "execution_count": 8,
     "metadata": {},
     "output_type": "execute_result"
    }
   ],
   "source": [
    "train_text.shape"
   ]
  },
  {
   "cell_type": "code",
   "execution_count": 9,
   "id": "a3161500",
   "metadata": {},
   "outputs": [
    {
     "data": {
      "text/plain": [
       "TensorShape([8855, 250])"
      ]
     },
     "execution_count": 9,
     "metadata": {},
     "output_type": "execute_result"
    }
   ],
   "source": [
    "test_text.shape"
   ]
  },
  {
   "cell_type": "code",
   "execution_count": 10,
   "id": "48f3448b",
   "metadata": {},
   "outputs": [],
   "source": [
    "model = Sequential([\n",
    "    tf.keras.Input(shape = (250,), dtype = tf.int64),\n",
    "    layers.Embedding(vocabulary_size + 1, embedding_dim),\n",
    "    layers.Dropout(0.2),\n",
    "    layers.GlobalAveragePooling1D(),\n",
    "    layers.Dropout(0.2),\n",
    "    layers.Dense(units = 1, activation = \"sigmoid\") # revise the use of this layer\n",
    "]\n",
    ")"
   ]
  },
  {
   "cell_type": "code",
   "execution_count": 11,
   "id": "8afe348c",
   "metadata": {},
   "outputs": [
    {
     "name": "stdout",
     "output_type": "stream",
     "text": [
      "WARNING:tensorflow:Compiled the loaded model, but the compiled metrics have yet to be built. `model.compile_metrics` will be empty until you train or evaluate the model.\n",
      "INFO:tensorflow:Assets written to: model/GAP_1D/assets\n"
     ]
    }
   ],
   "source": [
    "model.save(\"model/GAP_1D\")"
   ]
  },
  {
   "cell_type": "code",
   "execution_count": 12,
   "id": "b6f374f5",
   "metadata": {},
   "outputs": [
    {
     "name": "stdout",
     "output_type": "stream",
     "text": [
      "Model: \"sequential\"\n",
      "_________________________________________________________________\n",
      " Layer (type)                Output Shape              Param #   \n",
      "=================================================================\n",
      " embedding (Embedding)       (None, 250, 16)           160016    \n",
      "                                                                 \n",
      " dropout (Dropout)           (None, 250, 16)           0         \n",
      "                                                                 \n",
      " global_average_pooling1d (G  (None, 16)               0         \n",
      " lobalAveragePooling1D)                                          \n",
      "                                                                 \n",
      " dropout_1 (Dropout)         (None, 16)                0         \n",
      "                                                                 \n",
      " dense (Dense)               (None, 1)                 17        \n",
      "                                                                 \n",
      "=================================================================\n",
      "Total params: 160,033\n",
      "Trainable params: 160,033\n",
      "Non-trainable params: 0\n",
      "_________________________________________________________________\n"
     ]
    }
   ],
   "source": [
    "model.summary()"
   ]
  },
  {
   "cell_type": "code",
   "execution_count": 14,
   "id": "cabb69aa",
   "metadata": {},
   "outputs": [
    {
     "name": "stdout",
     "output_type": "stream",
     "text": [
      "Epoch 1/20\n",
      "831/831 [==============================] - 5s 4ms/step - loss: 0.6763 - binary_accuracy: 0.6293 - precision: 0.7596 - recall: 0.3363 - mcc: 0.2898 - val_loss: 0.6430 - val_binary_accuracy: 0.7034 - val_precision: 0.9949 - val_recall: 0.4011 - val_mcc: 0.4998\n",
      "Epoch 2/20\n",
      "831/831 [==============================] - 3s 4ms/step - loss: 0.5782 - binary_accuracy: 0.8849 - precision: 0.9006 - recall: 0.8553 - mcc: 0.7700 - val_loss: 0.5024 - val_binary_accuracy: 0.9119 - val_precision: 0.9078 - val_recall: 0.9144 - val_mcc: 0.8238\n",
      "Epoch 3/20\n",
      "831/831 [==============================] - 3s 4ms/step - loss: 0.4414 - binary_accuracy: 0.9118 - precision: 0.8944 - recall: 0.9260 - mcc: 0.8240 - val_loss: 0.3836 - val_binary_accuracy: 0.9124 - val_precision: 0.9351 - val_recall: 0.8838 - val_mcc: 0.8258\n",
      "Epoch 4/20\n",
      "831/831 [==============================] - 3s 4ms/step - loss: 0.3403 - binary_accuracy: 0.9221 - precision: 0.9027 - recall: 0.9395 - mcc: 0.8450 - val_loss: 0.2986 - val_binary_accuracy: 0.9242 - val_precision: 0.9144 - val_recall: 0.9339 - val_mcc: 0.8486\n",
      "Epoch 5/20\n",
      "831/831 [==============================] - 3s 4ms/step - loss: 0.2724 - binary_accuracy: 0.9312 - precision: 0.9123 - recall: 0.9482 - mcc: 0.8631 - val_loss: 0.2488 - val_binary_accuracy: 0.9311 - val_precision: 0.9304 - val_recall: 0.9300 - val_mcc: 0.8622\n",
      "Epoch 6/20\n",
      "831/831 [==============================] - 3s 4ms/step - loss: 0.2281 - binary_accuracy: 0.9366 - precision: 0.9193 - recall: 0.9520 - mcc: 0.8738 - val_loss: 0.2121 - val_binary_accuracy: 0.9351 - val_precision: 0.9155 - val_recall: 0.9568 - val_mcc: 0.8710\n",
      "Epoch 7/20\n",
      "831/831 [==============================] - 3s 4ms/step - loss: 0.1965 - binary_accuracy: 0.9433 - precision: 0.9275 - recall: 0.9570 - mcc: 0.8870 - val_loss: 0.1903 - val_binary_accuracy: 0.9407 - val_precision: 0.9421 - val_recall: 0.9375 - val_mcc: 0.8814\n",
      "Epoch 8/20\n",
      "831/831 [==============================] - 3s 4ms/step - loss: 0.1730 - binary_accuracy: 0.9479 - precision: 0.9337 - recall: 0.9600 - mcc: 0.8962 - val_loss: 0.1687 - val_binary_accuracy: 0.9435 - val_precision: 0.9260 - val_recall: 0.9625 - val_mcc: 0.8878\n",
      "Epoch 9/20\n",
      "831/831 [==============================] - 3s 4ms/step - loss: 0.1546 - binary_accuracy: 0.9520 - precision: 0.9386 - recall: 0.9633 - mcc: 0.9042 - val_loss: 0.1573 - val_binary_accuracy: 0.9458 - val_precision: 0.9465 - val_recall: 0.9435 - val_mcc: 0.8916\n",
      "Epoch 10/20\n",
      "831/831 [==============================] - 3s 4ms/step - loss: 0.1407 - binary_accuracy: 0.9557 - precision: 0.9437 - recall: 0.9655 - mcc: 0.9115 - val_loss: 0.1434 - val_binary_accuracy: 0.9509 - val_precision: 0.9397 - val_recall: 0.9622 - val_mcc: 0.9020\n",
      "Epoch 11/20\n",
      "831/831 [==============================] - 3s 4ms/step - loss: 0.1292 - binary_accuracy: 0.9581 - precision: 0.9465 - recall: 0.9675 - mcc: 0.9163 - val_loss: 0.1345 - val_binary_accuracy: 0.9531 - val_precision: 0.9413 - val_recall: 0.9652 - val_mcc: 0.9066\n",
      "Epoch 12/20\n",
      "831/831 [==============================] - 3s 4ms/step - loss: 0.1196 - binary_accuracy: 0.9607 - precision: 0.9497 - recall: 0.9696 - mcc: 0.9215 - val_loss: 0.1276 - val_binary_accuracy: 0.9541 - val_precision: 0.9399 - val_recall: 0.9691 - val_mcc: 0.9087\n",
      "Epoch 13/20\n",
      "831/831 [==============================] - 3s 4ms/step - loss: 0.1116 - binary_accuracy: 0.9625 - precision: 0.9527 - recall: 0.9703 - mcc: 0.9251 - val_loss: 0.1225 - val_binary_accuracy: 0.9557 - val_precision: 0.9516 - val_recall: 0.9590 - val_mcc: 0.9115\n",
      "Epoch 14/20\n",
      "831/831 [==============================] - 3s 4ms/step - loss: 0.1049 - binary_accuracy: 0.9646 - precision: 0.9565 - recall: 0.9706 - mcc: 0.9293 - val_loss: 0.1165 - val_binary_accuracy: 0.9569 - val_precision: 0.9475 - val_recall: 0.9661 - val_mcc: 0.9139\n",
      "Epoch 15/20\n",
      "831/831 [==============================] - 3s 4ms/step - loss: 0.0985 - binary_accuracy: 0.9660 - precision: 0.9578 - recall: 0.9722 - mcc: 0.9321 - val_loss: 0.1123 - val_binary_accuracy: 0.9579 - val_precision: 0.9476 - val_recall: 0.9682 - val_mcc: 0.9160\n",
      "Epoch 16/20\n",
      "831/831 [==============================] - 3s 4ms/step - loss: 0.0927 - binary_accuracy: 0.9684 - precision: 0.9595 - recall: 0.9755 - mcc: 0.9369 - val_loss: 0.1091 - val_binary_accuracy: 0.9601 - val_precision: 0.9543 - val_recall: 0.9654 - val_mcc: 0.9203\n",
      "Epoch 17/20\n",
      "831/831 [==============================] - 3s 4ms/step - loss: 0.0884 - binary_accuracy: 0.9694 - precision: 0.9627 - recall: 0.9740 - mcc: 0.9387 - val_loss: 0.1057 - val_binary_accuracy: 0.9599 - val_precision: 0.9512 - val_recall: 0.9684 - val_mcc: 0.9200\n",
      "Epoch 18/20\n",
      "831/831 [==============================] - 3s 4ms/step - loss: 0.0839 - binary_accuracy: 0.9710 - precision: 0.9644 - recall: 0.9758 - mcc: 0.9420 - val_loss: 0.1030 - val_binary_accuracy: 0.9609 - val_precision: 0.9525 - val_recall: 0.9691 - val_mcc: 0.9220\n",
      "Epoch 19/20\n",
      "831/831 [==============================] - 3s 4ms/step - loss: 0.0804 - binary_accuracy: 0.9729 - precision: 0.9668 - recall: 0.9772 - mcc: 0.9457 - val_loss: 0.1022 - val_binary_accuracy: 0.9613 - val_precision: 0.9613 - val_recall: 0.9602 - val_mcc: 0.9225\n",
      "Epoch 20/20\n",
      "831/831 [==============================] - 3s 4ms/step - loss: 0.0771 - binary_accuracy: 0.9742 - precision: 0.9687 - recall: 0.9780 - mcc: 0.9484 - val_loss: 0.0991 - val_binary_accuracy: 0.9623 - val_precision: 0.9586 - val_recall: 0.9652 - val_mcc: 0.9246\n"
     ]
    }
   ],
   "source": [
    "model.compile(loss = tf.keras.losses.BinaryCrossentropy(), \n",
    "              optimizer = tf.keras.optimizers.Adam(learning_rate = 0.001), \n",
    "              metrics = [\n",
    "                  tf.keras.metrics.BinaryAccuracy(),\n",
    "                  tf.keras.metrics.Precision(),\n",
    "                  tf.keras.metrics.Recall(),\n",
    "                  MCC(),\n",
    "              ],\n",
    ")\n",
    "\n",
    "\n",
    "callback = tf.keras.callbacks.EarlyStopping(monitor = \"val_loss\", patience = 10)\n",
    "\n",
    "\n",
    "history = model.fit(\n",
    "        train_text, y_train,\n",
    "        validation_data = (val_text, y_val),\n",
    "        epochs = 20,\n",
    "        callbacks = [callback],\n",
    ")"
   ]
  },
  {
   "cell_type": "code",
   "execution_count": 13,
   "id": "686e26ae",
   "metadata": {},
   "outputs": [
    {
     "data": {
      "text/plain": [
       "{'loss': [0.6791540384292603,\n",
       "  0.5863025188446045,\n",
       "  0.44895297288894653,\n",
       "  0.3444603681564331,\n",
       "  0.27586829662323,\n",
       "  0.2299448847770691,\n",
       "  0.19844463467597961,\n",
       "  0.17451214790344238,\n",
       "  0.1567309945821762,\n",
       "  0.1421961486339569,\n",
       "  0.13084259629249573,\n",
       "  0.12099307030439377,\n",
       "  0.11243470758199692,\n",
       "  0.10510705411434174,\n",
       "  0.09920143336057663,\n",
       "  0.09402090311050415,\n",
       "  0.08993085473775864,\n",
       "  0.08565905690193176,\n",
       "  0.0812714546918869,\n",
       "  0.07843409478664398],\n",
       " 'binary_accuracy': [0.6160303950309753,\n",
       "  0.8701152205467224,\n",
       "  0.9116407036781311,\n",
       "  0.9215043783187866,\n",
       "  0.9286951422691345,\n",
       "  0.9372035264968872,\n",
       "  0.941758930683136,\n",
       "  0.9478201866149902,\n",
       "  0.9514343738555908,\n",
       "  0.9548979997634888,\n",
       "  0.9558015465736389,\n",
       "  0.9593780636787415,\n",
       "  0.9615240097045898,\n",
       "  0.9641216993331909,\n",
       "  0.9659287929534912,\n",
       "  0.9676605463027954,\n",
       "  0.9690535068511963,\n",
       "  0.9705970883369446,\n",
       "  0.9715383052825928,\n",
       "  0.9737971425056458],\n",
       " 'precision': [0.8100719451904297,\n",
       "  0.9012292623519897,\n",
       "  0.8938868045806885,\n",
       "  0.9027401208877563,\n",
       "  0.9102689623832703,\n",
       "  0.9188455939292908,\n",
       "  0.9254239797592163,\n",
       "  0.9331256151199341,\n",
       "  0.9386399984359741,\n",
       "  0.9433009624481201,\n",
       "  0.9436081647872925,\n",
       "  0.948025107383728,\n",
       "  0.9519711136817932,\n",
       "  0.9551469683647156,\n",
       "  0.9573452472686768,\n",
       "  0.9596824049949646,\n",
       "  0.9617136120796204,\n",
       "  0.9638330936431885,\n",
       "  0.9654105305671692,\n",
       "  0.9687475562095642],\n",
       " 'recall': [0.264215886592865,\n",
       "  0.8200234770774841,\n",
       "  0.9263980984687805,\n",
       "  0.937974214553833,\n",
       "  0.945013701915741,\n",
       "  0.9537739753723145,\n",
       "  0.9560422301292419,\n",
       "  0.9604223966598511,\n",
       "  0.9619867205619812,\n",
       "  0.9642549753189087,\n",
       "  0.9658975601196289,\n",
       "  0.9687133431434631,\n",
       "  0.9689480066299438,\n",
       "  0.9710598587989807,\n",
       "  0.9725459814071655,\n",
       "  0.9737191796302795,\n",
       "  0.974501371383667,\n",
       "  0.9755181670188904,\n",
       "  0.9758310317993164,\n",
       "  0.9770824909210205],\n",
       " 'mcc': [0.2839318513870239,\n",
       "  0.7418431639671326,\n",
       "  0.823771059513092,\n",
       "  0.8436058163642883,\n",
       "  0.8579665422439575,\n",
       "  0.8749896287918091,\n",
       "  0.8839424848556519,\n",
       "  0.8959600925445557,\n",
       "  0.9030792117118835,\n",
       "  0.9099504351615906,\n",
       "  0.9117908477783203,\n",
       "  0.9189095497131348,\n",
       "  0.9231261610984802,\n",
       "  0.9283058643341064,\n",
       "  0.9319103360176086,\n",
       "  0.9353577494621277,\n",
       "  0.938127338886261,\n",
       "  0.94120192527771,\n",
       "  0.9430702924728394,\n",
       "  0.9475699067115784],\n",
       " 'val_loss': [0.6492382287979126,\n",
       "  0.5105863809585571,\n",
       "  0.3869187533855438,\n",
       "  0.3016616702079773,\n",
       "  0.2510438859462738,\n",
       "  0.21356140077114105,\n",
       "  0.1885737180709839,\n",
       "  0.1703367531299591,\n",
       "  0.1565878987312317,\n",
       "  0.14448969066143036,\n",
       "  0.13916786015033722,\n",
       "  0.1372128427028656,\n",
       "  0.12260351330041885,\n",
       "  0.12084442377090454,\n",
       "  0.1133909523487091,\n",
       "  0.11045917868614197,\n",
       "  0.10667748004198074,\n",
       "  0.10594286024570465,\n",
       "  0.10184655338525772,\n",
       "  0.10037143528461456],\n",
       " 'val_binary_accuracy': [0.6298847794532776,\n",
       "  0.9076123833656311,\n",
       "  0.9147278070449829,\n",
       "  0.9231985807418823,\n",
       "  0.9298622012138367,\n",
       "  0.9353964328765869,\n",
       "  0.940027117729187,\n",
       "  0.9435283541679382,\n",
       "  0.9473684430122375,\n",
       "  0.9498531818389893,\n",
       "  0.9513214230537415,\n",
       "  0.9496272802352905,\n",
       "  0.9548226594924927,\n",
       "  0.9558391571044922,\n",
       "  0.9576462507247925,\n",
       "  0.9588886499404907,\n",
       "  0.9593403935432434,\n",
       "  0.959227442741394,\n",
       "  0.9625028371810913,\n",
       "  0.9618251919746399],\n",
       " 'val_precision': [0.9963669180870056,\n",
       "  0.8834196925163269,\n",
       "  0.928013265132904,\n",
       "  0.9116466045379639,\n",
       "  0.9298325777053833,\n",
       "  0.9199469089508057,\n",
       "  0.9225181341171265,\n",
       "  0.9362037777900696,\n",
       "  0.9416289329528809,\n",
       "  0.9368046522140503,\n",
       "  0.9539064168930054,\n",
       "  0.9605633616447449,\n",
       "  0.942093551158905,\n",
       "  0.9574614763259888,\n",
       "  0.9497860670089722,\n",
       "  0.955227255821228,\n",
       "  0.9493500590324402,\n",
       "  0.960698664188385,\n",
       "  0.9578231573104858,\n",
       "  0.9596443176269531],\n",
       " 'val_recall': [0.25102975964546204,\n",
       "  0.9363844394683838,\n",
       "  0.8967963457107544,\n",
       "  0.9350114464759827,\n",
       "  0.9279175996780396,\n",
       "  0.9519450664520264,\n",
       "  0.9590389132499695,\n",
       "  0.9503432512283325,\n",
       "  0.9524027705192566,\n",
       "  0.9633867144584656,\n",
       "  0.9471395611763,\n",
       "  0.9363844394683838,\n",
       "  0.9679633975028992,\n",
       "  0.952860414981842,\n",
       "  0.9652174115180969,\n",
       "  0.9617848992347717,\n",
       "  0.9693363904953003,\n",
       "  0.95652174949646,\n",
       "  0.966590404510498,\n",
       "  0.9631578922271729],\n",
       " 'val_mcc': [0.37898680567741394,\n",
       "  0.816764771938324,\n",
       "  0.8298124670982361,\n",
       "  0.8466926217079163,\n",
       "  0.8596993088722229,\n",
       "  0.8713420033454895,\n",
       "  0.8807669878005981,\n",
       "  0.887158215045929,\n",
       "  0.8947917819023132,\n",
       "  0.9000788927078247,\n",
       "  0.9026401042938232,\n",
       "  0.8994836211204529,\n",
       "  0.9099961519241333,\n",
       "  0.911668598651886,\n",
       "  0.9154137372970581,\n",
       "  0.9177919030189514,\n",
       "  0.9188874959945679,\n",
       "  0.9184454083442688,\n",
       "  0.9250397086143494,\n",
       "  0.9236472845077515]}"
      ]
     },
     "execution_count": 13,
     "metadata": {},
     "output_type": "execute_result"
    }
   ],
   "source": [
    "history.history"
   ]
  },
  {
   "cell_type": "code",
   "execution_count": 14,
   "id": "88b3c467",
   "metadata": {},
   "outputs": [],
   "source": [
    "epochs = history.epoch"
   ]
  },
  {
   "cell_type": "code",
   "execution_count": 15,
   "id": "02d88f94",
   "metadata": {},
   "outputs": [
    {
     "data": {
      "text/plain": [
       "range(1, 21)"
      ]
     },
     "execution_count": 15,
     "metadata": {},
     "output_type": "execute_result"
    }
   ],
   "source": [
    "range(1, max(history.epoch) + 2)"
   ]
  },
  {
   "cell_type": "code",
   "execution_count": 16,
   "id": "8af97092",
   "metadata": {},
   "outputs": [
    {
     "data": {
      "image/png": "[encoded data removed]",
      "text/plain": [
       "<Figure size 640x480 with 1 Axes>"
      ]
     },
     "metadata": {},
     "output_type": "display_data"
    }
   ],
   "source": [
    "plt.plot(range(1, max(epochs) + 2), history.history['loss'], \".:\")\n",
    "plt.plot(range(1, max(epochs) + 2), history.history['val_loss'], \".:\")\n",
    "\n",
    "plt.title('Learning curve - loss')\n",
    "plt.legend(['training', 'validation'], loc = \"best\")\n",
    "plt.ylabel(r\"$\\mathrm{loss}$\")\n",
    "plt.xlabel(\"epoch\")\n",
    "plt.xticks(range(1, max(epochs) + 2))\n",
    "plt.show()"
   ]
  },
  {
   "cell_type": "code",
   "execution_count": 17,
   "id": "b1e9bf28",
   "metadata": {},
   "outputs": [
    {
     "data": {
      "image/png": "[encoded data removed]",
      "text/plain": [
       "<Figure size 640x480 with 1 Axes>"
      ]
     },
     "metadata": {},
     "output_type": "display_data"
    }
   ],
   "source": [
    "plt.plot(range(1, max(epochs) + 2), history.history['binary_accuracy'], \".:\")\n",
    "plt.plot(range(1, max(epochs) + 2), history.history['val_binary_accuracy'], \".:\")\n",
    "\n",
    "plt.title('Training and validation binary accuracy')\n",
    "plt.legend(['training', 'validation'], loc = \"best\")\n",
    "plt.ylabel(\"binary accuracy\")\n",
    "plt.xlabel(\"epoch\")\n",
    "plt.xticks(range(1, max(epochs) + 2))\n",
    "plt.show()"
   ]
  },
  {
   "cell_type": "code",
   "execution_count": 18,
   "id": "98b92f72",
   "metadata": {},
   "outputs": [
    {
     "data": {
      "image/png": "[encoded data removed]",
      "text/plain": [
       "<Figure size 640x480 with 1 Axes>"
      ]
     },
     "metadata": {},
     "output_type": "display_data"
    }
   ],
   "source": [
    "plt.plot(range(1, max(epochs) + 2), history.history['mcc'], \".:\")\n",
    "plt.plot(range(1, max(epochs) + 2), history.history['val_mcc'], \".:\")\n",
    "\n",
    "plt.title('Training and validation MCC')\n",
    "plt.legend(['training', 'validation'], loc = \"best\")\n",
    "plt.ylabel(\"mcc\")\n",
    "plt.xlabel(\"epoch\")\n",
    "plt.xticks(range(1, max(epochs) + 2))\n",
    "plt.show()"
   ]
  },
  {
   "cell_type": "markdown",
   "id": "348144b4",
   "metadata": {},
   "source": [
    "###### model performance on the test set"
   ]
  },
  {
   "cell_type": "code",
   "execution_count": 19,
   "id": "010c1e45",
   "metadata": {},
   "outputs": [
    {
     "name": "stdout",
     "output_type": "stream",
     "text": [
      "277/277 [==============================] - 0s 1ms/step\n"
     ]
    }
   ],
   "source": [
    "y_pred = model.predict(test_text)"
   ]
  },
  {
   "cell_type": "code",
   "execution_count": 20,
   "id": "a96fa2cc",
   "metadata": {},
   "outputs": [
    {
     "data": {
      "text/plain": [
       "(8855, 1)"
      ]
     },
     "execution_count": 20,
     "metadata": {},
     "output_type": "execute_result"
    }
   ],
   "source": [
    "y_pred.shape"
   ]
  },
  {
   "cell_type": "code",
   "execution_count": 21,
   "id": "374b1f6b",
   "metadata": {},
   "outputs": [
    {
     "data": {
      "text/plain": [
       "array([[False],\n",
       "       [False],\n",
       "       [ True],\n",
       "       ...,\n",
       "       [ True],\n",
       "       [False],\n",
       "       [ True]])"
      ]
     },
     "execution_count": 21,
     "metadata": {},
     "output_type": "execute_result"
    }
   ],
   "source": [
    "y_pred > 0.5"
   ]
  },
  {
   "cell_type": "code",
   "execution_count": 22,
   "id": "d649079d",
   "metadata": {},
   "outputs": [
    {
     "name": "stdout",
     "output_type": "stream",
     "text": [
      "277/277 [==============================] - 0s 1ms/step - loss: 0.0999 - binary_accuracy: 0.9641 - precision: 0.9614 - recall: 0.9641 - mcc: 0.9281\n"
     ]
    }
   ],
   "source": [
    "evaluation = model.evaluate(x = test_text, y = y_test, return_dict = True)"
   ]
  },
  {
   "cell_type": "code",
   "execution_count": 23,
   "id": "85524b09",
   "metadata": {},
   "outputs": [
    {
     "data": {
      "text/plain": [
       "dict_items([('loss', 0.09994752705097198), ('binary_accuracy', 0.9640880823135376), ('precision', 0.9613854289054871), ('recall', 0.9640929102897644), ('mcc', 0.9280852675437927)])"
      ]
     },
     "execution_count": 23,
     "metadata": {},
     "output_type": "execute_result"
    }
   ],
   "source": [
    "evaluation.items()"
   ]
  },
  {
   "cell_type": "code",
   "execution_count": 24,
   "id": "2fa9aef8",
   "metadata": {},
   "outputs": [
    {
     "name": "stdout",
     "output_type": "stream",
     "text": [
      "loss: 0.0999\n",
      "binary_accuracy: 0.9641\n",
      "precision: 0.9614\n",
      "recall: 0.9641\n",
      "mcc: 0.9281\n"
     ]
    }
   ],
   "source": [
    "for metric, value in evaluation.items():\n",
    "    print(f\"{metric}: {value:.4f}\")"
   ]
  },
  {
   "cell_type": "code",
   "execution_count": null,
   "id": "db87828c",
   "metadata": {},
   "outputs": [],
   "source": []
  },
  {
   "cell_type": "code",
   "execution_count": null,
   "id": "3e46e70c",
   "metadata": {},
   "outputs": [],
   "source": []
  }
 ],
 "metadata": {
  "kernelspec": {
   "display_name": "Python 3 (ipykernel)",
   "language": "python",
   "name": "python3"
  },
  "language_info": {
   "codemirror_mode": {
    "name": "ipython",
    "version": 3
   },
   "file_extension": ".py",
   "mimetype": "text/x-python",
   "name": "python",
   "nbconvert_exporter": "python",
   "pygments_lexer": "ipython3",
   "version": "3.9.13"
  }
 },
 "nbformat": 4,
 "nbformat_minor": 5
}
